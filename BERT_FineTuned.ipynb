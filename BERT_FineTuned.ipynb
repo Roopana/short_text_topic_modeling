{
  "nbformat": 4,
  "nbformat_minor": 0,
  "metadata": {
    "colab": {
      "name": "BERT_FineTuned.ipynb",
      "provenance": [],
      "collapsed_sections": [],
      "authorship_tag": "ABX9TyP3vDCVzizJB4EsxiG/MqvJ",
      "include_colab_link": true
    },
    "kernelspec": {
      "name": "python3",
      "display_name": "Python 3"
    },
    "accelerator": "GPU"
  },
  "cells": [
    {
      "cell_type": "markdown",
      "metadata": {
        "id": "view-in-github",
        "colab_type": "text"
      },
      "source": [
        "<a href=\"https://colab.research.google.com/github/Roopana/short_text_topic_modeling/blob/master/BERT_FineTuned.ipynb\" target=\"_parent\"><img src=\"https://colab.research.google.com/assets/colab-badge.svg\" alt=\"Open In Colab\"/></a>"
      ]
    },
    {
      "cell_type": "code",
      "metadata": {
        "id": "g0js6FkReDxH",
        "colab_type": "code",
        "colab": {
          "base_uri": "https://localhost:8080/"
        },
        "outputId": "55cf82ed-3dc6-4669-e7fd-d02c40719839"
      },
      "source": [
        "#Confirm that GPU is detected\n",
        "import tensorflow as tf\n",
        "# Get the GPU device name.\n",
        "device_name = tf.test.gpu_device_name()\n",
        "# The device name should look like the following:\n",
        "if device_name == '/device:GPU:0':\n",
        "    print('Found GPU at: {}'.format(device_name))\n",
        "else:\n",
        "    raise SystemError('GPU device not found')"
      ],
      "execution_count": 437,
      "outputs": [
        {
          "output_type": "stream",
          "text": [
            "Found GPU at: /device:GPU:0\n"
          ],
          "name": "stdout"
        }
      ]
    },
    {
      "cell_type": "code",
      "metadata": {
        "id": "pcxJDqIzUpVX",
        "colab_type": "code",
        "colab": {}
      },
      "source": [
        "import os\n",
        "\n",
        "CUDA_LAUNCH_BLOCKING=1\n",
        "os.environ['CUDA_LAUNCH_BLOCKING'] = '1'"
      ],
      "execution_count": 438,
      "outputs": []
    },
    {
      "cell_type": "markdown",
      "metadata": {
        "id": "7Y0GAwWze4an",
        "colab_type": "text"
      },
      "source": [
        "In order for torch to use the GPU, we need to identify and specify the GPU as the device. Later, in our training loop, we will load data onto the device."
      ]
    },
    {
      "cell_type": "code",
      "metadata": {
        "id": "Iw86lColeSd8",
        "colab_type": "code",
        "colab": {
          "base_uri": "https://localhost:8080/",
          "height": 51
        },
        "outputId": "adea65e5-3f30-47cc-cfdf-9d944104efae"
      },
      "source": [
        "import torch\n",
        "# If there's a GPU available...\n",
        "if torch.cuda.is_available():    \n",
        "    # Tell PyTorch to use the GPU.    \n",
        "    device = torch.device(\"cuda\")\n",
        "    print('There are %d GPU(s) available.' % torch.cuda.device_count())\n",
        "    print('We will use the GPU:', torch.cuda.get_device_name(0))\n",
        "# If not...\n",
        "else:\n",
        "    print('No GPU available, using the CPU instead.')\n",
        "    device = torch.device(\"cpu\")"
      ],
      "execution_count": 439,
      "outputs": [
        {
          "output_type": "stream",
          "text": [
            "There are 1 GPU(s) available.\n",
            "We will use the GPU: Tesla T4\n"
          ],
          "name": "stdout"
        }
      ]
    },
    {
      "cell_type": "code",
      "metadata": {
        "id": "Lkcj_vj8e6_N",
        "colab_type": "code",
        "colab": {
          "base_uri": "https://localhost:8080/",
          "height": 360
        },
        "outputId": "34e84e76-e225-4b2b-b988-1fb332c669f4"
      },
      "source": [
        "!pip install transformers"
      ],
      "execution_count": 440,
      "outputs": [
        {
          "output_type": "stream",
          "text": [
            "Requirement already satisfied: transformers in /usr/local/lib/python3.6/dist-packages (3.0.2)\n",
            "Requirement already satisfied: dataclasses; python_version < \"3.7\" in /usr/local/lib/python3.6/dist-packages (from transformers) (0.7)\n",
            "Requirement already satisfied: tokenizers==0.8.1.rc1 in /usr/local/lib/python3.6/dist-packages (from transformers) (0.8.1rc1)\n",
            "Requirement already satisfied: requests in /usr/local/lib/python3.6/dist-packages (from transformers) (2.23.0)\n",
            "Requirement already satisfied: sentencepiece!=0.1.92 in /usr/local/lib/python3.6/dist-packages (from transformers) (0.1.91)\n",
            "Requirement already satisfied: sacremoses in /usr/local/lib/python3.6/dist-packages (from transformers) (0.0.43)\n",
            "Requirement already satisfied: tqdm>=4.27 in /usr/local/lib/python3.6/dist-packages (from transformers) (4.41.1)\n",
            "Requirement already satisfied: numpy in /usr/local/lib/python3.6/dist-packages (from transformers) (1.18.5)\n",
            "Requirement already satisfied: packaging in /usr/local/lib/python3.6/dist-packages (from transformers) (20.4)\n",
            "Requirement already satisfied: regex!=2019.12.17 in /usr/local/lib/python3.6/dist-packages (from transformers) (2019.12.20)\n",
            "Requirement already satisfied: filelock in /usr/local/lib/python3.6/dist-packages (from transformers) (3.0.12)\n",
            "Requirement already satisfied: urllib3!=1.25.0,!=1.25.1,<1.26,>=1.21.1 in /usr/local/lib/python3.6/dist-packages (from requests->transformers) (1.24.3)\n",
            "Requirement already satisfied: idna<3,>=2.5 in /usr/local/lib/python3.6/dist-packages (from requests->transformers) (2.10)\n",
            "Requirement already satisfied: chardet<4,>=3.0.2 in /usr/local/lib/python3.6/dist-packages (from requests->transformers) (3.0.4)\n",
            "Requirement already satisfied: certifi>=2017.4.17 in /usr/local/lib/python3.6/dist-packages (from requests->transformers) (2020.6.20)\n",
            "Requirement already satisfied: click in /usr/local/lib/python3.6/dist-packages (from sacremoses->transformers) (7.1.2)\n",
            "Requirement already satisfied: six in /usr/local/lib/python3.6/dist-packages (from sacremoses->transformers) (1.15.0)\n",
            "Requirement already satisfied: joblib in /usr/local/lib/python3.6/dist-packages (from sacremoses->transformers) (0.16.0)\n",
            "Requirement already satisfied: pyparsing>=2.0.2 in /usr/local/lib/python3.6/dist-packages (from packaging->transformers) (2.4.7)\n"
          ],
          "name": "stdout"
        }
      ]
    },
    {
      "cell_type": "code",
      "metadata": {
        "id": "W42_2PYqCgH7",
        "colab_type": "code",
        "colab": {
          "base_uri": "https://localhost:8080/"
        },
        "outputId": "54cc8389-a382-49b8-c496-bcf6257f8ecb"
      },
      "source": [
        "import pandas as pd\n",
        "\n",
        "df_2 = pd.read_csv(\"./2_man_ann_sb.csv\",  index_col= None)\n",
        "df_2 = df_2.dropna(subset = ['tweet_text'])\n",
        "\n",
        "df_1 = pd.read_csv(\"./mann_ann_sb.csv\", index_col= None)\n",
        "\n",
        "\n",
        "df_3 = pd.read_csv(\"./3_man_ann_sb_full_1.csv\", index_col = None)\n",
        "df_3 = df_3.dropna(subset = ['tweet_text'])\n",
        "\n",
        "df = df_1.append(df_2).append(df_3) # using batch 1 and batch 2 for training\n",
        "\n",
        "all_tweets = df_1.append(df_2).append(df_3)\n",
        "print(all_tweets.shape)\n",
        "df.shape"
      ],
      "execution_count": 441,
      "outputs": [
        {
          "output_type": "stream",
          "text": [
            "(7500, 19)\n"
          ],
          "name": "stdout"
        },
        {
          "output_type": "execute_result",
          "data": {
            "text/plain": [
              "(7500, 19)"
            ]
          },
          "metadata": {
            "tags": []
          },
          "execution_count": 441
        }
      ]
    },
    {
      "cell_type": "code",
      "metadata": {
        "id": "XZBd9hvF28UI",
        "colab_type": "code",
        "colab": {
          "base_uri": "https://localhost:8080/",
          "height": 85
        },
        "outputId": "af88da2a-df90-4e48-defe-056edb976512"
      },
      "source": [
        "from nltk.corpus import stopwords\n",
        "import re\n",
        "import nltk\n",
        "nltk.download('stopwords')\n",
        "\n",
        "stop = stopwords.words('english')\n",
        "# stop.append('superbowl')\n",
        "# stop.append('super')\n",
        "# stop.append('bowl')\n",
        "# stop.append('commercial')\n",
        "# stop.append('ad')\n",
        "# stop.append('commercials')\n",
        "# stop.append('ads')\n",
        "print(len(stop))\n",
        "\n",
        "def removeMentions(text):\n",
        "\n",
        "    textBeforeMention = text.partition(\"@\")[0]\n",
        "    textAfterMention = text.partition(\"@\")[2]\n",
        "    textAfterMention =  re.sub(r':', '', textAfterMention) #cadillac join the 31k\n",
        "    tHandle = textAfterMention.partition(\" \")[0].lower() #cadillac    \n",
        "    text = textBeforeMention+ \" \" + textAfterMention  \n",
        "    return text\n",
        "\n",
        "def cleanTweet(strinp):\n",
        "    strinp = re.sub(r'RT', \"\", strinp) # Remove RT\n",
        "    strinp = strinp.lower()\n",
        "    \n",
        "    stop_removed_list = [word for word in strinp.split() if word not in (stop)]\n",
        "    stop_removed = ' '.join([str(elem) for elem in stop_removed_list])    \n",
        "    text = re.sub('https?://[A-Za-z0-9./]+', ' ', stop_removed) # Remove URLs\n",
        "    text = removeMentions(text)\n",
        "    text = re.sub('[^\\x00-\\x7F]+', ' ', text) # Remove non-ASCII chars.\n",
        "    \n",
        "    # remove punctuations except '-'\n",
        "    punctuation = ['(', ')', '[',']','?', ':', ':', ',', '.', '!', '/', '\"', \"'\", '@', '#', '&', '-', '_']\n",
        "    text = \"\".join((char for char in text if char not in punctuation))\n",
        "    text = re.sub('[^a-zA-Z]', ' ', text) # remove all other than alphabet chars \n",
        "\n",
        "#     text = re.sub(r'\\s+[a-zA-Z]\\s+', ' ', text) # remove all single characters     \n",
        "    stop_removed_l = [word for word in text.split() if word not in (stop)]\n",
        "    stop_removed = ' '.join([str(elem) for elem in stop_removed_l]) \n",
        "    return stop_removed\n",
        "\n",
        "print(cleanTweet(\"RT @cadillacabc: Joinrt the 31K james_bond\") )"
      ],
      "execution_count": 442,
      "outputs": [
        {
          "output_type": "stream",
          "text": [
            "[nltk_data] Downloading package stopwords to /root/nltk_data...\n",
            "[nltk_data]   Package stopwords is already up-to-date!\n",
            "179\n",
            "cadillacabc joinrt k jamesbond\n"
          ],
          "name": "stdout"
        }
      ]
    },
    {
      "cell_type": "code",
      "metadata": {
        "id": "3hNx_DQu3khZ",
        "colab_type": "code",
        "colab": {}
      },
      "source": [
        "df['text_clean'] = df['tweet_text'].apply(lambda x: cleanTweet(x))\n",
        "# df['text_clean'] = df['tweet_text']\n",
        "df['ad_manual_adjusted'] = df['ad_manual_adjusted'].apply(lambda x: x.lower())\n",
        "df['ad_related'] = df['ad_manual_adjusted'].apply(lambda ad: 0 if ad == 'none' else 1)"
      ],
      "execution_count": 443,
      "outputs": []
    },
    {
      "cell_type": "code",
      "metadata": {
        "id": "7GHHkCjj-K6Z",
        "colab_type": "code",
        "colab": {
          "base_uri": "https://localhost:8080/"
        },
        "outputId": "a2a4ecf6-16aa-44c0-e25b-72111331c7de"
      },
      "source": [
        "# use column name 'ad_manual_adjusted' of df to \n",
        "def get_ad_related_twts(df, removeCommas = True):\n",
        "  df['ad_manual_adjusted'] = df['ad_manual_adjusted'].apply(lambda x: x.lower())\n",
        "  ad_filter = df['ad_manual_adjusted']!= 'none'\n",
        "  ad_related_twts = df[ad_filter]\n",
        "  if removeCommas:\n",
        "    ad_filter_1 = ~ad_related_twts['ad_manual_adjusted'].str.contains(',')\n",
        "    ad_related_twts = ad_related_twts[ad_filter_1]\n",
        "  return ad_related_twts\n",
        "\n",
        "def get_ad_id_dict(ad_related_twts): \n",
        "  n_ad_related = ad_related_twts.shape[0]\n",
        "  print(\"# ad related tweets: \"+ str(n_ad_related))\n",
        "  n_unique_ads = len(set(ad_related_twts['ad_manual_adjusted']))\n",
        "  print(\"# distinct ads:\"+ str(n_unique_ads))\n",
        "\n",
        "  ads_annotated = ad_related_twts.ad_manual_adjusted.values\n",
        "  adset = set(ads_annotated)\n",
        "  print(\"unique ads:\"+ str(len(adset)))\n",
        "  print(adset)\n",
        "  ad_id_dict = {}\n",
        "  i = 0\n",
        "  for ad in adset: \n",
        "    ad_id_dict[ad] = i\n",
        "    i = i+1\n",
        "  print(ad_id_dict)\n",
        "  return ad_id_dict\n",
        "\n",
        "ad_related_twts = get_ad_related_twts(df)\n",
        "\n",
        "ad_id_dict = get_ad_id_dict(get_ad_related_twts(all_tweets))\n",
        "n_unique_ads = len(ad_id_dict)\n",
        "ad_related_twts['ad_manual_adjusted_id'] = ad_related_twts['ad_manual_adjusted'].apply(lambda x: ad_id_dict[x])\n"
      ],
      "execution_count": 444,
      "outputs": [
        {
          "output_type": "stream",
          "text": [
            "# ad related tweets: 3335\n",
            "# distinct ads:87\n",
            "unique ads:87\n",
            "{'fox  a run at history  daytona 500', 'jeep  groundhog day [t1]', 'tide  bud knight', 'mountain dew', 'secret', 'bernie the peoples perfume', 'hyundai  smaht pahk', 'michelob  jimmy works it out', 'michael bloomberg', 'hulu  tom brady s big announcement', 'marvel  black widow trailer', 'verizon  the amazing things 5g won t do', 'hard rock hotels & casinos  bling cup', 't-mobile  mama tests 5g', 'porsche  the heist', 'joe bieden', 'nfl100', 'amazon prime video  hunters', 'fox  halftime show  teaser_2', 'disney mulan', 'bud light seltzer  posty store  inside post s brain', \"bush's best\", 'procter & gamble  when we come together', 'avocados from mexico  the avocados from mexico shopping network', 'olay  make space for women', 'fox  halftime show  teaser_1', 'weathertech  lucky dog', 'kia  tough never quits', 'fast & furious 9  trailer', 'dashlane', 'pringles  the infinite dimensions of rick and morty', 'hummer  gmc  quiet revolution', 'rocket mortgage  home', 'fox nation  breaking news', 'facebook  ready to rock?', 'fox  halftime show  teaser_3', 'golden gronks', 'fox  chosen  lego masters', 'amazon echo  before alexa', 'pepsi zero sugar  zero sugar. done right.', 'snickers  fix the world', 'sabra  how do you  mmus?', 'michelob  6 for 6-pack', 'reese s  rock', 'mike bloomberg', 'bakari', 'audi  let it go [t1]', 'doritos  the cool ranch', 'little caesars pizza  best thing since sliced bread', \"discover card  yes we're accepted\", 'heinz ketchup  find the goodness  four at once', 'pizzahut', 'doritos the cool ranch', 'new york life  love takes action', 'quibi  bank heist', 'fox  toads  the masked singer', 'genesis  going away party', 'cheetos  can t touch this', 'no time to die  trailer', 'budweiser typical american', 'papa johns', 'ram trucks', 'pop-tarts  pop-tarts fixed the pretzel commercial', 'discover card  yes we’re accepted', 'walmart  famous visitors', 'ragged old flag', 'toyota  heroes', 'nfl  inspire change  anquan boldin', 'guitar hero', 'disney+  it s time', 'tide  finally later', 'fox  super monday', 'patience', 'squarespace  winona in winona', 'scientology', 'microsoft surface  be the one', 'discover card  no we don‚äôt charge annual fees', 'tide', 'planters  baby funeral', 'coca-cola energy  show up', 'fox  great american race', 'commercials', 'google assistant  loretta', 'budweiser  typical american', 'donald j. trump for president  criminal justice reform', 'joe biden', 'turbotax  turbotax  all people are tax people remix'}\n",
            "{'fox  a run at history  daytona 500': 0, 'jeep  groundhog day [t1]': 1, 'tide  bud knight': 2, 'mountain dew': 3, 'secret': 4, 'bernie the peoples perfume': 5, 'hyundai  smaht pahk': 6, 'michelob  jimmy works it out': 7, 'michael bloomberg': 8, 'hulu  tom brady s big announcement': 9, 'marvel  black widow trailer': 10, 'verizon  the amazing things 5g won t do': 11, 'hard rock hotels & casinos  bling cup': 12, 't-mobile  mama tests 5g': 13, 'porsche  the heist': 14, 'joe bieden': 15, 'nfl100': 16, 'amazon prime video  hunters': 17, 'fox  halftime show  teaser_2': 18, 'disney mulan': 19, 'bud light seltzer  posty store  inside post s brain': 20, \"bush's best\": 21, 'procter & gamble  when we come together': 22, 'avocados from mexico  the avocados from mexico shopping network': 23, 'olay  make space for women': 24, 'fox  halftime show  teaser_1': 25, 'weathertech  lucky dog': 26, 'kia  tough never quits': 27, 'fast & furious 9  trailer': 28, 'dashlane': 29, 'pringles  the infinite dimensions of rick and morty': 30, 'hummer  gmc  quiet revolution': 31, 'rocket mortgage  home': 32, 'fox nation  breaking news': 33, 'facebook  ready to rock?': 34, 'fox  halftime show  teaser_3': 35, 'golden gronks': 36, 'fox  chosen  lego masters': 37, 'amazon echo  before alexa': 38, 'pepsi zero sugar  zero sugar. done right.': 39, 'snickers  fix the world': 40, 'sabra  how do you  mmus?': 41, 'michelob  6 for 6-pack': 42, 'reese s  rock': 43, 'mike bloomberg': 44, 'bakari': 45, 'audi  let it go [t1]': 46, 'doritos  the cool ranch': 47, 'little caesars pizza  best thing since sliced bread': 48, \"discover card  yes we're accepted\": 49, 'heinz ketchup  find the goodness  four at once': 50, 'pizzahut': 51, 'doritos the cool ranch': 52, 'new york life  love takes action': 53, 'quibi  bank heist': 54, 'fox  toads  the masked singer': 55, 'genesis  going away party': 56, 'cheetos  can t touch this': 57, 'no time to die  trailer': 58, 'budweiser typical american': 59, 'papa johns': 60, 'ram trucks': 61, 'pop-tarts  pop-tarts fixed the pretzel commercial': 62, 'discover card  yes we’re accepted': 63, 'walmart  famous visitors': 64, 'ragged old flag': 65, 'toyota  heroes': 66, 'nfl  inspire change  anquan boldin': 67, 'guitar hero': 68, 'disney+  it s time': 69, 'tide  finally later': 70, 'fox  super monday': 71, 'patience': 72, 'squarespace  winona in winona': 73, 'scientology': 74, 'microsoft surface  be the one': 75, 'discover card  no we don‚äôt charge annual fees': 76, 'tide': 77, 'planters  baby funeral': 78, 'coca-cola energy  show up': 79, 'fox  great american race': 80, 'commercials': 81, 'google assistant  loretta': 82, 'budweiser  typical american': 83, 'donald j. trump for president  criminal justice reform': 84, 'joe biden': 85, 'turbotax  turbotax  all people are tax people remix': 86}\n"
          ],
          "name": "stdout"
        }
      ]
    },
    {
      "cell_type": "code",
      "metadata": {
        "id": "OMKdZdM69-H6",
        "colab_type": "code",
        "colab": {
          "base_uri": "https://localhost:8080/"
        },
        "outputId": "770b87e4-deb3-4d86-8760-c37e3609e1a3"
      },
      "source": [
        "# train test split for multi class classification\n",
        "n_ad_related = ad_related_twts.shape[0]\n",
        "train_size = int(0.8*n_ad_related)\n",
        "test_size = n_ad_related - train_size\n",
        "                \n",
        "# Get the lists of sentences and their labels.\n",
        "sentences = ad_related_twts.iloc[0:train_size].text_clean.values\n",
        "labels = ad_related_twts.iloc[0:train_size].ad_manual_adjusted_id.values\n",
        "\n",
        "test_data = ad_related_twts.iloc[train_size:n_ad_related+1]\n",
        "test_data['ad_manual_adjusted_id'] = test_data['ad_manual_adjusted'].apply(lambda x: ad_id_dict[x])\n",
        "\n",
        "test_size = test_data.shape[0]\n",
        "print(\"train size: \"+ str(train_size)+\" test size: \"+str(test_size))\n",
        "                "
      ],
      "execution_count": 445,
      "outputs": [
        {
          "output_type": "stream",
          "text": [
            "train size: 2668 test size: 667\n"
          ],
          "name": "stdout"
        },
        {
          "output_type": "stream",
          "text": [
            "/usr/local/lib/python3.6/dist-packages/ipykernel_launcher.py:11: SettingWithCopyWarning: \n",
            "A value is trying to be set on a copy of a slice from a DataFrame.\n",
            "Try using .loc[row_indexer,col_indexer] = value instead\n",
            "\n",
            "See the caveats in the documentation: https://pandas.pydata.org/pandas-docs/stable/user_guide/indexing.html#returning-a-view-versus-a-copy\n",
            "  # This is added back by InteractiveShellApp.init_path()\n"
          ],
          "name": "stderr"
        }
      ]
    },
    {
      "cell_type": "code",
      "metadata": {
        "id": "-O-HDfPm0yUz",
        "colab_type": "code",
        "colab": {
          "base_uri": "https://localhost:8080/"
        },
        "outputId": "09863ddf-390d-4a8a-f6f8-11232c0640af"
      },
      "source": [
        "# train test split for Binary classification\n",
        "binary_train_size = int(0.8*df.shape[0])\n",
        "binary_test_size = df.shape[0] - binary_train_size\n",
        "                \n",
        "# Get the lists of sentences and their labels.\n",
        "binary_sentences = df.iloc[0:binary_train_size].text_clean.values\n",
        "binary_labels = df.iloc[0:binary_train_size].ad_related.values\n",
        "print(binary_labels.shape)\n",
        "binary_test_data = df.iloc[binary_train_size:df.shape[0]+1]\n",
        "\n",
        "binary_test_size = binary_test_data.shape[0]\n",
        "print(\"train size: \"+ str(binary_train_size)+\" test size: \"+str(binary_test_size))"
      ],
      "execution_count": 446,
      "outputs": [
        {
          "output_type": "stream",
          "text": [
            "(6000,)\n",
            "train size: 6000 test size: 1500\n"
          ],
          "name": "stdout"
        }
      ]
    },
    {
      "cell_type": "code",
      "metadata": {
        "id": "qNJQwfFxlKWB",
        "colab_type": "code",
        "colab": {}
      },
      "source": [
        "classType = 'multilabel'"
      ],
      "execution_count": 447,
      "outputs": []
    },
    {
      "cell_type": "markdown",
      "metadata": {
        "id": "XYEXu9YH02QF",
        "colab_type": "text"
      },
      "source": [
        "Transform our dataset into the format that BERT can be trained on"
      ]
    },
    {
      "cell_type": "code",
      "metadata": {
        "id": "qHQ4bb-SiFyt",
        "colab_type": "code",
        "colab": {
          "base_uri": "https://localhost:8080/",
          "height": 51
        },
        "outputId": "81b0fa59-9667-4972-e6f4-34362b242709"
      },
      "source": [
        "from transformers import BertTokenizer\n",
        "# Load the BERT tokenizer.\n",
        "tokenizer = BertTokenizer.from_pretrained('bert-base-uncased', do_lower_case=True)\n",
        "print('Loaded BERT tokenizer.')\n",
        "vocab_tokens = list(tokenizer.vocab.keys())\n",
        "print(\"Original Vocab size: \" + str(len(vocab_tokens)))\n"
      ],
      "execution_count": 448,
      "outputs": [
        {
          "output_type": "stream",
          "text": [
            "Loaded BERT tokenizer.\n",
            "Original Vocab size: 30522\n"
          ],
          "name": "stdout"
        }
      ]
    },
    {
      "cell_type": "code",
      "metadata": {
        "id": "VBEqDuxy5L9M",
        "colab_type": "code",
        "colab": {
          "base_uri": "https://localhost:8080/",
          "height": 68
        },
        "outputId": "1d672dce-b591-4bb4-d18f-d38baba73d6d"
      },
      "source": [
        "import nltk\n",
        "nltk.download('wordnet')"
      ],
      "execution_count": 449,
      "outputs": [
        {
          "output_type": "stream",
          "text": [
            "[nltk_data] Downloading package wordnet to /root/nltk_data...\n",
            "[nltk_data]   Package wordnet is already up-to-date!\n"
          ],
          "name": "stdout"
        },
        {
          "output_type": "execute_result",
          "data": {
            "text/plain": [
              "True"
            ]
          },
          "metadata": {
            "tags": []
          },
          "execution_count": 449
        }
      ]
    },
    {
      "cell_type": "code",
      "metadata": {
        "id": "yTTLNCzx-_SZ",
        "colab_type": "code",
        "colab": {
          "base_uri": "https://localhost:8080/",
          "height": 34
        },
        "outputId": "b87b6565-54ba-48c8-fcfb-38b8f7142f7e"
      },
      "source": [
        "from nltk.stem import WordNetLemmatizer\n",
        "wordnet_lemmatizer = WordNetLemmatizer()\n",
        "\n",
        "def get_lemmatize_words(plural_words):\n",
        "  sing_words = []\n",
        "  for word in plural_words:\n",
        "    sing_words.append(wordnet_lemmatizer.lemmatize(word))\n",
        "  return sing_words\n",
        "\n",
        "words = [\"apples\", \"sheep\", \"oranges\", \"cats\", \"people\", \"dice\", \"pence\", \"trump\"]\n",
        "lem_words = get_lemmatize_words(words)\n",
        "print(lem_words)"
      ],
      "execution_count": 450,
      "outputs": [
        {
          "output_type": "stream",
          "text": [
            "['apple', 'sheep', 'orange', 'cat', 'people', 'dice', 'penny', 'trump']\n"
          ],
          "name": "stdout"
        }
      ]
    },
    {
      "cell_type": "code",
      "metadata": {
        "id": "m9jIosZIyN7a",
        "colab_type": "code",
        "colab": {
          "base_uri": "https://localhost:8080/"
        },
        "outputId": "85dc4ca7-5455-40f3-fd03-edb2de69f9b8"
      },
      "source": [
        "def load_ad_data():\n",
        "  ad_keywords = pd.read_csv('./SB_ad_annotations.csv')\n",
        "  print(ad_keywords.columns)\n",
        "  ad_keywords['keywords_clean'] = ad_keywords['Key Terms  Round 1'].apply(lambda x: cleanTweet(x))\n",
        "  return ad_keywords\n",
        "\n",
        "def get_keys_to_add(ad_keywords):\n",
        "  ad_keywords = pd.read_csv('./SB_ad_annotations.csv')\n",
        "  print(ad_keywords.columns)\n",
        "  ad_keywords['keywords_clean'] = ad_keywords['Key Terms  Round 1'].apply(lambda x: cleanTweet(x)).apply(lambda x: x.split())\n",
        "  ad_keys_clean = [word for tweet in ad_keywords['keywords_clean'] for word in tweet]\n",
        "  ad_brands = ad_keywords['Brand Name'].apply(lambda x: cleanTweet(x)).apply(lambda x: x.split())\n",
        "  ad_brands = [word for tweet in ad_brands for word in tweet]\n",
        "  print(\"ad brands\"+ str(ad_brands))\n",
        "  ad_names = ad_keywords['Ad Name'].apply(lambda x: cleanTweet(x)).apply(lambda x: x.split())\n",
        "  ad_names = [word for tweet in ad_names for word in tweet]\n",
        "  product_names = ad_keywords['Product'].apply(lambda x: cleanTweet(x)).apply(lambda x: x.split())\n",
        "  product_names = [word for tweet in product_names for word in tweet]\n",
        "  keys_to_add = []\n",
        "  keys_to_add.extend(ad_keys_clean)\n",
        "  keys_to_add.extend(ad_brands)\n",
        "  keys_to_add.extend(ad_names)\n",
        "  keys_to_add.extend(product_names)\n",
        "  print(len(keys_to_add))\n",
        "  keys_to_add = list(set(keys_to_add))\n",
        "  print(len(keys_to_add))\n",
        "  return keys_to_add\n",
        "\n",
        "ad_keywords = load_ad_data()\n",
        "keys_to_add_raw = get_keys_to_add(ad_keywords)\n",
        "print(keys_to_add_raw)\n",
        "keys_to_add = get_lemmatize_words(keys_to_add_raw) # to make plurals to singular words\n",
        "print(keys_to_add)\n"
      ],
      "execution_count": 451,
      "outputs": [
        {
          "output_type": "stream",
          "text": [
            "Index(['Ad Number', 'Brand Name', 'Ad Name', 'Product', 'Key Terms  Round 1',\n",
            "       'KeyTerms_Edited_1', 'KeyTerms_Edited', 'Excitatory Potential',\n",
            "       'Emotional vs. Rational', 'Semantic Affinity', 'Valence', 'Unnamed: 11',\n",
            "       'Unnamed: 12', 'Unnamed: 13'],\n",
            "      dtype='object')\n",
            "Index(['Ad Number', 'Brand Name', 'Ad Name', 'Product', 'Key Terms  Round 1',\n",
            "       'KeyTerms_Edited_1', 'KeyTerms_Edited', 'Excitatory Potential',\n",
            "       'Emotional vs. Rational', 'Semantic Affinity', 'Valence', 'Unnamed: 11',\n",
            "       'Unnamed: 12', 'Unnamed: 13'],\n",
            "      dtype='object')\n",
            "ad brands['trailer', 'quibi', 'tide', 'fox', 'presidential', 'campaign', 'walmart', 'marvel', 'rocket', 'porsche', 'snickers', 'hulu', 'fox', 'mountain', 'dew', 'squarespace', 'new', 'york', 'life', 'fox', 'hyundai', 'cheetos', 'olay', 'fox', 'michelob', 'avocados', 'mexico', 'hard', 'rock', 'pringles', 'turbotax', 'tide', 'genesis', 'coca', 'cola', 'planters', 'trailer', 'fox', 'google', 'sabra', 'weathertech', 'verizon', 'hummer', 'poptarts', 'trailer', 'fox', 'fox', 'event', 'trailer', 'fox', 'amazon', 'pepsi', 'heinz', 'event', 'bud', 'light', 'little', 'caesars', 'doritos', 'kia', 'turkish', 'airlines', 'reese', 'tide', 'amazon', 'michelob', 'nfl', 'toyota', 'discover', 'disney', 'discover', 'fox', 'tmobile', 'fox', 'fox', 'nfl', 'budweiser', 'proctor', 'gamble', 'fox', 'microsoft', 'fox', 'jeep', 'facebook', 'tide', 'audi']\n",
            "1288\n",
            "698\n",
            "['ness', 'masked', 'fee', 'weathertech', 'rodriguez', 'drink', 'fury', 'henson', 'drag', 'coca', 'sofia', 'surface', 'working', 'things', 'sylvester', 'bond', 'vin', 'chosen', 'hardrockstadium', 'ww', 'babypeanut', 'emission', 'loki', 'typical', 'hotels', 'rickmorty', 'bill', 'alcohol', 'bounty', 'elliott', 'dew', 'another', 'jennings', 'postmalone', 'loans', 'ready', 'coke', 'basketball', 'eye', 'life', 'cowboy', 'zero', 'criminal', 'toy', 'mortgage', 'glass', 'story', 'real', 'four', 'products', 'fix', 'luxury', 'barbecue', 'frozenaudi', 'soda', 'nut', 'ten', 'josh', 'turkish', 'heinz', 'ryder', 'james', 'popcorn', 'kobe', 'paint', 'move', 'storm', 'infinite', 'verizon', 'heroes', 'friends', 'gladiator', 'america', 'showup', 'mama', 'fixtheworld', 'campaign', 'halftime', 'pod', 'gamble', 'social', 'jimmy', 'video', 'trump', 'party', 'kia', 'maisie', 'nyl', 'spaceship', 'wives', 'light', 'bank', 'stainlaundrydetergent', 'joshjacobs', 'lego', 'caesars', 'later', 'wesley', 'charitable', 'anderson', 'wonder', 'ultrabeer', 'smaht', 'diesel', 'g', 'music', 'tmobile', 'pickup', 'dancer', 'sixforsixpack', 'voice', 'golden', 'hammer', 'allpeoplearetaxpeople', 'gold', 'mmus', 'commercial', 'humus', 'town', 'cola', 'porta', 'flenderson', 'president', 'lilly', 'shootings', 'dratch', 'chase', 'chrisevans', 'teresa', 'pahk', 'safer', 'red', 'store', 'syndrome', 'dull', 'budweiser', 'missy', 'anquan', 'teigen', 'enjoy', 'spice', 'pickle', 'lebronjames', 'popsoda', 'flash', 'wars', 'presidentrumpobama', 'dragon', 'truck', 'revolution', 'stott', 'ray', 'facebook', 'wrestling', 'condimentfood', 'mike', 'babyfuneral', 'legend', 'service', 'disney', 'al', 'pop', 'megan', 'hardrockcasino', 'swim', 'energy', 'jimmyfallon', 'chili', 'men', 'accepted', 'echo', 'robbery', 'hard', 'bling', 'tombrady', 'race', 'park', 'work', 'back', 'hill', 'international', 'quick', 'news', 'fox', 'nodiscover', 'dimensions', 'evans', 'rachel', 'assistant', 'matt', 'pacino', 'hampshire', 'jonah', 'services', 'mc', 'parking', 'doctor', 'strangerthings', 'pizza', 'tax', 'game', 'aliens', 'accent', 'typicalamerican', 'giudice', 'michelob', 'takes', 'r', 'thing', 'shakira', 'myers', 'rocket', 'jeep', 'little', 'aquaman', 'die', 'better', 'ortiz', 'hyundai', 'pretzel', 'beforealexa', 'singer', 'wilder', 'boxing', 'johansson', 'people', 'program', 'caroline', 'alpacinoprimevideo', 'letitgo', 'ev', 'help', 'williams', 'stunts', 'turbo', 'scar', 'hardrock', 'queereye', 'febreze', 'bettahdriveus', 'falcon', 'lightyear', 'usainbolt', 'pepsizero', 'come', 'sugar', 'justice', 'rocketchrisrock', 'rossi', 'feature', 'chandler', 'kerri', 'sporting', 'turbotax', 'couric', 'kiaseltos', 'sliced', 'time', 'howimmus', 'gymbody', 'ted', 'scorsese', 'seltzer', 'avocarriermollyringwald', 'sam', 'nutsmrpeanut', 'black', 'avocados', 'american', 'taxes', 'show', 'stadium', 'cleaners', 'touch', 'erscoach', 'play', 'super', 'highlander', 'amazing', 'trailer', 'donaldtrump', 'young', 'stallion', 'shining', 'dotscococolacocacolaenergy', 'jason', 'americanspirit', 'groups', 'hunterstv', 'ages', 'teaser', 'hummus', 'mean', 'streaming', 'bigelow', 'flavor', 'jasonmomoa', 'reese', 'sportback', 'smart', 'woman', 'gmc', 'presidential', 'snickersfixtheworld', 'toads', 'stranger', 'jennifer', 'manzo', 'political', 'masters', 'saga', 'ff', 'hulu', 'boldin', 'famous', 'alive', 'pepsi', 'one', 'step', 'porsche', 'jack', 'malone', 'walts', 'post', 'history', 'olay', 'avonetwork', 'laundry', 'insurance', 'plus', 'going', 'snickers', 'sabra', 'cool', 'less', 'vergara', 'quickbites', 'pets', 'worth', 'miami', 'littlecaesars', 'proctor', 'head', 'tide', 'inspirechange', 'morty', 'rapper', 'running', 'gop', 'app', 'stonehenge', 'flying', 'bud', 'york', 'widow', 'astronauts', 'tornado', 'since', 'away', 'newyorklife', 'phone', 'krasinki', 'announcement', 'office', 'science', 'rick', 'building', 'funeral', 'never', 'chrissy', 'event', 'casinos', 'smahtpark', 'champions', 'minions', 'right', 'seltosraiders', 'housewives', 'maid', 'molly', 'vs', 'groot', 'dog', 'chancetherappermeganstallion', 'five', 'quicken', 'singh', 'winona', 'bites', 'reform', 'f', 'busy', 'female', 'lovetakesaction', 'cobie', 'mexico', 'rock', 'snickershole', 'go', 'carbs', 'yes', 'footmake', 'sowers', 'nas', 'virtualassistant', 'stronger', 'charlieday', 'shownetwork', 'summer', 'brain', 'together', 'gordon', 'sugarbryan', 'great', 'bryant', 'competition', 'inside', 'credit', 'captain', 'works', 'buzz', 'xfl', 'kindness', 'charge', 'smulders', 'phillips', 'taraji', 'breaking', 'agape', 'martin', 'farmers', 'usain', 'road', 'world', 'mtn', 'web', 'tomorrow', 'de', 'unemployment', 'thee', 'greek', 'lo', 'charming', 'makes', 'chi', 'anheuserbusch', 'marvel', 'symptoms', 'network', 'cracker', 'mortgagemomoabowl', 'taycan', 'motorshummer', 'airline', 'words', 'toyotahighlandercobiesmulders', 'arrival', 'jonathan', 'taycanturbo', 'koepka', 'airlines', 'day', 'run', 'adultswim', 'furious', 'kathryn', 'murray', 'knight', 'virtual', 'candybarreeses', 'rocketmorgage', 'daniel', 'mtndew', 'arnett', 'pringles', 'west', 'flight', 'coach', 'premier', 'lebron', 'discover', 'tpain', 'wild', 'microsoft', 'ringwald', 'amazon', 'heist', 'action', 'martian', 'organic', 'findthegoodness', 'walmart', 'ketchup', 'tv', 'genesis', 'stain', 'queensdragqueens', 'cena', 'makespaceforwomen', 'mountain', 'detergenttv', 'budlightbudweiser', 'rainn', 'procter', 'retriever', 'car', 'alexa', 'take', 'star', 'pack', 'martians', 'brady', 'squarespace', 'impact', 'adult', 'man', 'chance', 'jersey', 'toby', 'annual', 'tom', 'google', 'space', 'mobile', 'degeneres', 'change', 'theshining', 'hummer', 'queer', 'bolt', 'system', 'mix', 'nazi', 'quits', 'thrones', 'planters', 'cheetle', 'john', 'general', 'tarts', 'lone', 'ii', 'chris', 'women', 'snipesbabynut', 'monday', 'craig', 'trumpsupporters', 'charlie', 'good', 'fun', 'detergentmovie', 'sox', 'jlo', 'beer', 'stereotypes', 'old', 'shoulders', 'johnlegendchrissyteigen', 'cup', 'traffic', 'anthony', 'emily', 'football', 'tests', 'prosperous', 'toyota', 'low', 'police', 'fast', 'quiet', 'poptarts', 'card', 'femalecoach', 'nfl', 'microsoftsurface', 'scarlett', 'schitt', 'sexiest', 'daytona', 'yestodiscover', 'barbeque', 'ranch', 'katie', 'david', 'nicole', 'katiesowers', 'wanda', 'stallone', 'inbev', 'inspire', 'detergent', 'quibi', 'food', 'powersnoannualfeediscovercredit', 'spacewalk', 'etron', 'everything', 'walsh', 'kim', 'find', 'canttouchthismchammer', 'allfemale', 'x', 'hunters', 'michelobgold', 'visitors', 'electric', 'tough', 'cocacola', 'workingout', 'prime', 'fixed', 'square', 'fastfurious', 'girls', 'audi', 'cheetos', 'rise', 'gv', 'bread', 'austin', 'trumpforpresident', 'website', 'michelle', 'home', 'fees', 'suv', 'nation', 'hotel', 'stereotypical', 'boy', 'groundhog', 'cant', 'jacobs', 'let', 'loretta', 'j', 'googleassistant', 'cerny', 'doritos', 'spirit', 'fallon', 'van', 'wilson', 'billy', 'lil', 'medieval', 'minnesota', 'withdrawal', 'new', 'first', 'best', 'minutes', 'cranston', 'marvin', 'culture', 'lucky', 'ers', 'earth', 'iphone', 'lopez', 'boston', 'maisiewilliamsgameofthrones', 'homeland', 'shopping', 'gym', 'volkswagen', 'platform', 'nocoke', 'way', 'love', 'finally', 'stories', 'scared', 'big', 'baby', 'charliey', 'gru', 'vision', 'make', 'middle', 'noannualfeediscovercredit', 'donald', 'cyrus', 'dragqueenamanda', 'ellen', 'delivery', 'remix', 'posty', 'give', 'momoa', 'goodness', 'brooks', 'done', 'movie', 'pg', 'bettahwaytopark']\n",
            "['ness', 'masked', 'fee', 'weathertech', 'rodriguez', 'drink', 'fury', 'henson', 'drag', 'coca', 'sofia', 'surface', 'working', 'thing', 'sylvester', 'bond', 'vin', 'chosen', 'hardrockstadium', 'ww', 'babypeanut', 'emission', 'loki', 'typical', 'hotel', 'rickmorty', 'bill', 'alcohol', 'bounty', 'elliott', 'dew', 'another', 'jennings', 'postmalone', 'loan', 'ready', 'coke', 'basketball', 'eye', 'life', 'cowboy', 'zero', 'criminal', 'toy', 'mortgage', 'glass', 'story', 'real', 'four', 'product', 'fix', 'luxury', 'barbecue', 'frozenaudi', 'soda', 'nut', 'ten', 'josh', 'turkish', 'heinz', 'ryder', 'james', 'popcorn', 'kobe', 'paint', 'move', 'storm', 'infinite', 'verizon', 'hero', 'friend', 'gladiator', 'america', 'showup', 'mama', 'fixtheworld', 'campaign', 'halftime', 'pod', 'gamble', 'social', 'jimmy', 'video', 'trump', 'party', 'kia', 'maisie', 'nyl', 'spaceship', 'wife', 'light', 'bank', 'stainlaundrydetergent', 'joshjacobs', 'lego', 'caesar', 'later', 'wesley', 'charitable', 'anderson', 'wonder', 'ultrabeer', 'smaht', 'diesel', 'g', 'music', 'tmobile', 'pickup', 'dancer', 'sixforsixpack', 'voice', 'golden', 'hammer', 'allpeoplearetaxpeople', 'gold', 'mmus', 'commercial', 'humus', 'town', 'cola', 'porta', 'flenderson', 'president', 'lilly', 'shooting', 'dratch', 'chase', 'chrisevans', 'teresa', 'pahk', 'safer', 'red', 'store', 'syndrome', 'dull', 'budweiser', 'missy', 'anquan', 'teigen', 'enjoy', 'spice', 'pickle', 'lebronjames', 'popsoda', 'flash', 'war', 'presidentrumpobama', 'dragon', 'truck', 'revolution', 'stott', 'ray', 'facebook', 'wrestling', 'condimentfood', 'mike', 'babyfuneral', 'legend', 'service', 'disney', 'al', 'pop', 'megan', 'hardrockcasino', 'swim', 'energy', 'jimmyfallon', 'chili', 'men', 'accepted', 'echo', 'robbery', 'hard', 'bling', 'tombrady', 'race', 'park', 'work', 'back', 'hill', 'international', 'quick', 'news', 'fox', 'nodiscover', 'dimension', 'evans', 'rachel', 'assistant', 'matt', 'pacino', 'hampshire', 'jonah', 'service', 'mc', 'parking', 'doctor', 'strangerthings', 'pizza', 'tax', 'game', 'alien', 'accent', 'typicalamerican', 'giudice', 'michelob', 'take', 'r', 'thing', 'shakira', 'myers', 'rocket', 'jeep', 'little', 'aquaman', 'die', 'better', 'ortiz', 'hyundai', 'pretzel', 'beforealexa', 'singer', 'wilder', 'boxing', 'johansson', 'people', 'program', 'caroline', 'alpacinoprimevideo', 'letitgo', 'ev', 'help', 'williams', 'stunt', 'turbo', 'scar', 'hardrock', 'queereye', 'febreze', 'bettahdriveus', 'falcon', 'lightyear', 'usainbolt', 'pepsizero', 'come', 'sugar', 'justice', 'rocketchrisrock', 'rossi', 'feature', 'chandler', 'kerri', 'sporting', 'turbotax', 'couric', 'kiaseltos', 'sliced', 'time', 'howimmus', 'gymbody', 'ted', 'scorsese', 'seltzer', 'avocarriermollyringwald', 'sam', 'nutsmrpeanut', 'black', 'avocado', 'american', 'tax', 'show', 'stadium', 'cleaner', 'touch', 'erscoach', 'play', 'super', 'highlander', 'amazing', 'trailer', 'donaldtrump', 'young', 'stallion', 'shining', 'dotscococolacocacolaenergy', 'jason', 'americanspirit', 'group', 'hunterstv', 'age', 'teaser', 'hummus', 'mean', 'streaming', 'bigelow', 'flavor', 'jasonmomoa', 'reese', 'sportback', 'smart', 'woman', 'gmc', 'presidential', 'snickersfixtheworld', 'toad', 'stranger', 'jennifer', 'manzo', 'political', 'master', 'saga', 'ff', 'hulu', 'boldin', 'famous', 'alive', 'pepsi', 'one', 'step', 'porsche', 'jack', 'malone', 'walts', 'post', 'history', 'olay', 'avonetwork', 'laundry', 'insurance', 'plus', 'going', 'snicker', 'sabra', 'cool', 'le', 'vergara', 'quickbites', 'pet', 'worth', 'miami', 'littlecaesars', 'proctor', 'head', 'tide', 'inspirechange', 'morty', 'rapper', 'running', 'gop', 'app', 'stonehenge', 'flying', 'bud', 'york', 'widow', 'astronaut', 'tornado', 'since', 'away', 'newyorklife', 'phone', 'krasinki', 'announcement', 'office', 'science', 'rick', 'building', 'funeral', 'never', 'chrissy', 'event', 'casino', 'smahtpark', 'champion', 'minion', 'right', 'seltosraiders', 'housewife', 'maid', 'molly', 'v', 'groot', 'dog', 'chancetherappermeganstallion', 'five', 'quicken', 'singh', 'winona', 'bite', 'reform', 'f', 'busy', 'female', 'lovetakesaction', 'cobie', 'mexico', 'rock', 'snickershole', 'go', 'carbs', 'yes', 'footmake', 'sower', 'na', 'virtualassistant', 'stronger', 'charlieday', 'shownetwork', 'summer', 'brain', 'together', 'gordon', 'sugarbryan', 'great', 'bryant', 'competition', 'inside', 'credit', 'captain', 'work', 'buzz', 'xfl', 'kindness', 'charge', 'smulders', 'phillips', 'taraji', 'breaking', 'agape', 'martin', 'farmer', 'usain', 'road', 'world', 'mtn', 'web', 'tomorrow', 'de', 'unemployment', 'thee', 'greek', 'lo', 'charming', 'make', 'chi', 'anheuserbusch', 'marvel', 'symptom', 'network', 'cracker', 'mortgagemomoabowl', 'taycan', 'motorshummer', 'airline', 'word', 'toyotahighlandercobiesmulders', 'arrival', 'jonathan', 'taycanturbo', 'koepka', 'airline', 'day', 'run', 'adultswim', 'furious', 'kathryn', 'murray', 'knight', 'virtual', 'candybarreeses', 'rocketmorgage', 'daniel', 'mtndew', 'arnett', 'pringles', 'west', 'flight', 'coach', 'premier', 'lebron', 'discover', 'tpain', 'wild', 'microsoft', 'ringwald', 'amazon', 'heist', 'action', 'martian', 'organic', 'findthegoodness', 'walmart', 'ketchup', 'tv', 'genesis', 'stain', 'queensdragqueens', 'cena', 'makespaceforwomen', 'mountain', 'detergenttv', 'budlightbudweiser', 'rainn', 'procter', 'retriever', 'car', 'alexa', 'take', 'star', 'pack', 'martian', 'brady', 'squarespace', 'impact', 'adult', 'man', 'chance', 'jersey', 'toby', 'annual', 'tom', 'google', 'space', 'mobile', 'degeneres', 'change', 'theshining', 'hummer', 'queer', 'bolt', 'system', 'mix', 'nazi', 'quits', 'throne', 'planter', 'cheetle', 'john', 'general', 'tart', 'lone', 'ii', 'chris', 'woman', 'snipesbabynut', 'monday', 'craig', 'trumpsupporters', 'charlie', 'good', 'fun', 'detergentmovie', 'sox', 'jlo', 'beer', 'stereotype', 'old', 'shoulder', 'johnlegendchrissyteigen', 'cup', 'traffic', 'anthony', 'emily', 'football', 'test', 'prosperous', 'toyota', 'low', 'police', 'fast', 'quiet', 'poptarts', 'card', 'femalecoach', 'nfl', 'microsoftsurface', 'scarlett', 'schitt', 'sexiest', 'daytona', 'yestodiscover', 'barbeque', 'ranch', 'katie', 'david', 'nicole', 'katiesowers', 'wanda', 'stallone', 'inbev', 'inspire', 'detergent', 'quibi', 'food', 'powersnoannualfeediscovercredit', 'spacewalk', 'etron', 'everything', 'walsh', 'kim', 'find', 'canttouchthismchammer', 'allfemale', 'x', 'hunter', 'michelobgold', 'visitor', 'electric', 'tough', 'cocacola', 'workingout', 'prime', 'fixed', 'square', 'fastfurious', 'girl', 'audi', 'cheetos', 'rise', 'gv', 'bread', 'austin', 'trumpforpresident', 'website', 'michelle', 'home', 'fee', 'suv', 'nation', 'hotel', 'stereotypical', 'boy', 'groundhog', 'cant', 'jacob', 'let', 'loretta', 'j', 'googleassistant', 'cerny', 'doritos', 'spirit', 'fallon', 'van', 'wilson', 'billy', 'lil', 'medieval', 'minnesota', 'withdrawal', 'new', 'first', 'best', 'minute', 'cranston', 'marvin', 'culture', 'lucky', 'er', 'earth', 'iphone', 'lopez', 'boston', 'maisiewilliamsgameofthrones', 'homeland', 'shopping', 'gym', 'volkswagen', 'platform', 'nocoke', 'way', 'love', 'finally', 'story', 'scared', 'big', 'baby', 'charliey', 'gru', 'vision', 'make', 'middle', 'noannualfeediscovercredit', 'donald', 'cyrus', 'dragqueenamanda', 'ellen', 'delivery', 'remix', 'posty', 'give', 'momoa', 'goodness', 'brook', 'done', 'movie', 'pg', 'bettahwaytopark']\n"
          ],
          "name": "stdout"
        }
      ]
    },
    {
      "cell_type": "code",
      "metadata": {
        "id": "FPfE2myLCz_I",
        "colab_type": "code",
        "colab": {
          "base_uri": "https://localhost:8080/",
          "height": 88
        },
        "outputId": "fc7706ba-0fd0-4250-f725-ea42b7ddc9be"
      },
      "source": [
        "# Challenge: There are some words that are not separated although can be two legit words if separted\n",
        "# lightyear, jasonmamoa, trumpsupporters, condimentfood, fixtheworld, budlightbudweiser, microsoftsurface, femalecoach, typicalamerican\n",
        "# poptarts, quickbites, googleassistant, smahtpark, spacewalk, letitgo, bettahwaytopark, trumpforpresident, hardrockstadium,\n",
        "# alpacinoprimevideo, femalecoach, inspirechange, motorshummer, newyorklife, stainlaundrydetergent\n",
        "\n",
        "def get_missing_words_vocab(tokenizer, words):\n",
        "  missing_words = []\n",
        "  vocab = tokenizer.get_vocab()\n",
        "  print(\"Actual word list of ad tokens:\"+ str(len(words)))\n",
        "  for word in words:\n",
        "    if word not in vocab:\n",
        "      missing_words.append(word)\n",
        "  print(str(len(missing_words))+\" missing_words\")\n",
        "  return missing_words\n",
        "\n",
        "missing_words = get_missing_words_vocab(tokenizer, keys_to_add)\n",
        "print(missing_words)"
      ],
      "execution_count": 452,
      "outputs": [
        {
          "output_type": "stream",
          "text": [
            "Actual word list of ad tokens:698\n",
            "210 missing_words\n",
            "['weathertech', 'hardrockstadium', 'ww', 'babypeanut', 'rickmorty', 'postmalone', 'frozenaudi', 'verizon', 'gladiator', 'showup', 'fixtheworld', 'maisie', 'nyl', 'stainlaundrydetergent', 'joshjacobs', 'ultrabeer', 'smaht', 'tmobile', 'sixforsixpack', 'allpeoplearetaxpeople', 'mmus', 'humus', 'porta', 'flenderson', 'dratch', 'chrisevans', 'pahk', 'budweiser', 'anquan', 'teigen', 'pickle', 'lebronjames', 'popsoda', 'presidentrumpobama', 'stott', 'condimentfood', 'babyfuneral', 'hardrockcasino', 'jimmyfallon', 'bling', 'tombrady', 'nodiscover', 'pacino', 'strangerthings', 'typicalamerican', 'giudice', 'michelob', 'shakira', 'aquaman', 'pretzel', 'beforealexa', 'alpacinoprimevideo', 'letitgo', 'hardrock', 'queereye', 'febreze', 'bettahdriveus', 'lightyear', 'usainbolt', 'pepsizero', 'rocketchrisrock', 'kerri', 'turbotax', 'couric', 'kiaseltos', 'howimmus', 'gymbody', 'scorsese', 'seltzer', 'avocarriermollyringwald', 'nutsmrpeanut', 'avocado', 'erscoach', 'highlander', 'donaldtrump', 'dotscococolacocacolaenergy', 'americanspirit', 'hunterstv', 'hummus', 'bigelow', 'jasonmomoa', 'sportback', 'gmc', 'snickersfixtheworld', 'manzo', 'hulu', 'boldin', 'walts', 'olay', 'avonetwork', 'snicker', 'sabra', 'vergara', 'quickbites', 'littlecaesars', 'inspirechange', 'morty', 'gop', 'stonehenge', 'newyorklife', 'krasinki', 'chrissy', 'smahtpark', 'minion', 'seltosraiders', 'housewife', 'groot', 'chancetherappermeganstallion', 'quicken', 'winona', 'lovetakesaction', 'cobie', 'snickershole', 'carbs', 'footmake', 'sower', 'virtualassistant', 'charlieday', 'shownetwork', 'sugarbryan', 'xfl', 'smulders', 'taraji', 'agape', 'usain', 'mtn', 'anheuserbusch', 'symptom', 'cracker', 'mortgagemomoabowl', 'taycan', 'motorshummer', 'toyotahighlandercobiesmulders', 'taycanturbo', 'koepka', 'adultswim', 'candybarreeses', 'rocketmorgage', 'mtndew', 'arnett', 'pringles', 'lebron', 'tpain', 'ringwald', 'heist', 'findthegoodness', 'walmart', 'ketchup', 'queensdragqueens', 'cena', 'makespaceforwomen', 'detergenttv', 'budlightbudweiser', 'rainn', 'procter', 'retriever', 'squarespace', 'degeneres', 'theshining', 'hummer', 'quits', 'planter', 'cheetle', 'tart', 'snipesbabynut', 'trumpsupporters', 'detergentmovie', 'jlo', 'stereotype', 'johnlegendchrissyteigen', 'poptarts', 'femalecoach', 'microsoftsurface', 'schitt', 'sexiest', 'yestodiscover', 'barbeque', 'katiesowers', 'stallone', 'inbev', 'detergent', 'quibi', 'powersnoannualfeediscovercredit', 'spacewalk', 'etron', 'canttouchthismchammer', 'allfemale', 'michelobgold', 'cocacola', 'workingout', 'fastfurious', 'cheetos', 'gv', 'trumpforpresident', 'stereotypical', 'groundhog', 'cant', 'googleassistant', 'cerny', 'doritos', 'cranston', 'maisiewilliamsgameofthrones', 'nocoke', 'charliey', 'gru', 'noannualfeediscovercredit', 'dragqueenamanda', 'posty', 'momoa', 'bettahwaytopark']\n"
          ],
          "name": "stdout"
        }
      ]
    },
    {
      "cell_type": "code",
      "metadata": {
        "id": "XsD-oEL0iNut",
        "colab_type": "code",
        "colab": {
          "base_uri": "https://localhost:8080/",
          "height": 51
        },
        "outputId": "7c735633-e448-43cb-bc69-bfd505ea556d"
      },
      "source": [
        "# Tokenize all of the sentences and map the tokens to their word IDs.\n",
        "def get_input_ids(sentences):\n",
        "  input_ids = []\n",
        "  # For every sentence...\n",
        "  for sent in sentences:\n",
        "      # `encode` will:\n",
        "      #   (1) Tokenize the sentence.\n",
        "      #   (2) Prepend the `[CLS]` token to the start.\n",
        "      #   (3) Append the `[SEP]` token to the end.\n",
        "      #   (4) Map tokens to their IDs.\n",
        "      encoded_sent = tokenizer.encode(\n",
        "                          sent,                      # Sentence to encode.\n",
        "                          add_special_tokens = True, # Add '[CLS]' and '[SEP]'\n",
        "                          # This function also supports truncation and conversion\n",
        "                          # to pytorch tensors, but we need to do padding, so we\n",
        "                          # can't use these features :( .\n",
        "                          # max_length = 128,          # Truncate all sentences.\n",
        "                          # return_tensors = 'pt',     # Return pytorch tensors.\n",
        "                    )\n",
        "      # print(sent+\":\")\n",
        "      # print(tokenizer.tokenize(sent))\n",
        "      # print('encoded_sent:'+ str(encoded_sent))\n",
        "      input_ids.append(encoded_sent)\n",
        "  return input_ids\n",
        "\n",
        "if classType == 'binary':\n",
        "  print('binary')\n",
        "  input_ids = get_input_ids(binary_sentences)\n",
        "else:\n",
        "  print('multi class')\n",
        "  input_ids = get_input_ids(sentences)\n",
        "  print(len(input_ids))\n"
      ],
      "execution_count": 453,
      "outputs": [
        {
          "output_type": "stream",
          "text": [
            "multi class\n",
            "2668\n"
          ],
          "name": "stdout"
        }
      ]
    },
    {
      "cell_type": "code",
      "metadata": {
        "id": "Bss0IhfHk2aD",
        "colab_type": "code",
        "colab": {
          "base_uri": "https://localhost:8080/"
        },
        "outputId": "f55d9a20-9062-403f-d956-52507f1e7399"
      },
      "source": [
        "from transformers import BertForSequenceClassification, AdamW, BertConfig, BertModel\n",
        "# Load BertForSequenceClassification, the pretrained BERT model with a single \n",
        "# linear classification layer on top. \n",
        "if classType == 'binary':\n",
        "  num_labels = 2\n",
        "else:\n",
        "  num_labels = n_unique_ads\n",
        "model = BertForSequenceClassification.from_pretrained(\n",
        "    \"bert-base-uncased\", # Use the 12-layer BERT model, with an uncased vocab.\n",
        "    num_labels = num_labels,\n",
        "    # num_labels = n_unique_ads, # The number of output labels=2 for binary classification.\n",
        "                    # You can increase this for multi-class tasks.   \n",
        "    output_attentions = False, # Whether the model returns attentions weights.\n",
        "    output_hidden_states = True, # Whether the model returns all hidden-states.\n",
        ")\n",
        "# model.resize_token_embeddings(len(tokenizer)) # since new tokens are added\n",
        "# Tell pytorch to run this model on the GPU.\n",
        "model.set_input_embeddings(input_embedding_module)\n",
        "model.cuda()"
      ],
      "execution_count": 454,
      "outputs": [
        {
          "output_type": "stream",
          "text": [
            "Some weights of the model checkpoint at bert-base-uncased were not used when initializing BertForSequenceClassification: ['cls.predictions.bias', 'cls.predictions.transform.dense.weight', 'cls.predictions.transform.dense.bias', 'cls.predictions.decoder.weight', 'cls.seq_relationship.weight', 'cls.seq_relationship.bias', 'cls.predictions.transform.LayerNorm.weight', 'cls.predictions.transform.LayerNorm.bias']\n",
            "- This IS expected if you are initializing BertForSequenceClassification from the checkpoint of a model trained on another task or with another architecture (e.g. initializing a BertForSequenceClassification model from a BertForPretraining model).\n",
            "- This IS NOT expected if you are initializing BertForSequenceClassification from the checkpoint of a model that you expect to be exactly identical (initializing a BertForSequenceClassification model from a BertForSequenceClassification model).\n",
            "Some weights of BertForSequenceClassification were not initialized from the model checkpoint at bert-base-uncased and are newly initialized: ['classifier.weight', 'classifier.bias']\n",
            "You should probably TRAIN this model on a down-stream task to be able to use it for predictions and inference.\n"
          ],
          "name": "stderr"
        },
        {
          "output_type": "execute_result",
          "data": {
            "text/plain": [
              "BertForSequenceClassification(\n",
              "  (bert): BertModel(\n",
              "    (embeddings): BertEmbeddings(\n",
              "      (word_embeddings): Embedding(30522, 768, padding_idx=0)\n",
              "      (position_embeddings): Embedding(512, 768)\n",
              "      (token_type_embeddings): Embedding(2, 768)\n",
              "      (LayerNorm): LayerNorm((768,), eps=1e-12, elementwise_affine=True)\n",
              "      (dropout): Dropout(p=0.1, inplace=False)\n",
              "    )\n",
              "    (encoder): BertEncoder(\n",
              "      (layer): ModuleList(\n",
              "        (0): BertLayer(\n",
              "          (attention): BertAttention(\n",
              "            (self): BertSelfAttention(\n",
              "              (query): Linear(in_features=768, out_features=768, bias=True)\n",
              "              (key): Linear(in_features=768, out_features=768, bias=True)\n",
              "              (value): Linear(in_features=768, out_features=768, bias=True)\n",
              "              (dropout): Dropout(p=0.1, inplace=False)\n",
              "            )\n",
              "            (output): BertSelfOutput(\n",
              "              (dense): Linear(in_features=768, out_features=768, bias=True)\n",
              "              (LayerNorm): LayerNorm((768,), eps=1e-12, elementwise_affine=True)\n",
              "              (dropout): Dropout(p=0.1, inplace=False)\n",
              "            )\n",
              "          )\n",
              "          (intermediate): BertIntermediate(\n",
              "            (dense): Linear(in_features=768, out_features=3072, bias=True)\n",
              "          )\n",
              "          (output): BertOutput(\n",
              "            (dense): Linear(in_features=3072, out_features=768, bias=True)\n",
              "            (LayerNorm): LayerNorm((768,), eps=1e-12, elementwise_affine=True)\n",
              "            (dropout): Dropout(p=0.1, inplace=False)\n",
              "          )\n",
              "        )\n",
              "        (1): BertLayer(\n",
              "          (attention): BertAttention(\n",
              "            (self): BertSelfAttention(\n",
              "              (query): Linear(in_features=768, out_features=768, bias=True)\n",
              "              (key): Linear(in_features=768, out_features=768, bias=True)\n",
              "              (value): Linear(in_features=768, out_features=768, bias=True)\n",
              "              (dropout): Dropout(p=0.1, inplace=False)\n",
              "            )\n",
              "            (output): BertSelfOutput(\n",
              "              (dense): Linear(in_features=768, out_features=768, bias=True)\n",
              "              (LayerNorm): LayerNorm((768,), eps=1e-12, elementwise_affine=True)\n",
              "              (dropout): Dropout(p=0.1, inplace=False)\n",
              "            )\n",
              "          )\n",
              "          (intermediate): BertIntermediate(\n",
              "            (dense): Linear(in_features=768, out_features=3072, bias=True)\n",
              "          )\n",
              "          (output): BertOutput(\n",
              "            (dense): Linear(in_features=3072, out_features=768, bias=True)\n",
              "            (LayerNorm): LayerNorm((768,), eps=1e-12, elementwise_affine=True)\n",
              "            (dropout): Dropout(p=0.1, inplace=False)\n",
              "          )\n",
              "        )\n",
              "        (2): BertLayer(\n",
              "          (attention): BertAttention(\n",
              "            (self): BertSelfAttention(\n",
              "              (query): Linear(in_features=768, out_features=768, bias=True)\n",
              "              (key): Linear(in_features=768, out_features=768, bias=True)\n",
              "              (value): Linear(in_features=768, out_features=768, bias=True)\n",
              "              (dropout): Dropout(p=0.1, inplace=False)\n",
              "            )\n",
              "            (output): BertSelfOutput(\n",
              "              (dense): Linear(in_features=768, out_features=768, bias=True)\n",
              "              (LayerNorm): LayerNorm((768,), eps=1e-12, elementwise_affine=True)\n",
              "              (dropout): Dropout(p=0.1, inplace=False)\n",
              "            )\n",
              "          )\n",
              "          (intermediate): BertIntermediate(\n",
              "            (dense): Linear(in_features=768, out_features=3072, bias=True)\n",
              "          )\n",
              "          (output): BertOutput(\n",
              "            (dense): Linear(in_features=3072, out_features=768, bias=True)\n",
              "            (LayerNorm): LayerNorm((768,), eps=1e-12, elementwise_affine=True)\n",
              "            (dropout): Dropout(p=0.1, inplace=False)\n",
              "          )\n",
              "        )\n",
              "        (3): BertLayer(\n",
              "          (attention): BertAttention(\n",
              "            (self): BertSelfAttention(\n",
              "              (query): Linear(in_features=768, out_features=768, bias=True)\n",
              "              (key): Linear(in_features=768, out_features=768, bias=True)\n",
              "              (value): Linear(in_features=768, out_features=768, bias=True)\n",
              "              (dropout): Dropout(p=0.1, inplace=False)\n",
              "            )\n",
              "            (output): BertSelfOutput(\n",
              "              (dense): Linear(in_features=768, out_features=768, bias=True)\n",
              "              (LayerNorm): LayerNorm((768,), eps=1e-12, elementwise_affine=True)\n",
              "              (dropout): Dropout(p=0.1, inplace=False)\n",
              "            )\n",
              "          )\n",
              "          (intermediate): BertIntermediate(\n",
              "            (dense): Linear(in_features=768, out_features=3072, bias=True)\n",
              "          )\n",
              "          (output): BertOutput(\n",
              "            (dense): Linear(in_features=3072, out_features=768, bias=True)\n",
              "            (LayerNorm): LayerNorm((768,), eps=1e-12, elementwise_affine=True)\n",
              "            (dropout): Dropout(p=0.1, inplace=False)\n",
              "          )\n",
              "        )\n",
              "        (4): BertLayer(\n",
              "          (attention): BertAttention(\n",
              "            (self): BertSelfAttention(\n",
              "              (query): Linear(in_features=768, out_features=768, bias=True)\n",
              "              (key): Linear(in_features=768, out_features=768, bias=True)\n",
              "              (value): Linear(in_features=768, out_features=768, bias=True)\n",
              "              (dropout): Dropout(p=0.1, inplace=False)\n",
              "            )\n",
              "            (output): BertSelfOutput(\n",
              "              (dense): Linear(in_features=768, out_features=768, bias=True)\n",
              "              (LayerNorm): LayerNorm((768,), eps=1e-12, elementwise_affine=True)\n",
              "              (dropout): Dropout(p=0.1, inplace=False)\n",
              "            )\n",
              "          )\n",
              "          (intermediate): BertIntermediate(\n",
              "            (dense): Linear(in_features=768, out_features=3072, bias=True)\n",
              "          )\n",
              "          (output): BertOutput(\n",
              "            (dense): Linear(in_features=3072, out_features=768, bias=True)\n",
              "            (LayerNorm): LayerNorm((768,), eps=1e-12, elementwise_affine=True)\n",
              "            (dropout): Dropout(p=0.1, inplace=False)\n",
              "          )\n",
              "        )\n",
              "        (5): BertLayer(\n",
              "          (attention): BertAttention(\n",
              "            (self): BertSelfAttention(\n",
              "              (query): Linear(in_features=768, out_features=768, bias=True)\n",
              "              (key): Linear(in_features=768, out_features=768, bias=True)\n",
              "              (value): Linear(in_features=768, out_features=768, bias=True)\n",
              "              (dropout): Dropout(p=0.1, inplace=False)\n",
              "            )\n",
              "            (output): BertSelfOutput(\n",
              "              (dense): Linear(in_features=768, out_features=768, bias=True)\n",
              "              (LayerNorm): LayerNorm((768,), eps=1e-12, elementwise_affine=True)\n",
              "              (dropout): Dropout(p=0.1, inplace=False)\n",
              "            )\n",
              "          )\n",
              "          (intermediate): BertIntermediate(\n",
              "            (dense): Linear(in_features=768, out_features=3072, bias=True)\n",
              "          )\n",
              "          (output): BertOutput(\n",
              "            (dense): Linear(in_features=3072, out_features=768, bias=True)\n",
              "            (LayerNorm): LayerNorm((768,), eps=1e-12, elementwise_affine=True)\n",
              "            (dropout): Dropout(p=0.1, inplace=False)\n",
              "          )\n",
              "        )\n",
              "        (6): BertLayer(\n",
              "          (attention): BertAttention(\n",
              "            (self): BertSelfAttention(\n",
              "              (query): Linear(in_features=768, out_features=768, bias=True)\n",
              "              (key): Linear(in_features=768, out_features=768, bias=True)\n",
              "              (value): Linear(in_features=768, out_features=768, bias=True)\n",
              "              (dropout): Dropout(p=0.1, inplace=False)\n",
              "            )\n",
              "            (output): BertSelfOutput(\n",
              "              (dense): Linear(in_features=768, out_features=768, bias=True)\n",
              "              (LayerNorm): LayerNorm((768,), eps=1e-12, elementwise_affine=True)\n",
              "              (dropout): Dropout(p=0.1, inplace=False)\n",
              "            )\n",
              "          )\n",
              "          (intermediate): BertIntermediate(\n",
              "            (dense): Linear(in_features=768, out_features=3072, bias=True)\n",
              "          )\n",
              "          (output): BertOutput(\n",
              "            (dense): Linear(in_features=3072, out_features=768, bias=True)\n",
              "            (LayerNorm): LayerNorm((768,), eps=1e-12, elementwise_affine=True)\n",
              "            (dropout): Dropout(p=0.1, inplace=False)\n",
              "          )\n",
              "        )\n",
              "        (7): BertLayer(\n",
              "          (attention): BertAttention(\n",
              "            (self): BertSelfAttention(\n",
              "              (query): Linear(in_features=768, out_features=768, bias=True)\n",
              "              (key): Linear(in_features=768, out_features=768, bias=True)\n",
              "              (value): Linear(in_features=768, out_features=768, bias=True)\n",
              "              (dropout): Dropout(p=0.1, inplace=False)\n",
              "            )\n",
              "            (output): BertSelfOutput(\n",
              "              (dense): Linear(in_features=768, out_features=768, bias=True)\n",
              "              (LayerNorm): LayerNorm((768,), eps=1e-12, elementwise_affine=True)\n",
              "              (dropout): Dropout(p=0.1, inplace=False)\n",
              "            )\n",
              "          )\n",
              "          (intermediate): BertIntermediate(\n",
              "            (dense): Linear(in_features=768, out_features=3072, bias=True)\n",
              "          )\n",
              "          (output): BertOutput(\n",
              "            (dense): Linear(in_features=3072, out_features=768, bias=True)\n",
              "            (LayerNorm): LayerNorm((768,), eps=1e-12, elementwise_affine=True)\n",
              "            (dropout): Dropout(p=0.1, inplace=False)\n",
              "          )\n",
              "        )\n",
              "        (8): BertLayer(\n",
              "          (attention): BertAttention(\n",
              "            (self): BertSelfAttention(\n",
              "              (query): Linear(in_features=768, out_features=768, bias=True)\n",
              "              (key): Linear(in_features=768, out_features=768, bias=True)\n",
              "              (value): Linear(in_features=768, out_features=768, bias=True)\n",
              "              (dropout): Dropout(p=0.1, inplace=False)\n",
              "            )\n",
              "            (output): BertSelfOutput(\n",
              "              (dense): Linear(in_features=768, out_features=768, bias=True)\n",
              "              (LayerNorm): LayerNorm((768,), eps=1e-12, elementwise_affine=True)\n",
              "              (dropout): Dropout(p=0.1, inplace=False)\n",
              "            )\n",
              "          )\n",
              "          (intermediate): BertIntermediate(\n",
              "            (dense): Linear(in_features=768, out_features=3072, bias=True)\n",
              "          )\n",
              "          (output): BertOutput(\n",
              "            (dense): Linear(in_features=3072, out_features=768, bias=True)\n",
              "            (LayerNorm): LayerNorm((768,), eps=1e-12, elementwise_affine=True)\n",
              "            (dropout): Dropout(p=0.1, inplace=False)\n",
              "          )\n",
              "        )\n",
              "        (9): BertLayer(\n",
              "          (attention): BertAttention(\n",
              "            (self): BertSelfAttention(\n",
              "              (query): Linear(in_features=768, out_features=768, bias=True)\n",
              "              (key): Linear(in_features=768, out_features=768, bias=True)\n",
              "              (value): Linear(in_features=768, out_features=768, bias=True)\n",
              "              (dropout): Dropout(p=0.1, inplace=False)\n",
              "            )\n",
              "            (output): BertSelfOutput(\n",
              "              (dense): Linear(in_features=768, out_features=768, bias=True)\n",
              "              (LayerNorm): LayerNorm((768,), eps=1e-12, elementwise_affine=True)\n",
              "              (dropout): Dropout(p=0.1, inplace=False)\n",
              "            )\n",
              "          )\n",
              "          (intermediate): BertIntermediate(\n",
              "            (dense): Linear(in_features=768, out_features=3072, bias=True)\n",
              "          )\n",
              "          (output): BertOutput(\n",
              "            (dense): Linear(in_features=3072, out_features=768, bias=True)\n",
              "            (LayerNorm): LayerNorm((768,), eps=1e-12, elementwise_affine=True)\n",
              "            (dropout): Dropout(p=0.1, inplace=False)\n",
              "          )\n",
              "        )\n",
              "        (10): BertLayer(\n",
              "          (attention): BertAttention(\n",
              "            (self): BertSelfAttention(\n",
              "              (query): Linear(in_features=768, out_features=768, bias=True)\n",
              "              (key): Linear(in_features=768, out_features=768, bias=True)\n",
              "              (value): Linear(in_features=768, out_features=768, bias=True)\n",
              "              (dropout): Dropout(p=0.1, inplace=False)\n",
              "            )\n",
              "            (output): BertSelfOutput(\n",
              "              (dense): Linear(in_features=768, out_features=768, bias=True)\n",
              "              (LayerNorm): LayerNorm((768,), eps=1e-12, elementwise_affine=True)\n",
              "              (dropout): Dropout(p=0.1, inplace=False)\n",
              "            )\n",
              "          )\n",
              "          (intermediate): BertIntermediate(\n",
              "            (dense): Linear(in_features=768, out_features=3072, bias=True)\n",
              "          )\n",
              "          (output): BertOutput(\n",
              "            (dense): Linear(in_features=3072, out_features=768, bias=True)\n",
              "            (LayerNorm): LayerNorm((768,), eps=1e-12, elementwise_affine=True)\n",
              "            (dropout): Dropout(p=0.1, inplace=False)\n",
              "          )\n",
              "        )\n",
              "        (11): BertLayer(\n",
              "          (attention): BertAttention(\n",
              "            (self): BertSelfAttention(\n",
              "              (query): Linear(in_features=768, out_features=768, bias=True)\n",
              "              (key): Linear(in_features=768, out_features=768, bias=True)\n",
              "              (value): Linear(in_features=768, out_features=768, bias=True)\n",
              "              (dropout): Dropout(p=0.1, inplace=False)\n",
              "            )\n",
              "            (output): BertSelfOutput(\n",
              "              (dense): Linear(in_features=768, out_features=768, bias=True)\n",
              "              (LayerNorm): LayerNorm((768,), eps=1e-12, elementwise_affine=True)\n",
              "              (dropout): Dropout(p=0.1, inplace=False)\n",
              "            )\n",
              "          )\n",
              "          (intermediate): BertIntermediate(\n",
              "            (dense): Linear(in_features=768, out_features=3072, bias=True)\n",
              "          )\n",
              "          (output): BertOutput(\n",
              "            (dense): Linear(in_features=3072, out_features=768, bias=True)\n",
              "            (LayerNorm): LayerNorm((768,), eps=1e-12, elementwise_affine=True)\n",
              "            (dropout): Dropout(p=0.1, inplace=False)\n",
              "          )\n",
              "        )\n",
              "      )\n",
              "    )\n",
              "    (pooler): BertPooler(\n",
              "      (dense): Linear(in_features=768, out_features=768, bias=True)\n",
              "      (activation): Tanh()\n",
              "    )\n",
              "  )\n",
              "  (dropout): Dropout(p=0.1, inplace=False)\n",
              "  (classifier): Linear(in_features=768, out_features=87, bias=True)\n",
              ")"
            ]
          },
          "metadata": {
            "tags": []
          },
          "execution_count": 454
        }
      ]
    },
    {
      "cell_type": "code",
      "metadata": {
        "id": "5jxskjmNjv1x",
        "colab_type": "code",
        "colab": {
          "base_uri": "https://localhost:8080/",
          "height": 34
        },
        "outputId": "c55d842b-660c-4cf2-cfbd-3617f742f7ca"
      },
      "source": [
        "print('Max sentence length: ', max([len(sen) for sen in input_ids]))"
      ],
      "execution_count": 455,
      "outputs": [
        {
          "output_type": "stream",
          "text": [
            "Max sentence length:  35\n"
          ],
          "name": "stdout"
        }
      ]
    },
    {
      "cell_type": "code",
      "metadata": {
        "id": "vOjgb_tSj8Bs",
        "colab_type": "code",
        "colab": {
          "base_uri": "https://localhost:8080/",
          "height": 119
        },
        "outputId": "a11aa30e-c5dc-47d1-a8ae-1f09c753d029"
      },
      "source": [
        "#let’s choose MAX_LEN = 64 and apply the padding\n",
        "# We'll borrow the `pad_sequences` utility function to do this.\n",
        "from keras.preprocessing.sequence import pad_sequences\n",
        "# Set the maximum sequence length.\n",
        "# I've chosen 64 somewhat arbitrarily. It's slightly larger than the\n",
        "# maximum training sentence length of 34...\n",
        "MAX_LEN = 64\n",
        "print('\\nPadding/truncating all sentences to %d values...' % MAX_LEN)\n",
        "print('\\nPadding token: \"{:}\", ID: {:}'.format(tokenizer.pad_token, tokenizer.pad_token_id))\n",
        "# Pad our input tokens with value 0.\n",
        "# \"post\" indicates that we want to pad and truncate at the end of the sequence,\n",
        "# as opposed to the beginning.\n",
        "input_ids = pad_sequences(input_ids, maxlen=MAX_LEN, dtype=\"long\", \n",
        "                          value=0, truncating=\"post\", padding=\"post\")\n",
        "print('\\nDone.')"
      ],
      "execution_count": 456,
      "outputs": [
        {
          "output_type": "stream",
          "text": [
            "\n",
            "Padding/truncating all sentences to 64 values...\n",
            "\n",
            "Padding token: \"[PAD]\", ID: 0\n",
            "\n",
            "Done.\n"
          ],
          "name": "stdout"
        }
      ]
    },
    {
      "cell_type": "markdown",
      "metadata": {
        "id": "YSCcU3htTL-T",
        "colab_type": "text"
      },
      "source": [
        "The attention mask simply makes it explicit which tokens are actual words versus which are padding.\n",
        "The BERT vocabulary does not use the ID 0, so if a token ID is 0, then it’s padding, and otherwise it’s a real token."
      ]
    },
    {
      "cell_type": "code",
      "metadata": {
        "id": "QikSI06kkIm2",
        "colab_type": "code",
        "colab": {}
      },
      "source": [
        "# Create attention masks\n",
        "attention_masks = []\n",
        "# For each sentence...\n",
        "for sent in input_ids:\n",
        "    \n",
        "    # Create the attention mask.\n",
        "    #   - If a token ID is 0, then it's padding, set the mask to 0.\n",
        "    #   - If a token ID is > 0, then it's a real token, set the mask to 1.\n",
        "    att_mask = [int(token_id > 0) for token_id in sent]\n",
        "    \n",
        "    # Store the attention mask for this sentence.\n",
        "    attention_masks.append(att_mask)"
      ],
      "execution_count": 457,
      "outputs": []
    },
    {
      "cell_type": "code",
      "metadata": {
        "id": "Piy1b52SkUsa",
        "colab_type": "code",
        "colab": {}
      },
      "source": [
        "#training and validation split\n",
        "\n",
        "from sklearn.model_selection import train_test_split\n",
        "# Use 90% for training and 10% for validation.\n",
        "\n",
        "if classType == 'binary':\n",
        "  input_labels = binary_labels\n",
        "else:\n",
        "  input_labels = labels\n",
        "\n",
        "train_inputs, validation_inputs, train_labels, validation_labels = train_test_split(input_ids, input_labels, \n",
        "                                                            random_state=2018, test_size=0.1)\n",
        "# Do the same for the masks.\n",
        "train_masks, validation_masks, _, _ = train_test_split(attention_masks, input_labels,\n",
        "                                             random_state=2018, test_size=0.1)"
      ],
      "execution_count": 458,
      "outputs": []
    },
    {
      "cell_type": "code",
      "metadata": {
        "id": "TWtZ_hlmkcpJ",
        "colab_type": "code",
        "colab": {}
      },
      "source": [
        "#Converting to PyTorch Data Types\n",
        "# Convert all inputs and labels into torch tensors, the required datatype for our model.\n",
        "train_inputs = torch.tensor(train_inputs)\n",
        "validation_inputs = torch.tensor(validation_inputs)\n",
        "train_labels = torch.tensor(train_labels)\n",
        "validation_labels = torch.tensor(validation_labels)\n",
        "train_masks = torch.tensor(train_masks)\n",
        "validation_masks = torch.tensor(validation_masks)"
      ],
      "execution_count": 459,
      "outputs": []
    },
    {
      "cell_type": "code",
      "metadata": {
        "id": "lRztCvATkrUJ",
        "colab_type": "code",
        "colab": {}
      },
      "source": [
        "from torch.utils.data import TensorDataset, DataLoader, RandomSampler, SequentialSampler\n",
        "# The DataLoader needs to know our batch size for training, so we specify it here.\n",
        "# For fine-tuning BERT on a specific task, the authors recommend a batch size of 16 or 32.\n",
        "batch_size = 32\n",
        "# Create the DataLoader for our training set.\n",
        "train_data = TensorDataset(train_inputs, train_masks, train_labels)\n",
        "train_sampler = RandomSampler(train_data)\n",
        "train_dataloader = DataLoader(train_data, sampler=train_sampler, batch_size=batch_size)\n",
        "# Create the DataLoader for our validation set.\n",
        "validation_data = TensorDataset(validation_inputs, validation_masks, validation_labels)\n",
        "validation_sampler = SequentialSampler(validation_data)\n",
        "validation_dataloader = DataLoader(validation_data, sampler=validation_sampler, batch_size=batch_size)"
      ],
      "execution_count": 460,
      "outputs": []
    },
    {
      "cell_type": "markdown",
      "metadata": {
        "id": "qD8UOxdDlXtm",
        "colab_type": "text"
      },
      "source": [
        "let’s load BERT! There are a few different pre-trained BERT models available. “bert-base-uncased” means the version that has only lowercase letters (“uncased”) and is the smaller version of the two (“base” vs “large”)\n",
        "\n"
      ]
    },
    {
      "cell_type": "code",
      "metadata": {
        "id": "5zGV1y8LlE_d",
        "colab_type": "code",
        "colab": {
          "base_uri": "https://localhost:8080/",
          "height": 612
        },
        "outputId": "5390aff3-fdd9-464c-ffb7-ce30411181ea"
      },
      "source": [
        "# Get all of the model's parameters as a list of tuples.\n",
        "params = list(model.named_parameters())\n",
        "print('The BERT model has {:} different named parameters.\\n'.format(len(params)))\n",
        "print('==== Embedding Layer ====\\n')\n",
        "for p in params[0:5]:\n",
        "    print(\"{:<55} {:>12}\".format(p[0], str(tuple(p[1].size()))))\n",
        "print('\\n==== First Transformer ====\\n')\n",
        "for p in params[5:21]:\n",
        "    print(\"{:<55} {:>12}\".format(p[0], str(tuple(p[1].size()))))\n",
        "print('\\n==== Output Layer ====\\n')\n",
        "for p in params[-4:]:\n",
        "    print(\"{:<55} {:>12}\".format(p[0], str(tuple(p[1].size()))))\n"
      ],
      "execution_count": 461,
      "outputs": [
        {
          "output_type": "stream",
          "text": [
            "The BERT model has 201 different named parameters.\n",
            "\n",
            "==== Embedding Layer ====\n",
            "\n",
            "bert.embeddings.word_embeddings.weight                  (30522, 768)\n",
            "bert.embeddings.position_embeddings.weight                (512, 768)\n",
            "bert.embeddings.token_type_embeddings.weight                (2, 768)\n",
            "bert.embeddings.LayerNorm.weight                              (768,)\n",
            "bert.embeddings.LayerNorm.bias                                (768,)\n",
            "\n",
            "==== First Transformer ====\n",
            "\n",
            "bert.encoder.layer.0.attention.self.query.weight          (768, 768)\n",
            "bert.encoder.layer.0.attention.self.query.bias                (768,)\n",
            "bert.encoder.layer.0.attention.self.key.weight            (768, 768)\n",
            "bert.encoder.layer.0.attention.self.key.bias                  (768,)\n",
            "bert.encoder.layer.0.attention.self.value.weight          (768, 768)\n",
            "bert.encoder.layer.0.attention.self.value.bias                (768,)\n",
            "bert.encoder.layer.0.attention.output.dense.weight        (768, 768)\n",
            "bert.encoder.layer.0.attention.output.dense.bias              (768,)\n",
            "bert.encoder.layer.0.attention.output.LayerNorm.weight        (768,)\n",
            "bert.encoder.layer.0.attention.output.LayerNorm.bias          (768,)\n",
            "bert.encoder.layer.0.intermediate.dense.weight           (3072, 768)\n",
            "bert.encoder.layer.0.intermediate.dense.bias                 (3072,)\n",
            "bert.encoder.layer.0.output.dense.weight                 (768, 3072)\n",
            "bert.encoder.layer.0.output.dense.bias                        (768,)\n",
            "bert.encoder.layer.0.output.LayerNorm.weight                  (768,)\n",
            "bert.encoder.layer.0.output.LayerNorm.bias                    (768,)\n",
            "\n",
            "==== Output Layer ====\n",
            "\n",
            "bert.pooler.dense.weight                                  (768, 768)\n",
            "bert.pooler.dense.bias                                        (768,)\n",
            "classifier.weight                                          (87, 768)\n",
            "classifier.bias                                                (87,)\n"
          ],
          "name": "stdout"
        }
      ]
    },
    {
      "cell_type": "markdown",
      "metadata": {
        "id": "tlzNhXail07W",
        "colab_type": "text"
      },
      "source": [
        "Optimizer & Learning Rate Scheduler:\n",
        "Now that we have our model loaded we need to grab the training hyperparameters from within the stored model.\n",
        "For the purposes of fine-tuning, the authors recommend choosing from the following values:\n",
        "Batch size: 16, 32 (We chose 32 when creating our DataLoaders).\n",
        "Learning rate (Adam): 5e-5, 3e-5, 2e-5 (We’ll use 2e-5).\n",
        "Number of epochs: 2, 3, 4 (We’ll use 4).\n",
        "The epsilon parameter eps = 1e-8 is “a very small number to prevent any division by zero in the implementation”\n",
        "\n",
        "\n"
      ]
    },
    {
      "cell_type": "code",
      "metadata": {
        "id": "PXOyFLmCliw7",
        "colab_type": "code",
        "colab": {}
      },
      "source": [
        "# Note: AdamW is a class from the huggingface library (as opposed to pytorch) \n",
        "# I believe the 'W' stands for 'Weight Decay fix\"\n",
        "optimizer = AdamW(model.parameters(),\n",
        "                  lr = 2e-5, # args.learning_rate - default is 5e-5, our notebook had 2e-5\n",
        "                  eps = 1e-8 # args.adam_epsilon  - default is 1e-8.\n",
        "                )\n",
        "from transformers import get_linear_schedule_with_warmup\n",
        "# Number of training epochs (authors recommend between 2 and 4)\n",
        "epochs = 4\n",
        "# Total number of training steps is number of batches * number of epochs.\n",
        "total_steps = len(train_dataloader) * epochs\n",
        "# Create the learning rate scheduler.\n",
        "scheduler = get_linear_schedule_with_warmup(optimizer, \n",
        "                                            num_warmup_steps = 0, # Default value in run_glue.py\n",
        "                                            num_training_steps = total_steps)"
      ],
      "execution_count": 462,
      "outputs": []
    },
    {
      "cell_type": "markdown",
      "metadata": {
        "id": "Xe1VgG4Tq85o",
        "colab_type": "text"
      },
      "source": [
        "Define a helper function to find accuracy"
      ]
    },
    {
      "cell_type": "code",
      "metadata": {
        "id": "i0RZmdmxluIa",
        "colab_type": "code",
        "colab": {}
      },
      "source": [
        "import numpy as np\n",
        "# Function to calculate the accuracy of our predictions vs labels\n",
        "def flat_accuracy(preds, labels):\n",
        "    pred_flat = np.argmax(preds, axis=1).flatten()\n",
        "    labels_flat = labels.flatten()\n",
        "    return np.sum(pred_flat == labels_flat) / len(labels_flat)"
      ],
      "execution_count": 463,
      "outputs": []
    },
    {
      "cell_type": "markdown",
      "metadata": {
        "id": "OETTpqlhrCr7",
        "colab_type": "text"
      },
      "source": [
        "Helper function for formatting elapsed times.\n"
      ]
    },
    {
      "cell_type": "code",
      "metadata": {
        "id": "hOLafL31rGJV",
        "colab_type": "code",
        "colab": {}
      },
      "source": [
        "import time\n",
        "import datetime\n",
        "def format_time(elapsed):\n",
        "    '''\n",
        "    Takes a time in seconds and returns a string hh:mm:ss\n",
        "    '''\n",
        "    # Round to the nearest second.\n",
        "    elapsed_rounded = int(round((elapsed)))\n",
        "    \n",
        "    # Format as hh:mm:ss\n",
        "    return str(datetime.timedelta(seconds=elapsed_rounded))"
      ],
      "execution_count": 464,
      "outputs": []
    },
    {
      "cell_type": "markdown",
      "metadata": {
        "id": "bGMkZxZVrdOt",
        "colab_type": "text"
      },
      "source": [
        "Kick off training"
      ]
    },
    {
      "cell_type": "code",
      "metadata": {
        "id": "LrMEahWGrJxW",
        "colab_type": "code",
        "colab": {
          "base_uri": "https://localhost:8080/"
        },
        "outputId": "81a80714-1bff-46cb-c53f-a4481ba66058"
      },
      "source": [
        "import random\n",
        "import numpy as np\n",
        "import tensorflow as tf\n",
        "# This training code is based on the `run_glue.py` script here:\n",
        "# https://github.com/huggingface/transformers/blob/5bfcd0485ece086ebcbed2d008813037968a9e58/examples/run_glue.py#L128\n",
        "# Set the seed value all over the place to make this reproducible.\n",
        "seed_val = 42\n",
        "random.seed(seed_val)\n",
        "np.random.seed(seed_val)\n",
        "torch.manual_seed(seed_val)\n",
        "torch.cuda.manual_seed_all(seed_val)\n",
        "# Store the average loss after each epoch so we can plot them.\n",
        "loss_values = []\n",
        "# For each epoch...\n",
        "for epoch_i in range(0, epochs):\n",
        "    \n",
        "    # ========================================\n",
        "    #               Training\n",
        "    # ========================================\n",
        "    \n",
        "    # Perform one full pass over the training set.\n",
        "    print(\"\")\n",
        "    print('======== Epoch {:} / {:} ========'.format(epoch_i + 1, epochs))\n",
        "    print('Training...')\n",
        "    # Measure how long the training epoch takes.\n",
        "    t0 = time.time()\n",
        "    # Reset the total loss for this epoch.\n",
        "    total_loss = 0\n",
        "    # Put the model into training mode. Don't be mislead--the call to \n",
        "    # `train` just changes the *mode*, it doesn't *perform* the training.\n",
        "    # `dropout` and `batchnorm` layers behave differently during training\n",
        "    # vs. test (source: https://stackoverflow.com/questions/51433378/what-does-model-train-do-in-pytorch)\n",
        "    model.train()\n",
        "    # For each batch of training data...\n",
        "    for step, batch in enumerate(train_dataloader):\n",
        "        # Progress update every 40 batches.\n",
        "        if step % 40 == 0 and not step == 0:\n",
        "            # Calculate elapsed time in minutes.\n",
        "            elapsed = format_time(time.time() - t0)\n",
        "            \n",
        "            # Report progress.\n",
        "            print('  Batch {:>5,}  of  {:>5,}.    Elapsed: {:}.'.format(step, len(train_dataloader), elapsed))\n",
        "        # Unpack this training batch from our dataloader. \n",
        "        #\n",
        "        # As we unpack the batch, we'll also copy each tensor to the GPU using the \n",
        "        # `to` method.\n",
        "        #\n",
        "        # `batch` contains three pytorch tensors:\n",
        "        #   [0]: input ids \n",
        "        #   [1]: attention masks\n",
        "        #   [2]: labels \n",
        "        b_input_ids = batch[0].to(device)\n",
        "        b_input_mask = batch[1].to(device)\n",
        "        b_labels = batch[2].to(device)\n",
        "\n",
        "        # Always clear any previously calculated gradients before performing a\n",
        "        # backward pass. PyTorch doesn't do this automatically because \n",
        "        # accumulating the gradients is \"convenient while training RNNs\". \n",
        "        # (source: https://stackoverflow.com/questions/48001598/why-do-we-need-to-call-zero-grad-in-pytorch)\n",
        "        model.zero_grad()        \n",
        "        # Perform a forward pass (evaluate the model on this training batch).\n",
        "        # This will return the loss (rather than the model output) because we\n",
        "        # have provided the `labels`.\n",
        "        # The documentation for this `model` function is here: \n",
        "        # https://huggingface.co/transformers/v2.2.0/model_doc/bert.html#transformers.BertForSequenceClassification\n",
        "        outputs = model(b_input_ids, \n",
        "                    token_type_ids=None, \n",
        "                    attention_mask=b_input_mask\n",
        "                     ,labels=b_labels)\n",
        "                  # )        \n",
        "        # The call to `model` always returns a tuple, so we need to pull the loss value out of the tuple.\n",
        "        loss = outputs[0]\n",
        "\n",
        "        # calculate sigmoid loss\n",
        "        # loss_np = loss.detach().cpu().numpy()\n",
        "        # probabilities = tf.nn.sigmoid(loss_np)#### multi-label case\n",
        "        # print(probabilities)\n",
        "        # labels_np = b_labels.to('cpu').numpy()\n",
        "        # # tf.logging.info(\"num_labels:{};logits:{};labels:{}\".format(len(labels), loss_np, labels))\n",
        "        # per_example_loss = tf.nn.sigmoid_cross_entropy_with_logits(labels= labels_np, logits=probabilities)\n",
        "        # # loss_np = tf.reduce_mean(per_example_loss)\n",
        "        # total_loss += loss_np\n",
        "\n",
        "        # # Accumulate the training loss over all of the batches so that we can\n",
        "        # # calculate the average loss at the end. `loss` is a Tensor containing a\n",
        "        # # single value; the `.item()` function just returns the Python value \n",
        "        # # from the tensor.\n",
        "        total_loss += loss.item()\n",
        "        # Perform a backward pass to calculate the gradients.\n",
        "        loss.backward()\n",
        "        # Clip the norm of the gradients to 1.0. This is to help prevent the \"exploding gradients\" problem.\n",
        "        torch.nn.utils.clip_grad_norm_(model.parameters(), 1.0)\n",
        "        # Update parameters and take a step using the computed gradient.\n",
        "        # The optimizer dictates the \"update rule\"--how the parameters are\n",
        "        # modified based on their gradients, the learning rate, etc.\n",
        "        optimizer.step()\n",
        "        # Update the learning rate.\n",
        "        scheduler.step()\n",
        "    # Calculate the average loss over the training data.\n",
        "    avg_train_loss = total_loss / len(train_dataloader)            \n",
        "    \n",
        "    # Store the loss value for plotting the learning curve.\n",
        "    loss_values.append(avg_train_loss)\n",
        "    print(\"\")\n",
        "    print(\"  Average training loss: {0:.2f}\".format(avg_train_loss))\n",
        "    print(\"  Training epoch took: {:}\".format(format_time(time.time() - t0)))\n",
        "        \n",
        "    # ========================================\n",
        "    #               Validation\n",
        "    # ========================================\n",
        "    # After the completion of each training epoch, measure our performance on\n",
        "    # our validation set.\n",
        "    print(\"\")\n",
        "    print(\"Running Validation...\")\n",
        "    t0 = time.time()\n",
        "    # Put the model in evaluation mode--the dropout layers behave differently\n",
        "    # during evaluation.\n",
        "    model.eval()\n",
        "    # Tracking variables \n",
        "    eval_loss, eval_accuracy = 0, 0\n",
        "    nb_eval_steps, nb_eval_examples = 0, 0\n",
        "    # Evaluate data for one epoch\n",
        "    for batch in validation_dataloader:\n",
        "        \n",
        "        # Add batch to GPU\n",
        "        batch = tuple(t.to(device) for t in batch)\n",
        "        \n",
        "        # Unpack the inputs from our dataloader\n",
        "        b_input_ids, b_input_mask, b_labels = batch\n",
        "        \n",
        "        # Telling the model not to compute or store gradients, saving memory and\n",
        "        # speeding up validation\n",
        "        with torch.no_grad():        \n",
        "            # Forward pass, calculate logit predictions.\n",
        "            # This will return the logits rather than the loss because we have\n",
        "            # not provided labels.\n",
        "            # token_type_ids is the same as the \"segment ids\", which \n",
        "            # differentiates sentence 1 and 2 in 2-sentence tasks.\n",
        "            # The documentation for this `model` function is here: \n",
        "            # https://huggingface.co/transformers/v2.2.0/model_doc/bert.html#transformers.BertForSequenceClassification\n",
        "            outputs = model(b_input_ids, \n",
        "                            token_type_ids=None, \n",
        "                            attention_mask=b_input_mask)\n",
        "        \n",
        "        # Get the \"logits\" output by the model. The \"logits\" are the output\n",
        "        # values prior to applying an activation function like the softmax.\n",
        "        logits = outputs[0]\n",
        "        # Move logits and labels to CPU\n",
        "        logits = logits.detach().cpu().numpy()\n",
        "        label_ids = b_labels.to('cpu').numpy()\n",
        "        # Calculate the accuracy for this batch of test sentences.\n",
        "        tmp_eval_accuracy = flat_accuracy(logits, label_ids)\n",
        "        \n",
        "        # Accumulate the total accuracy.\n",
        "        eval_accuracy += tmp_eval_accuracy\n",
        "        # Track the number of batches\n",
        "        nb_eval_steps += 1\n",
        "    # Report the final accuracy for this validation run.\n",
        "    print(\"  Accuracy: {0:.2f}\".format(eval_accuracy/nb_eval_steps))\n",
        "    print(\"  Validation took: {:}\".format(format_time(time.time() - t0)))\n",
        "print(\"\")\n",
        "print(\"Training complete!\")"
      ],
      "execution_count": 465,
      "outputs": [
        {
          "output_type": "stream",
          "text": [
            "\n",
            "======== Epoch 1 / 4 ========\n",
            "Training...\n",
            "  Batch    40  of     76.    Elapsed: 0:00:15.\n",
            "\n",
            "  Average training loss: 3.66\n",
            "  Training epoch took: 0:00:29\n",
            "\n",
            "Running Validation...\n",
            "  Accuracy: 0.22\n",
            "  Validation took: 0:00:01\n",
            "\n",
            "======== Epoch 2 / 4 ========\n",
            "Training...\n",
            "  Batch    40  of     76.    Elapsed: 0:00:15.\n",
            "\n",
            "  Average training loss: 3.02\n",
            "  Training epoch took: 0:00:28\n",
            "\n",
            "Running Validation...\n",
            "  Accuracy: 0.42\n",
            "  Validation took: 0:00:01\n",
            "\n",
            "======== Epoch 3 / 4 ========\n",
            "Training...\n",
            "  Batch    40  of     76.    Elapsed: 0:00:15.\n",
            "\n",
            "  Average training loss: 2.61\n",
            "  Training epoch took: 0:00:28\n",
            "\n",
            "Running Validation...\n",
            "  Accuracy: 0.47\n",
            "  Validation took: 0:00:01\n",
            "\n",
            "======== Epoch 4 / 4 ========\n",
            "Training...\n",
            "  Batch    40  of     76.    Elapsed: 0:00:15.\n",
            "\n",
            "  Average training loss: 2.43\n",
            "  Training epoch took: 0:00:28\n",
            "\n",
            "Running Validation...\n",
            "  Accuracy: 0.48\n",
            "  Validation took: 0:00:01\n",
            "\n",
            "Training complete!\n"
          ],
          "name": "stdout"
        }
      ]
    },
    {
      "cell_type": "markdown",
      "metadata": {
        "id": "5pSAi8NGY6qF",
        "colab_type": "text"
      },
      "source": [
        ""
      ]
    },
    {
      "cell_type": "code",
      "metadata": {
        "id": "ct1fywhS73v8",
        "colab_type": "code",
        "colab": {
          "base_uri": "https://localhost:8080/"
        },
        "outputId": "77a25a5f-c39a-4d0d-82f9-449c0c7160bc"
      },
      "source": [
        "print(' No of labels:'+ str(len(label_ids)))\n",
        "print(label_ids)\n",
        "print(labels)"
      ],
      "execution_count": 466,
      "outputs": [
        {
          "output_type": "stream",
          "text": [
            " No of labels:11\n",
            "[38 25 40 30 33 10  9 25 25 12 84]\n",
            "[39 25 25 ... 71 30 32]\n"
          ],
          "name": "stdout"
        }
      ]
    },
    {
      "cell_type": "code",
      "metadata": {
        "id": "9ICZ9fVFrUw7",
        "colab_type": "code",
        "colab": {}
      },
      "source": [
        "# import plotly.express as px\n",
        "# f = pd.DataFrame(loss_values)\n",
        "# f.columns=['Loss']\n",
        "# fig = px.line(f, x=f.index, y=f.Loss)\n",
        "# fig.update_layout(title='Training loss of the Model',\n",
        "#                    xaxis_title='Epoch',\n",
        "#                    yaxis_title='Loss')\n",
        "# fig.show()"
      ],
      "execution_count": 467,
      "outputs": []
    },
    {
      "cell_type": "code",
      "metadata": {
        "id": "UhBwyp9su8oE",
        "colab_type": "code",
        "colab": {}
      },
      "source": [
        "import pandas as pd\n",
        "\n",
        "# Get the lists of sentences and their labels.\n",
        "\n",
        "if classType == 'binary':\n",
        "  sentences = binary_test_data.text_clean.values\n",
        "  labels = binary_test_data.ad_related.values\n",
        "else:\n",
        "  sentences = test_data.text_clean.values\n",
        "  labels = test_data.ad_manual_adjusted_id.values\n",
        "  \n",
        "# sentences = ad_related_twts.iloc[train_size:].text_clean.values\n",
        "# labels = ad_related_twts.iloc[train_size:].ad_manual_adjusted_id.values\n",
        "\n",
        "# Tokenize all of the sentences and map the tokens to thier word IDs.\n",
        "input_ids = []\n",
        "# For every sentence...\n",
        "for sent in sentences:\n",
        "    # `encode` will:\n",
        "    #   (1) Tokenize the sentence.\n",
        "    #   (2) Prepend the `[CLS]` token to the start.\n",
        "    #   (3) Append the `[SEP]` token to the end.\n",
        "    #   (4) Map tokens to their IDs.\n",
        "    encoded_sent = tokenizer.encode(\n",
        "                        sent,                      # Sentence to encode.\n",
        "                        add_special_tokens = True, # Add '[CLS]' and '[SEP]'\n",
        "                   )\n",
        "    \n",
        "    input_ids.append(encoded_sent)\n",
        "# Pad our input tokens\n",
        "input_ids = pad_sequences(input_ids, maxlen=MAX_LEN, \n",
        "                          dtype=\"long\", truncating=\"post\", padding=\"post\")\n",
        "# Create attention masks\n",
        "attention_masks = []\n",
        "# Create a mask of 1s for each token followed by 0s for padding\n",
        "for seq in input_ids:\n",
        "  seq_mask = [float(i>0) for i in seq]\n",
        "  attention_masks.append(seq_mask) \n",
        "# Convert to tensors.\n",
        "prediction_inputs = torch.tensor(input_ids)\n",
        "prediction_masks = torch.tensor(attention_masks)\n",
        "prediction_labels = torch.tensor(labels)\n",
        "# Set the batch size.  \n",
        "batch_size = 32  \n",
        "# Create the DataLoader.\n",
        "prediction_data = TensorDataset(prediction_inputs, prediction_masks, prediction_labels)\n",
        "prediction_sampler = SequentialSampler(prediction_data)\n",
        "prediction_dataloader = DataLoader(prediction_data, sampler=prediction_sampler, batch_size=batch_size)"
      ],
      "execution_count": 472,
      "outputs": []
    },
    {
      "cell_type": "code",
      "metadata": {
        "id": "rEFkmEIkvOBg",
        "colab_type": "code",
        "colab": {
          "base_uri": "https://localhost:8080/",
          "height": 51
        },
        "outputId": "e93ac458-f16a-4a0e-bc4e-acf5b8d6bf17"
      },
      "source": [
        "# Prediction on test set\n",
        "print('Predicting labels for {:,} test sentences.'.format(len(prediction_inputs)))\n",
        "# Put model in evaluation mode\n",
        "model.eval()\n",
        "# Tracking variables \n",
        "predictions , true_labels = [], []\n",
        "# Predict \n",
        "for batch in prediction_dataloader:\n",
        "  # Add batch to GPU\n",
        "  batch = tuple(t.to(device) for t in batch)\n",
        "  \n",
        "  # Unpack the inputs from our dataloader\n",
        "  b_input_ids, b_input_mask, b_labels = batch\n",
        "  \n",
        "  # Telling the model not to compute or store gradients, saving memory and \n",
        "  # speeding up prediction\n",
        "  with torch.no_grad():\n",
        "      # Forward pass, calculate logit predictions\n",
        "      outputs = model(b_input_ids, token_type_ids=None, \n",
        "                      attention_mask = b_input_mask)\n",
        "  logits = outputs[0]\n",
        "  # Move logits and labels to CPU\n",
        "  logits = logits.detach().cpu().numpy()\n",
        "  label_ids = b_labels.to('cpu').numpy()\n",
        "  # Store predictions and true labels\n",
        "  predictions.append(logits)\n",
        "  # print(predictions)\n",
        "  true_labels.append(label_ids)\n",
        "print('DONE.')"
      ],
      "execution_count": 473,
      "outputs": [
        {
          "output_type": "stream",
          "text": [
            "Predicting labels for 667 test sentences.\n",
            "DONE.\n"
          ],
          "name": "stdout"
        }
      ]
    },
    {
      "cell_type": "code",
      "metadata": {
        "id": "60BKaYQBva09",
        "colab_type": "code",
        "colab": {
          "base_uri": "https://localhost:8080/",
          "height": 102
        },
        "outputId": "96f05b8c-18f4-4c76-ad58-3c562847947a"
      },
      "source": [
        "def flatten_labels(true_labels):\n",
        "  flat_labels =[]\n",
        "  for i in range(len(true_labels)):\n",
        "    flat_labels.extend(true_labels[i].flatten())\n",
        "  return flat_labels\n",
        "\n",
        "def calculate_pred_labels(predictions):\n",
        "  tp_count =0\n",
        "  pred_labels = []\n",
        "  # For each input batch...\n",
        "  print(\" len of predictions: \" + str(len(predictions)))\n",
        "  for i in range(len(predictions)):\n",
        "    # The predictions for this batch are a 2-column ndarray (one column for \"0\" and one column for \"1\"). \n",
        "    # Pick the label with the highest value and turn this in to a list of 0s and 1s.\n",
        "    #print(predictions[i])\n",
        "    pred_labels_i = np.argmax(predictions[i], axis=1).flatten()\n",
        "    #print(pred_labels_i)\n",
        "    pred_labels.extend(pred_labels_i)\n",
        "    #pred_labels.append(pred_labels_i)\n",
        "\n",
        "  return pred_labels\n",
        "\n",
        "print(len(true_labels))\n",
        "print(len(predictions))\n",
        "true_labels_flat = flatten_labels(true_labels)\n",
        "#predictions_flat = flatten_labels(predictions)\n",
        "pred_labels = calculate_pred_labels(predictions)\n",
        "\n",
        "print(len(true_labels_flat))\n",
        "print(len(pred_labels))\n"
      ],
      "execution_count": 474,
      "outputs": [
        {
          "output_type": "stream",
          "text": [
            "21\n",
            "21\n",
            " len of predictions: 21\n",
            "667\n",
            "667\n"
          ],
          "name": "stdout"
        }
      ]
    },
    {
      "cell_type": "code",
      "metadata": {
        "id": "qgXwPoAFBdzL",
        "colab_type": "code",
        "colab": {
          "base_uri": "https://localhost:8080/",
          "height": 292
        },
        "outputId": "62b57729-1c02-478b-a51c-f1e7ab437d14"
      },
      "source": [
        "from sklearn.metrics import f1_score, precision_score, recall_score, accuracy_score, classification_report, confusion_matrix\n",
        "\n",
        "def getMetrics(true_labels_flat, pred_labels, averageType):\n",
        "  f1score = f1_score(true_labels_flat, pred_labels, average= averageType) \n",
        "  print('f1_score:'+ str(f1score))\n",
        "\n",
        "  prec = precision_score(true_labels_flat, pred_labels, average=averageType)\n",
        "  print('Precision:'+ str(prec))\n",
        "\n",
        "  acc = accuracy_score(true_labels_flat, pred_labels)\n",
        "  print(\"Accuracy: \"+ str(acc))\n",
        "\n",
        "  recall = recall_score(true_labels_flat, pred_labels, average=averageType)\n",
        "  print(\"recall: \"+ str(recall))\n",
        "\n",
        "  # classification_report(true_labels_flat, pred_labels)\n",
        "  confusionmatrix = confusion_matrix(true_labels_flat, pred_labels)\n",
        "  print(confusionmatrix)\n",
        "  if averageType == 'binary':\n",
        "    tn, fp, fn, tp = confusionmatrix.ravel()\n",
        "    print(\"tp: \"+ str(tp)+\" tn: \"+ str(tn)+\" fp: \"+ str(fp)+\" fn: \"+ str(fn))\n",
        "\n",
        "if classType == 'binary':\n",
        "  averageType = 'binary'\n",
        "else:\n",
        "  averageType = 'macro'\n",
        "  # micro: Calculate metrics globally by counting the total true positives, false negatives and false positives.\n",
        "  #macro: Calculate metrics for each label, and find their unweighted mean. This does not take label imbalance into account.\n",
        "\n",
        "getMetrics(true_labels_flat, pred_labels, averageType)"
      ],
      "execution_count": 475,
      "outputs": [
        {
          "output_type": "stream",
          "text": [
            "f1_score:0.04711444022695877\n",
            "Precision:0.03523460499340378\n",
            "Accuracy: 0.39280359820089955\n",
            "recall: 0.09257131851359356\n",
            "[[  0   0   0 ...   0   1   0]\n",
            " [  0   0   0 ...   0   0   0]\n",
            " [  0   0   0 ...   0   0   0]\n",
            " ...\n",
            " [  0   0   0 ...   0   0   0]\n",
            " [  0   0   0 ...   0 120   0]\n",
            " [  0   0   0 ...   0   7   0]]\n"
          ],
          "name": "stdout"
        },
        {
          "output_type": "stream",
          "text": [
            "/usr/local/lib/python3.6/dist-packages/sklearn/metrics/_classification.py:1272: UndefinedMetricWarning: Precision is ill-defined and being set to 0.0 in labels with no predicted samples. Use `zero_division` parameter to control this behavior.\n",
            "  _warn_prf(average, modifier, msg_start, len(result))\n",
            "/usr/local/lib/python3.6/dist-packages/sklearn/metrics/_classification.py:1272: UndefinedMetricWarning: Recall is ill-defined and being set to 0.0 in labels with no true samples. Use `zero_division` parameter to control this behavior.\n",
            "  _warn_prf(average, modifier, msg_start, len(result))\n"
          ],
          "name": "stderr"
        }
      ]
    },
    {
      "cell_type": "code",
      "metadata": {
        "id": "41-53pwVUd8m",
        "colab_type": "code",
        "colab": {
          "base_uri": "https://localhost:8080/",
          "height": 34
        },
        "outputId": "c3aea8bb-9708-4fad-fa09-2bd9ff24c3c3"
      },
      "source": [
        "# output_embeddings = model.get_output_embeddings()\n",
        "# print(output_embeddings)"
      ],
      "execution_count": 432,
      "outputs": [
        {
          "output_type": "stream",
          "text": [
            "None\n"
          ],
          "name": "stdout"
        }
      ]
    },
    {
      "cell_type": "code",
      "metadata": {
        "id": "biPMhj-GVuPV",
        "colab_type": "code",
        "colab": {
          "base_uri": "https://localhost:8080/",
          "height": 34
        },
        "outputId": "f6073e0e-77bf-4fb5-eab2-fc0055eb853f"
      },
      "source": [
        "import torch\n",
        "from torch import nn\n",
        "\n",
        "embedding_layer = model.get_input_embeddings()\n",
        "print(embedding_layer)\n",
        "trained_embeddings = embedding_layer.weight.cpu().detach().numpy()\n",
        "if classType == 'binary':\n",
        "  input_embedding_module = nn.Embedding(trained_embeddings.shape[0], trained_embeddings.shape[1], \n",
        "                             padding_idx= embedding_layer.padding_idx)\n",
        "if classType == 'multilabel':\n",
        "  model.set_input_embeddings(input_embedding_module)"
      ],
      "execution_count": 436,
      "outputs": [
        {
          "output_type": "stream",
          "text": [
            "Embedding(30522, 768, padding_idx=0)\n"
          ],
          "name": "stdout"
        }
      ]
    },
    {
      "cell_type": "markdown",
      "metadata": {
        "id": "SbfZ-97iUfYp",
        "colab_type": "text"
      },
      "source": [
        "Save the model"
      ]
    },
    {
      "cell_type": "code",
      "metadata": {
        "id": "68UvOrlLMY84",
        "colab_type": "code",
        "colab": {
          "base_uri": "https://localhost:8080/",
          "height": 85
        },
        "outputId": "009bbdd2-ee80-4dc4-87df-5c2509bcbaea"
      },
      "source": [
        " # save the model\n",
        "\n",
        "import os\n",
        "\n",
        "# Saving best-practices: if you use defaults names for the model, you can reload it using from_pretrained()\n",
        "\n",
        "output_dir = './model_save/'\n",
        "\n",
        "# Create output directory if needed\n",
        "if not os.path.exists(output_dir):\n",
        "    os.makedirs(output_dir)\n",
        "\n",
        "print(\"Saving model to %s\" % output_dir)\n",
        "\n",
        "# Save a trained model, configuration and tokenizer using `save_pretrained()`.\n",
        "# They can then be reloaded using `from_pretrained()`\n",
        "model_to_save = model.module if hasattr(model, 'module') else model  # Take care of distributed/parallel training\n",
        "model_to_save.save_pretrained(output_dir)\n",
        "tokenizer.save_pretrained(output_dir)\n"
      ],
      "execution_count": 396,
      "outputs": [
        {
          "output_type": "stream",
          "text": [
            "Saving model to ./model_save/\n"
          ],
          "name": "stdout"
        },
        {
          "output_type": "execute_result",
          "data": {
            "text/plain": [
              "('./model_save/vocab.txt',\n",
              " './model_save/special_tokens_map.json',\n",
              " './model_save/added_tokens.json')"
            ]
          },
          "metadata": {
            "tags": []
          },
          "execution_count": 396
        }
      ]
    },
    {
      "cell_type": "markdown",
      "metadata": {
        "id": "IdUSMdX9Uh83",
        "colab_type": "text"
      },
      "source": [
        "Sentence similarity between Tweets and ads using Fine tuned BERT embeddings"
      ]
    },
    {
      "cell_type": "code",
      "metadata": {
        "id": "f1qjC3fh52rv",
        "colab_type": "code",
        "colab": {}
      },
      "source": [
        "\n",
        "def get_word_indeces(tokenizer, text, word):\n",
        "    '''\n",
        "    Determines the index or indeces of the tokens corresponding to `word`\n",
        "    within `text`. `word` can consist of multiple words, e.g., \"cell biology\".\n",
        "    \n",
        "    Determining the indeces is tricky because words can be broken into multiple\n",
        "    tokens. I've solved this with a rather roundabout approach--I replace `word`\n",
        "    with the correct number of `[MASK]` tokens, and then find these in the \n",
        "    tokenized result. \n",
        "    '''\n",
        "    # Tokenize the 'word'--it may be broken into multiple tokens or subwords.\n",
        "    word_tokens = tokenizer.tokenize(word)\n",
        "\n",
        "    # Create a sequence of `[MASK]` tokens to put in place of `word`.\n",
        "    masks_str = ' '.join(['[MASK]']*len(word_tokens))\n",
        "\n",
        "    # Replace the word with mask tokens.\n",
        "    text_masked = text.replace(word, masks_str)\n",
        "\n",
        "    # `encode` performs multiple functions:\n",
        "    #   1. Tokenizes the text\n",
        "    #   2. Maps the tokens to their IDs\n",
        "    #   3. Adds the special [CLS] and [SEP] tokens.\n",
        "    input_ids = tokenizer.encode(text_masked)\n",
        "\n",
        "    # Use numpy's `where` function to find all indeces of the [MASK] token.\n",
        "    mask_token_indeces = np.where(np.array(input_ids) == tokenizer.mask_token_id)[0]\n",
        "\n",
        "    return mask_token_indeces"
      ],
      "execution_count": 397,
      "outputs": []
    },
    {
      "cell_type": "code",
      "metadata": {
        "id": "RtdgktBl58M7",
        "colab_type": "code",
        "colab": {}
      },
      "source": [
        "# Check Sentence embeddings\n",
        "\n",
        "# def get_embedding(b_model, b_tokenizer, text, MAX_LEN = 64, word=''):\n",
        "    '''\n",
        "    Uses the provided model and tokenizer to produce an embedding for the\n",
        "    provided `text`, and a \"contextualized\" embedding for `word`, if provided.\n",
        "    '''\n",
        "    # If a word is provided, figure out which tokens correspond to it.\n",
        "    if not word == '':\n",
        "        word_indeces = get_word_indeces(b_tokenizer, text, word)\n",
        "\n",
        "    # Encode the text, adding the (required!) special tokens, and converting toPyTorch tensors.\n",
        "    encoded_dict = b_tokenizer.encode_plus(\n",
        "                        text,                      # Sentence to encode.\n",
        "                        add_special_tokens = True, # Add '[CLS]' and '[SEP]'\n",
        "                        return_tensors = 'pt',     # Return pytorch tensors.\n",
        "                )\n",
        "    # print(encoded_dict)\n",
        "    input_ids = encoded_dict['input_ids']\n",
        "    # print(input_ids)\n",
        "    b_model.eval()\n",
        "    # bert_outputs = b_model(input_ids)     # Run the text through the model and get the hidden states.\n",
        "    \n",
        "    with torch.no_grad():     # Run the text through BERT, and collect all of the hidden states produced from all 12 layers. \n",
        "\n",
        "        outputs = b_model(input_ids)\n",
        "\n",
        "        # Evaluating the model will return a different number of objects based on how it's  configured in the `from_pretrained` call earlier. \n",
        "        #In this case, becase we set `output_hidden_states = True`, the third item will be the hidden states from all layers. \n",
        "        #See the documentation for more details:https://huggingface.co/transformers/model_doc/bert.html#bertmodel\n",
        "        hidden_states = outputs[2]     # `hidden_states` has shape [13 x 1 x <sentence length> x 768]\n",
        "    # Select the embeddings from the second to last layer.\n",
        "    # `token_vecs` is a tensor with shape [<sent length> x 768]\n",
        "    # token_vecs = hidden_states[-2][0]\n",
        "    \n",
        "    token_vecs = hidden_states[-2][0]\n",
        "    print(token_vecs.shape)\n",
        "    # sentence_embedding = torch.mean(token_vecs, dim=0)    # Calculate the average of all token vectors.\n",
        "    sentence_embedding = token_vecs[0]    # Calculate the average of all token vectors.\n",
        "    sentence_embedding = sentence_embedding.detach().numpy()     # Convert to numpy array.\n",
        "\n",
        "    if not word == '':     # If `word` was provided, compute an embedding for those tokens.\n",
        "        word_embedding = torch.mean(token_vecs[word_indeces], dim=0)         # Take the average of the embeddings for the tokens in `word`\n",
        "        word_embedding = word_embedding.detach().numpy()         # Convert to numpy array.\n",
        "    \n",
        "        return (sentence_embedding, word_embedding)\n",
        "    else:\n",
        "        return sentence_embedding"
      ],
      "execution_count": 398,
      "outputs": []
    },
    {
      "cell_type": "code",
      "metadata": {
        "id": "TgRt5-ZDsE4K",
        "colab_type": "code",
        "colab": {}
      },
      "source": [
        "\n",
        "def get_sentence_embeddings(model, sentences, labels):\n",
        "# Tokenize all of the sentences and map the tokens to thier word IDs.\n",
        "  input_ids = []\n",
        "  # For every sentence...\n",
        "  for sent in sentences:\n",
        "      encoded_sent = tokenizer.encode(\n",
        "                          sent,                      # Sentence to encode.\n",
        "                          add_special_tokens = True, # Add '[CLS]' and '[SEP]'\n",
        "                    )\n",
        "      \n",
        "      input_ids.append(encoded_sent)\n",
        "  # Pad our input tokens\n",
        "  input_ids = pad_sequences(input_ids, maxlen=MAX_LEN, \n",
        "                            dtype=\"long\", truncating=\"post\", padding=\"post\")\n",
        "  # Create attention masks\n",
        "  attention_masks = []\n",
        "  # Create a mask of 1s for each token followed by 0s for padding\n",
        "  for seq in input_ids:\n",
        "    seq_mask = [float(i>0) for i in seq]\n",
        "    attention_masks.append(seq_mask) \n",
        "  # Convert to tensors.\n",
        "  prediction_inputs = torch.tensor(input_ids)\n",
        "  prediction_masks = torch.tensor(attention_masks)\n",
        "  prediction_labels = torch.tensor(labels)\n",
        "  # Set the batch size.  \n",
        "  batch_size = 32  \n",
        "  # Create the DataLoader.\n",
        "  prediction_data = TensorDataset(prediction_inputs, prediction_masks, prediction_labels)\n",
        "  prediction_sampler = SequentialSampler(prediction_data)\n",
        "  prediction_dataloader = DataLoader(prediction_data, sampler=prediction_sampler, batch_size=batch_size)\n",
        "  # Prediction on test set\n",
        "  print('Predicting labels for {:,} test sentences.'.format(len(prediction_inputs)))\n",
        "  # Put model in evaluation mode\n",
        "  model.eval()\n",
        "  # Tracking variables \n",
        "  predictions , true_labels = [], []\n",
        "  sentence_embeddings = []\n",
        "  # Predict \n",
        "  for batch in prediction_dataloader:\n",
        "    # Add batch to GPU\n",
        "    batch = tuple(t.to(device) for t in batch)\n",
        "    # Unpack the inputs from our dataloader\n",
        "    b_input_ids, b_input_mask, b_labels = batch\n",
        "    \n",
        "    # Telling the model not to compute or store gradients, saving memory and \n",
        "    # speeding up prediction\n",
        "    with torch.no_grad():\n",
        "        # Forward pass, calculate logit predictions\n",
        "        outputs = model(b_input_ids, token_type_ids=None, \n",
        "                        attention_mask=b_input_mask)\n",
        "    logits = outputs[0]\n",
        "    hidden_states = outputs[1]\n",
        "\n",
        "    # Move logits and labels to CPU\n",
        "    logits = logits.detach().cpu().numpy()\n",
        "    label_ids = b_labels.to('cpu').numpy()\n",
        "    # print(\"# of hidden states \"+ str(len(hidden_states)) )\n",
        "    # print(\"# of input samples \"+ str(len(hidden_states[-2])))\n",
        "    sentence_token_vecs = hidden_states[0] + hidden_states[1] + hidden_states[2] + hidden_states[3]\\\n",
        "                        + hidden_states[4] + hidden_states[5] + hidden_states[6] + hidden_states[7]\\\n",
        "                        + hidden_states[8] + hidden_states[9] + hidden_states[10] + hidden_states[11]\n",
        "    # sentence_token_vecs = hidden_states[-2]\n",
        "    # print(\"token vecs' shape:\" + str(sentence_token_vecs.shape)) # shape: [nSentences in a batch (32), sent length(64), 768] \n",
        "    for i in range(sentence_token_vecs.shape[0]):\n",
        "      sentence_embedding = sentence_token_vecs[i][0]   # Get the embedding of Frst token ie CLS\n",
        "      # sentence_embedding = torch.mean(sentence_token_vecs[i], dim=0)    # Calculate the average of all token vectors.\n",
        "      sentence_embeddings.append(sentence_embedding)\n",
        "    # Store predictions and true labels\n",
        "    predictions.append(logits)\n",
        "    true_labels.append(label_ids)\n",
        "  print('DONE.')\n",
        "  print(\" length of sentence embeddings\" + str(len(sentence_embeddings)))\n",
        "\n",
        "  return sentence_embeddings"
      ],
      "execution_count": 420,
      "outputs": []
    },
    {
      "cell_type": "markdown",
      "metadata": {
        "id": "HGc0hPd96MIY",
        "colab_type": "text"
      },
      "source": [
        "Get max similar sentence from model based on sentence embeddings"
      ]
    },
    {
      "cell_type": "code",
      "metadata": {
        "id": "fwLoTLVv6Kqu",
        "colab_type": "code",
        "colab": {
          "base_uri": "https://localhost:8080/"
        },
        "outputId": "c494866e-cf0b-4d13-f68d-f71bfa064084"
      },
      "source": [
        "# bert_model = BertModel.from_pretrained('bert-base-uncased',\n",
        "#                                   output_hidden_states = True)\n",
        "# bert_tokenizer = BertTokenizer.from_pretrained('bert-base-uncased')\n",
        "# ad_keywords['ad_embeddings'] = ad_keywords['keywords_clean'].apply(lambda ad: \n",
        "#                                           get_embedding(bert_model, bert_tokenizer, ad))\n",
        "# ad_related_twts['tweet_embeddings'] = ad_related_twts['text_clean'].apply(lambda x: \n",
        "#                                         get_embedding(bert_model, bert_tokenizer, x))\n",
        "\n",
        "sentences = ad_related_twts.text_clean.values\n",
        "labels = ad_related_twts.ad_manual_adjusted_id.values\n",
        "test_df = ad_related_twts\n",
        "\n",
        "test_df['tweet_embeddings'] = get_sentence_embeddings(model, sentences, labels)\n",
        "\n",
        "ad_sentences = ad_keywords['keywords_clean']\n",
        "ad_labels = np.zeros(ad_sentences.shape[0])\n",
        "ad_keywords['ad_embeddings'] = get_sentence_embeddings(model, ad_sentences, ad_labels)\n"
      ],
      "execution_count": 476,
      "outputs": [
        {
          "output_type": "stream",
          "text": [
            "Predicting labels for 3,335 test sentences.\n",
            "DONE.\n",
            " length of sentence embeddings3335\n",
            "Predicting labels for 75 test sentences.\n",
            "DONE.\n",
            " length of sentence embeddings75\n"
          ],
          "name": "stdout"
        }
      ]
    },
    {
      "cell_type": "code",
      "metadata": {
        "id": "mtOxNUMo_c1W",
        "colab_type": "code",
        "colab": {}
      },
      "source": [
        "import numpy as np\n",
        "\n",
        "def get_topn(arr, n):\n",
        "  top_indices_unsorted = (np.argpartition(arr, -n)[-n:]) # gives indices of topn but unsorted\n",
        "  arr = np.array(arr) # first convert input list to array\n",
        "  indices = np.argsort(-arr[top_indices_unsorted])\n",
        "  top_indices_sorted = top_indices_unsorted[indices]\n",
        "  topn = arr[top_indices_sorted]\n",
        "\n",
        "  return top_indices_sorted, topn\n",
        "\n",
        "# arr = [3,2,4,5,6,9,8,7 ]\n",
        "# topn_indices, topn_vals = get_topn(arr, 5)\n",
        "# print(topn_vals)\n",
        "# print(topn_indices )\n"
      ],
      "execution_count": 485,
      "outputs": []
    },
    {
      "cell_type": "code",
      "metadata": {
        "id": "2k8F_soj8iz7",
        "colab_type": "code",
        "colab": {}
      },
      "source": [
        "from scipy.spatial.distance import cosine\n",
        "from sklearn.metrics.pairwise import cosine_similarity\n",
        "sent_sims = []\n",
        "n = 3\n",
        "max_sim_ad_id_1 = []\n",
        "max_sim_ad_id_2 = []\n",
        "max_sim_ad_id_3 = []\n",
        "\n",
        "max_sim_ad_1 = []\n",
        "max_sim_ad_2 = []\n",
        "max_sim_ad_3 = []\n",
        "ad_id_dict_keys = list(ad_id_dict.keys())\n",
        "\n",
        "data = test_df\n",
        "\n",
        "for sent_embedding in data['tweet_embeddings']:\n",
        "  ad_sims = []\n",
        "  for ad_embedding in ad_keywords['ad_embeddings']:\n",
        "    sim = 1- cosine(sent_embedding.to('cpu').numpy(), ad_embedding.to('cpu').numpy())\n",
        "    ad_sims.append(sim)\n",
        "  sent_sims.append(ad_sims)\n",
        "  # max_sim_ad.append(np.argmax(ad_sims))\n",
        "  topn_ads, topn_scores = get_topn(ad_sims, n)\n",
        "\n",
        "  max_sim_ad_id_1.append(topn_ads[0])\n",
        "  max_sim_ad_id_2.append(topn_ads[1])\n",
        "  max_sim_ad_id_3.append(topn_ads[2])\n",
        "\n",
        "  max_sim_ad_1.append(ad_id_dict_keys[topn_ads[0]])\n",
        "  max_sim_ad_2.append(ad_id_dict_keys[topn_ads[1]])\n",
        "  max_sim_ad_3.append(ad_id_dict_keys[topn_ads[2]])\n",
        "\n",
        "data['max_sim_ad_1'] = max_sim_ad_1\n",
        "data['max_sim_ad_2'] = max_sim_ad_2\n",
        "data['max_sim_ad_3'] = max_sim_ad_3\n",
        "data['max_sim_ad_id_1'] = max_sim_ad_id_1\n",
        "data['max_sim_ad_id_2'] = max_sim_ad_id_2\n",
        "data['max_sim_ad_id_3'] = max_sim_ad_id_3\n"
      ],
      "execution_count": 478,
      "outputs": []
    },
    {
      "cell_type": "code",
      "metadata": {
        "id": "W394xle5ijp7",
        "colab_type": "code",
        "colab": {}
      },
      "source": [
        "# data.head(10)"
      ],
      "execution_count": 479,
      "outputs": []
    },
    {
      "cell_type": "code",
      "metadata": {
        "id": "pukY95bZ8VP8",
        "colab_type": "code",
        "colab": {
          "base_uri": "https://localhost:8080/",
          "height": 68
        },
        "outputId": "de039259-f3e6-4b46-e2f5-c68f7795a5b4"
      },
      "source": [
        "# get max similar ad based on embeddings from model\n",
        "count = 0\n",
        "print(len(data))\n",
        "for i, ad in data.iterrows():\n",
        "  if ad['ad_manual_adjusted_id'] == ad['max_sim_ad_id_1'] or ad['ad_manual_adjusted_id'] == ad['max_sim_ad_id_2'] or ad['ad_manual_adjusted_id'] == ad['max_sim_ad_id_3']:\n",
        "    count = count + 1\n",
        "\n",
        "accuracy = count/ad_related_twts.shape[0]\n",
        "print(count)\n",
        "print(accuracy)"
      ],
      "execution_count": 486,
      "outputs": [
        {
          "output_type": "stream",
          "text": [
            "3335\n",
            "30\n",
            "0.008995502248875561\n"
          ],
          "name": "stdout"
        }
      ]
    },
    {
      "cell_type": "code",
      "metadata": {
        "id": "XL3_JhopFzQf",
        "colab_type": "code",
        "colab": {}
      },
      "source": [
        "# By taking CLS token vector i.e vecs[0], calculate cosine similarity values and accuracy values\n",
        "# -1: 0.032\n",
        "# -2: 0.05\n",
        "# -3: 0.012\n",
        "# -4: 0.029\n",
        "# -5: 0.061\n",
        "# -6: 0.039\n",
        "# -7: 0.014\n",
        "# -8: 0.013\n",
        "# -9: 0.006\n",
        "# -10: 0.007\n",
        "# -11: 0.019\n",
        "\n",
        "\n",
        "\n",
        "# By taking average, calculate cosine similarity values and accuracy values\n",
        "# -1: 0.016\n",
        "# -2: 0.02\n",
        "# -3: 0.007\n",
        "# -4: 0.016\n",
        "# -5: 0.023\n",
        "# -6: 0.019\n",
        "# -7: 0.010\n",
        "# -8: 0.015\n",
        "# -9: 0.023\n",
        "# -10: 0.037\n",
        "# -11: 0.046\n"
      ],
      "execution_count": 481,
      "outputs": []
    },
    {
      "cell_type": "code",
      "metadata": {
        "id": "-A_-i1MB5ed1",
        "colab_type": "code",
        "colab": {}
      },
      "source": [
        "# import inflect\n",
        "# p = inflect.engine()\n",
        "\n",
        "# def get_singular_words(plural_words):\n",
        "#   sing_words = []\n",
        "#   for word in plural_words:\n",
        "#     sing_words.append(p.singular_noun(word))\n",
        "#   return sing_words\n",
        "\n",
        "# words = [\"apples\", \"sheep\", \"oranges\", \"cats\", \"people\", \"dice\", \"pence\", \"trump\"]\n",
        "# sing_words = get_singular_words(words)\n",
        "# print(sing_words)"
      ],
      "execution_count": 482,
      "outputs": []
    },
    {
      "cell_type": "code",
      "metadata": {
        "id": "HLi75PdoJErZ",
        "colab_type": "code",
        "colab": {}
      },
      "source": [
        "# from nltk.stem import PorterStemmer\n",
        "\n",
        "# porter=PorterStemmer()\n",
        "# def get_stem_words(plural_words):\n",
        "#   sing_words = []\n",
        "#   for word in plural_words:\n",
        "#     sing_words.append(porter.stem(word))\n",
        "#   return sing_words\n",
        "\n",
        "# words = [\"apples\", \"sheep\", \"oranges\", \"cats\", \"people\", \"dice\", \"pence\", \"trump\"]\n",
        "# stem_words = get_stem_words(words)\n",
        "# print(stem_words)"
      ],
      "execution_count": 483,
      "outputs": []
    },
    {
      "cell_type": "code",
      "metadata": {
        "id": "nvOjXGKFJIq2",
        "colab_type": "code",
        "colab": {}
      },
      "source": [
        "# https://huggingface.co/transformers/main_classes/tokenizer.html\n",
        "# add words that are not in pre trained vocab as tokens\n",
        "# TODO cross check if the embeddings actually got updated\n",
        "\n",
        "# added_tokens = []\n",
        "# for key in ad_keys_clean:\n",
        "#   if key not in vocab_tokens:\n",
        "#     n = tokenizer.add_tokens(key)\n",
        "#     if n==1:\n",
        "#       added_tokens.append(key)\n",
        "# print('added '+ str(len(added_tokens)) +' to the vocab')\n",
        "# print(\"added words:\"+ str(added_tokens))"
      ],
      "execution_count": 484,
      "outputs": []
    }
  ]
}