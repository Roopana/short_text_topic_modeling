{
  "nbformat": 4,
  "nbformat_minor": 0,
  "metadata": {
    "colab": {
      "name": "BERT_FineTuned_Embeddings.ipynb",
      "provenance": [],
      "collapsed_sections": [],
      "authorship_tag": "ABX9TyPIbs6Fbq2KeRRQWp/kTb6i",
      "include_colab_link": true
    },
    "kernelspec": {
      "name": "python3",
      "display_name": "Python 3"
    },
    "accelerator": "GPU",
    "widgets": {
      "application/vnd.jupyter.widget-state+json": {
        "49dce0f94ef1408e8396163594479062": {
          "model_module": "@jupyter-widgets/controls",
          "model_name": "HBoxModel",
          "state": {
            "_view_name": "HBoxView",
            "_dom_classes": [],
            "_model_name": "HBoxModel",
            "_view_module": "@jupyter-widgets/controls",
            "_model_module_version": "1.5.0",
            "_view_count": null,
            "_view_module_version": "1.5.0",
            "box_style": "",
            "layout": "IPY_MODEL_6a463113645448b7982d5dbe68a85a47",
            "_model_module": "@jupyter-widgets/controls",
            "children": [
              "IPY_MODEL_53012ed847424140969f9687fd814527",
              "IPY_MODEL_f3f4ba57e57b4c20b2ef68056d68c2c1"
            ]
          }
        },
        "6a463113645448b7982d5dbe68a85a47": {
          "model_module": "@jupyter-widgets/base",
          "model_name": "LayoutModel",
          "state": {
            "_view_name": "LayoutView",
            "grid_template_rows": null,
            "right": null,
            "justify_content": null,
            "_view_module": "@jupyter-widgets/base",
            "overflow": null,
            "_model_module_version": "1.2.0",
            "_view_count": null,
            "flex_flow": null,
            "width": null,
            "min_width": null,
            "border": null,
            "align_items": null,
            "bottom": null,
            "_model_module": "@jupyter-widgets/base",
            "top": null,
            "grid_column": null,
            "overflow_y": null,
            "overflow_x": null,
            "grid_auto_flow": null,
            "grid_area": null,
            "grid_template_columns": null,
            "flex": null,
            "_model_name": "LayoutModel",
            "justify_items": null,
            "grid_row": null,
            "max_height": null,
            "align_content": null,
            "visibility": null,
            "align_self": null,
            "height": null,
            "min_height": null,
            "padding": null,
            "grid_auto_rows": null,
            "grid_gap": null,
            "max_width": null,
            "order": null,
            "_view_module_version": "1.2.0",
            "grid_template_areas": null,
            "object_position": null,
            "object_fit": null,
            "grid_auto_columns": null,
            "margin": null,
            "display": null,
            "left": null
          }
        },
        "53012ed847424140969f9687fd814527": {
          "model_module": "@jupyter-widgets/controls",
          "model_name": "FloatProgressModel",
          "state": {
            "_view_name": "ProgressView",
            "style": "IPY_MODEL_b7cf2438302f4acbb56624936f2afb07",
            "_dom_classes": [],
            "description": "Downloading: 100%",
            "_model_name": "FloatProgressModel",
            "bar_style": "success",
            "max": 231508,
            "_view_module": "@jupyter-widgets/controls",
            "_model_module_version": "1.5.0",
            "value": 231508,
            "_view_count": null,
            "_view_module_version": "1.5.0",
            "orientation": "horizontal",
            "min": 0,
            "description_tooltip": null,
            "_model_module": "@jupyter-widgets/controls",
            "layout": "IPY_MODEL_e272351da57849d0b42165eda0a8fcba"
          }
        },
        "f3f4ba57e57b4c20b2ef68056d68c2c1": {
          "model_module": "@jupyter-widgets/controls",
          "model_name": "HTMLModel",
          "state": {
            "_view_name": "HTMLView",
            "style": "IPY_MODEL_632614be0a354f94a9b570f860af2ab4",
            "_dom_classes": [],
            "description": "",
            "_model_name": "HTMLModel",
            "placeholder": "​",
            "_view_module": "@jupyter-widgets/controls",
            "_model_module_version": "1.5.0",
            "value": " 232k/232k [00:00&lt;00:00, 1.33MB/s]",
            "_view_count": null,
            "_view_module_version": "1.5.0",
            "description_tooltip": null,
            "_model_module": "@jupyter-widgets/controls",
            "layout": "IPY_MODEL_9cfb7322626145379e47ecfb513b8e30"
          }
        },
        "b7cf2438302f4acbb56624936f2afb07": {
          "model_module": "@jupyter-widgets/controls",
          "model_name": "ProgressStyleModel",
          "state": {
            "_view_name": "StyleView",
            "_model_name": "ProgressStyleModel",
            "description_width": "initial",
            "_view_module": "@jupyter-widgets/base",
            "_model_module_version": "1.5.0",
            "_view_count": null,
            "_view_module_version": "1.2.0",
            "bar_color": null,
            "_model_module": "@jupyter-widgets/controls"
          }
        },
        "e272351da57849d0b42165eda0a8fcba": {
          "model_module": "@jupyter-widgets/base",
          "model_name": "LayoutModel",
          "state": {
            "_view_name": "LayoutView",
            "grid_template_rows": null,
            "right": null,
            "justify_content": null,
            "_view_module": "@jupyter-widgets/base",
            "overflow": null,
            "_model_module_version": "1.2.0",
            "_view_count": null,
            "flex_flow": null,
            "width": null,
            "min_width": null,
            "border": null,
            "align_items": null,
            "bottom": null,
            "_model_module": "@jupyter-widgets/base",
            "top": null,
            "grid_column": null,
            "overflow_y": null,
            "overflow_x": null,
            "grid_auto_flow": null,
            "grid_area": null,
            "grid_template_columns": null,
            "flex": null,
            "_model_name": "LayoutModel",
            "justify_items": null,
            "grid_row": null,
            "max_height": null,
            "align_content": null,
            "visibility": null,
            "align_self": null,
            "height": null,
            "min_height": null,
            "padding": null,
            "grid_auto_rows": null,
            "grid_gap": null,
            "max_width": null,
            "order": null,
            "_view_module_version": "1.2.0",
            "grid_template_areas": null,
            "object_position": null,
            "object_fit": null,
            "grid_auto_columns": null,
            "margin": null,
            "display": null,
            "left": null
          }
        },
        "632614be0a354f94a9b570f860af2ab4": {
          "model_module": "@jupyter-widgets/controls",
          "model_name": "DescriptionStyleModel",
          "state": {
            "_view_name": "StyleView",
            "_model_name": "DescriptionStyleModel",
            "description_width": "",
            "_view_module": "@jupyter-widgets/base",
            "_model_module_version": "1.5.0",
            "_view_count": null,
            "_view_module_version": "1.2.0",
            "_model_module": "@jupyter-widgets/controls"
          }
        },
        "9cfb7322626145379e47ecfb513b8e30": {
          "model_module": "@jupyter-widgets/base",
          "model_name": "LayoutModel",
          "state": {
            "_view_name": "LayoutView",
            "grid_template_rows": null,
            "right": null,
            "justify_content": null,
            "_view_module": "@jupyter-widgets/base",
            "overflow": null,
            "_model_module_version": "1.2.0",
            "_view_count": null,
            "flex_flow": null,
            "width": null,
            "min_width": null,
            "border": null,
            "align_items": null,
            "bottom": null,
            "_model_module": "@jupyter-widgets/base",
            "top": null,
            "grid_column": null,
            "overflow_y": null,
            "overflow_x": null,
            "grid_auto_flow": null,
            "grid_area": null,
            "grid_template_columns": null,
            "flex": null,
            "_model_name": "LayoutModel",
            "justify_items": null,
            "grid_row": null,
            "max_height": null,
            "align_content": null,
            "visibility": null,
            "align_self": null,
            "height": null,
            "min_height": null,
            "padding": null,
            "grid_auto_rows": null,
            "grid_gap": null,
            "max_width": null,
            "order": null,
            "_view_module_version": "1.2.0",
            "grid_template_areas": null,
            "object_position": null,
            "object_fit": null,
            "grid_auto_columns": null,
            "margin": null,
            "display": null,
            "left": null
          }
        }
      }
    }
  },
  "cells": [
    {
      "cell_type": "markdown",
      "metadata": {
        "id": "view-in-github",
        "colab_type": "text"
      },
      "source": [
        "<a href=\"https://colab.research.google.com/github/Roopana/short_text_topic_modeling/blob/master/BERT_FineTuned_Embeddings.ipynb\" target=\"_parent\"><img src=\"https://colab.research.google.com/assets/colab-badge.svg\" alt=\"Open In Colab\"/></a>"
      ]
    },
    {
      "cell_type": "code",
      "metadata": {
        "id": "g0js6FkReDxH",
        "colab_type": "code",
        "colab": {
          "base_uri": "https://localhost:8080/",
          "height": 34
        },
        "outputId": "723181d2-39ee-4b90-f451-68fef1e3bb32"
      },
      "source": [
        "#Confirm that GPU is detected\n",
        "import tensorflow as tf\n",
        "# Get the GPU device name.\n",
        "device_name = tf.test.gpu_device_name()\n",
        "# The device name should look like the following:\n",
        "if device_name == '/device:GPU:0':\n",
        "    print('Found GPU at: {}'.format(device_name))\n",
        "else:\n",
        "    raise SystemError('GPU device not found')"
      ],
      "execution_count": null,
      "outputs": [
        {
          "output_type": "stream",
          "text": [
            "Found GPU at: /device:GPU:0\n"
          ],
          "name": "stdout"
        }
      ]
    },
    {
      "cell_type": "code",
      "metadata": {
        "id": "pcxJDqIzUpVX",
        "colab_type": "code",
        "colab": {}
      },
      "source": [
        "import os\n",
        "\n",
        "CUDA_LAUNCH_BLOCKING=1\n",
        "os.environ['CUDA_LAUNCH_BLOCKING'] = '1'"
      ],
      "execution_count": null,
      "outputs": []
    },
    {
      "cell_type": "markdown",
      "metadata": {
        "id": "7Y0GAwWze4an",
        "colab_type": "text"
      },
      "source": [
        "In order for torch to use the GPU, we need to identify and specify the GPU as the device. Later, in our training loop, we will load data onto the device."
      ]
    },
    {
      "cell_type": "code",
      "metadata": {
        "id": "Iw86lColeSd8",
        "colab_type": "code",
        "colab": {
          "base_uri": "https://localhost:8080/"
        },
        "outputId": "1f07a156-5215-455a-9a6c-a76459b8065e"
      },
      "source": [
        "import torch\n",
        "# If there's a GPU available...\n",
        "if torch.cuda.is_available():    \n",
        "    # Tell PyTorch to use the GPU.    \n",
        "    device = torch.device(\"cuda\")\n",
        "    print('There are %d GPU(s) available.' % torch.cuda.device_count())\n",
        "    print('We will use the GPU:', torch.cuda.get_device_name(0))\n",
        "# If not...\n",
        "else:\n",
        "    print('No GPU available, using the CPU instead.')\n",
        "    device = torch.device(\"cpu\")"
      ],
      "execution_count": null,
      "outputs": [
        {
          "output_type": "stream",
          "text": [
            "There are 1 GPU(s) available.\n",
            "We will use the GPU: Tesla K80\n"
          ],
          "name": "stdout"
        }
      ]
    },
    {
      "cell_type": "code",
      "metadata": {
        "id": "Lkcj_vj8e6_N",
        "colab_type": "code",
        "colab": {
          "base_uri": "https://localhost:8080/",
          "height": 615
        },
        "outputId": "de0ca89f-75b4-4cd7-e34f-c8931487b4e8"
      },
      "source": [
        "!pip install transformers"
      ],
      "execution_count": null,
      "outputs": [
        {
          "output_type": "stream",
          "text": [
            "Collecting transformers\n",
            "\u001b[?25l  Downloading https://files.pythonhosted.org/packages/27/3c/91ed8f5c4e7ef3227b4119200fc0ed4b4fd965b1f0172021c25701087825/transformers-3.0.2-py3-none-any.whl (769kB)\n",
            "\u001b[K     |████████████████████████████████| 778kB 3.4MB/s \n",
            "\u001b[?25hRequirement already satisfied: regex!=2019.12.17 in /usr/local/lib/python3.6/dist-packages (from transformers) (2019.12.20)\n",
            "Collecting sentencepiece!=0.1.92\n",
            "\u001b[?25l  Downloading https://files.pythonhosted.org/packages/d4/a4/d0a884c4300004a78cca907a6ff9a5e9fe4f090f5d95ab341c53d28cbc58/sentencepiece-0.1.91-cp36-cp36m-manylinux1_x86_64.whl (1.1MB)\n",
            "\u001b[K     |████████████████████████████████| 1.1MB 16.2MB/s \n",
            "\u001b[?25hRequirement already satisfied: packaging in /usr/local/lib/python3.6/dist-packages (from transformers) (20.4)\n",
            "Collecting sacremoses\n",
            "\u001b[?25l  Downloading https://files.pythonhosted.org/packages/7d/34/09d19aff26edcc8eb2a01bed8e98f13a1537005d31e95233fd48216eed10/sacremoses-0.0.43.tar.gz (883kB)\n",
            "\u001b[K     |████████████████████████████████| 890kB 24.0MB/s \n",
            "\u001b[?25hRequirement already satisfied: dataclasses; python_version < \"3.7\" in /usr/local/lib/python3.6/dist-packages (from transformers) (0.7)\n",
            "Collecting tokenizers==0.8.1.rc1\n",
            "\u001b[?25l  Downloading https://files.pythonhosted.org/packages/40/d0/30d5f8d221a0ed981a186c8eb986ce1c94e3a6e87f994eae9f4aa5250217/tokenizers-0.8.1rc1-cp36-cp36m-manylinux1_x86_64.whl (3.0MB)\n",
            "\u001b[K     |████████████████████████████████| 3.0MB 30.7MB/s \n",
            "\u001b[?25hRequirement already satisfied: requests in /usr/local/lib/python3.6/dist-packages (from transformers) (2.23.0)\n",
            "Requirement already satisfied: filelock in /usr/local/lib/python3.6/dist-packages (from transformers) (3.0.12)\n",
            "Requirement already satisfied: tqdm>=4.27 in /usr/local/lib/python3.6/dist-packages (from transformers) (4.41.1)\n",
            "Requirement already satisfied: numpy in /usr/local/lib/python3.6/dist-packages (from transformers) (1.18.5)\n",
            "Requirement already satisfied: pyparsing>=2.0.2 in /usr/local/lib/python3.6/dist-packages (from packaging->transformers) (2.4.7)\n",
            "Requirement already satisfied: six in /usr/local/lib/python3.6/dist-packages (from packaging->transformers) (1.15.0)\n",
            "Requirement already satisfied: click in /usr/local/lib/python3.6/dist-packages (from sacremoses->transformers) (7.1.2)\n",
            "Requirement already satisfied: joblib in /usr/local/lib/python3.6/dist-packages (from sacremoses->transformers) (0.16.0)\n",
            "Requirement already satisfied: urllib3!=1.25.0,!=1.25.1,<1.26,>=1.21.1 in /usr/local/lib/python3.6/dist-packages (from requests->transformers) (1.24.3)\n",
            "Requirement already satisfied: idna<3,>=2.5 in /usr/local/lib/python3.6/dist-packages (from requests->transformers) (2.10)\n",
            "Requirement already satisfied: chardet<4,>=3.0.2 in /usr/local/lib/python3.6/dist-packages (from requests->transformers) (3.0.4)\n",
            "Requirement already satisfied: certifi>=2017.4.17 in /usr/local/lib/python3.6/dist-packages (from requests->transformers) (2020.6.20)\n",
            "Building wheels for collected packages: sacremoses\n",
            "  Building wheel for sacremoses (setup.py) ... \u001b[?25l\u001b[?25hdone\n",
            "  Created wheel for sacremoses: filename=sacremoses-0.0.43-cp36-none-any.whl size=893260 sha256=9bdeb8c24fc877f92f0bd6f9ab14d59cda16bde5673064f6008cc604a70a3ec9\n",
            "  Stored in directory: /root/.cache/pip/wheels/29/3c/fd/7ce5c3f0666dab31a50123635e6fb5e19ceb42ce38d4e58f45\n",
            "Successfully built sacremoses\n",
            "Installing collected packages: sentencepiece, sacremoses, tokenizers, transformers\n",
            "Successfully installed sacremoses-0.0.43 sentencepiece-0.1.91 tokenizers-0.8.1rc1 transformers-3.0.2\n"
          ],
          "name": "stdout"
        }
      ]
    },
    {
      "cell_type": "code",
      "metadata": {
        "id": "W42_2PYqCgH7",
        "colab_type": "code",
        "colab": {
          "base_uri": "https://localhost:8080/",
          "height": 51
        },
        "outputId": "073919b4-7732-490f-9bde-a970f933817f"
      },
      "source": [
        "import pandas as pd\n",
        "\n",
        "df_2 = pd.read_csv(\"./2_man_ann_sb.csv\",  index_col= None)\n",
        "df_2 = df_2.dropna(subset = ['tweet_text'])\n",
        "\n",
        "df_1 = pd.read_csv(\"./mann_ann_sb.csv\", index_col= None)\n",
        "\n",
        "df_3 = pd.read_csv(\"./3_man_ann_sb_full_1.csv\", index_col = None)\n",
        "df_3 = df_3.dropna(subset = ['tweet_text'])\n",
        "\n",
        "df = df_1.append(df_2).append(df_3) # using batch 1 and batch 2 for training\n",
        "\n",
        "all_tweets = df_1.append(df_2).append(df_3)\n",
        "print(all_tweets.shape)\n",
        "df.shape"
      ],
      "execution_count": null,
      "outputs": [
        {
          "output_type": "stream",
          "text": [
            "(7500, 19)\n"
          ],
          "name": "stdout"
        },
        {
          "output_type": "execute_result",
          "data": {
            "text/plain": [
              "(7500, 19)"
            ]
          },
          "metadata": {
            "tags": []
          },
          "execution_count": 5
        }
      ]
    },
    {
      "cell_type": "code",
      "metadata": {
        "id": "XZBd9hvF28UI",
        "colab_type": "code",
        "colab": {
          "base_uri": "https://localhost:8080/"
        },
        "outputId": "401cc838-06ed-4fb8-f50c-35efb6584025"
      },
      "source": [
        "from nltk.corpus import stopwords\n",
        "import re\n",
        "import nltk\n",
        "nltk.download('stopwords')\n",
        "\n",
        "stop = stopwords.words('english')\n",
        "stop.append('superbowl')\n",
        "stop.append('super')\n",
        "stop.append('bowl')\n",
        "stop.append('commercial')\n",
        "stop.append('ad')\n",
        "stop.append('commercials')\n",
        "stop.append('ads')\n",
        "print(len(stop))\n",
        "\n",
        "def removeMentions(text):\n",
        "\n",
        "    textBeforeMention = text.partition(\"@\")[0]\n",
        "    textAfterMention = text.partition(\"@\")[2]\n",
        "    textAfterMention =  re.sub(r':', '', textAfterMention) #cadillac join the 31k\n",
        "    tHandle = textAfterMention.partition(\" \")[0].lower() #cadillac    \n",
        "    text = textBeforeMention+ \" \" + textAfterMention  \n",
        "    return text\n",
        "\n",
        "def cleanTweet(strinp):\n",
        "    strinp = re.sub(r'RT', \"\", strinp) # Remove RT\n",
        "    strinp = strinp.lower()\n",
        "    \n",
        "    stop_removed_list = [word for word in strinp.split() if word not in (stop)]\n",
        "    stop_removed = ' '.join([str(elem) for elem in stop_removed_list])    \n",
        "    text = re.sub('https?://[A-Za-z0-9./]+', ' ', stop_removed) # Remove URLs\n",
        "    text = removeMentions(text)\n",
        "    text = re.sub('[^\\x00-\\x7F]+', ' ', text) # Remove non-ASCII chars.\n",
        "    \n",
        "    # remove punctuations except '-'\n",
        "    punctuation = ['(', ')', '[',']','?', ':', ':', ',', '.', '!', '/', '\"', \"'\", '@', '#', '&', '-', '_']\n",
        "    text = \"\".join((char for char in text if char not in punctuation))\n",
        "    text = re.sub('[^a-zA-Z]', ' ', text) # remove all other than alphabet chars \n",
        "\n",
        "#     text = re.sub(r'\\s+[a-zA-Z]\\s+', ' ', text) # remove all single characters     \n",
        "    stop_removed_l = [word for word in text.split() if word not in (stop)]\n",
        "    stop_removed = ' '.join([str(elem) for elem in stop_removed_l]) \n",
        "    return stop_removed\n",
        "\n",
        "print(cleanTweet(\"RT @cadillacabc: Joinrt the 31K james_bond\") )"
      ],
      "execution_count": null,
      "outputs": [
        {
          "output_type": "stream",
          "text": [
            "[nltk_data] Downloading package stopwords to /root/nltk_data...\n",
            "[nltk_data]   Unzipping corpora/stopwords.zip.\n",
            "186\n",
            "cadillacabc joinrt k jamesbond\n"
          ],
          "name": "stdout"
        }
      ]
    },
    {
      "cell_type": "code",
      "metadata": {
        "id": "3hNx_DQu3khZ",
        "colab_type": "code",
        "colab": {}
      },
      "source": [
        "df['text_clean'] = df['tweet_text'].apply(lambda x: cleanTweet(x))\n",
        "df['ad_manual_adjusted'] = df['ad_manual_adjusted'].apply(lambda x: x.lower())\n"
      ],
      "execution_count": null,
      "outputs": []
    },
    {
      "cell_type": "code",
      "metadata": {
        "id": "q2nVgO4VIK_2",
        "colab_type": "code",
        "colab": {
          "base_uri": "https://localhost:8080/"
        },
        "outputId": "bef40178-e0fd-4a53-dc9e-c6d817be797c"
      },
      "source": [
        "def get_binary_samples(df):\n",
        "  df['ad_related'] = df['ad_manual_adjusted'].apply(lambda ad: 0 if ad == 'none' else 1)\n",
        "  # df['planters_baby_funeral'] = df['ad_manual_adjusted'].apply(lambda ad: 1 if ad == 'planters  baby funeral' else 0)\n",
        "  return df\n",
        "df_binary = get_binary_samples(df)\n",
        "\n",
        "print(\"Total samples: \"+ str(df_binary.shape[0]))\n",
        "\n",
        "binary_train_size = int(0.8*df_binary.shape[0])\n",
        "binary_test_size = df_binary.shape[0] - binary_train_size\n",
        "                \n",
        "# Get the lists of sentences and their labels.\n",
        "binary_sentences = df_binary.iloc[0:binary_train_size].text_clean.values\n",
        "binary_labels = df_binary.iloc[0:binary_train_size].ad_related.values\n",
        "# binary_labels = df_binary.iloc[0:binary_train_size].planters_baby_funeral.values\n",
        "\n",
        "print(binary_labels.shape)\n",
        "binary_test_data = df_binary.iloc[binary_train_size:df_binary.shape[0]+1]\n",
        "\n",
        "binary_test_size = binary_test_data.shape[0]\n",
        "print(\"train size: \"+ str(binary_train_size)+\" test size: \"+str(binary_test_size))\n",
        "                "
      ],
      "execution_count": null,
      "outputs": [
        {
          "output_type": "stream",
          "text": [
            "Total samples: 7500\n",
            "(6000,)\n",
            "train size: 6000 test size: 1500\n"
          ],
          "name": "stdout"
        }
      ]
    },
    {
      "cell_type": "code",
      "metadata": {
        "id": "7GHHkCjj-K6Z",
        "colab_type": "code",
        "colab": {
          "base_uri": "https://localhost:8080/",
          "height": 122
        },
        "outputId": "b9ad767b-174f-48e4-b16d-5767473068bf"
      },
      "source": [
        "# use column name 'ad_manual_adjusted' of df to \n",
        "def get_ad_related_twts(df, removeCommas = True):\n",
        "  df['ad_manual_adjusted'] = df['ad_manual_adjusted'].apply(lambda x: x.lower())\n",
        "  ad_filter = df['ad_manual_adjusted']!= 'none'\n",
        "  ad_related_twts = df[ad_filter]\n",
        "  if removeCommas:\n",
        "    ad_filter_1 = ~ad_related_twts['ad_manual_adjusted'].str.contains(',')\n",
        "    ad_related_twts = ad_related_twts[ad_filter_1]\n",
        "  return ad_related_twts\n",
        "\n",
        "def get_ad_id_dict(ad_related_twts): \n",
        "  n_ad_related = ad_related_twts.shape[0]\n",
        "  print(\"# ad related tweets: \"+ str(n_ad_related))\n",
        "  n_unique_ads = len(set(ad_related_twts['ad_manual_adjusted']))\n",
        "  print(\"# distinct ads:\"+ str(n_unique_ads))\n",
        "\n",
        "  ads_annotated = ad_related_twts.ad_manual_adjusted.values\n",
        "  adset = set(ads_annotated)\n",
        "  print(\"unique ads:\"+ str(len(adset)))\n",
        "  print(adset)\n",
        "  ad_id_dict = {}\n",
        "  i = 0\n",
        "  for ad in adset: \n",
        "    ad_id_dict[ad] = i\n",
        "    i = i+1\n",
        "  print(ad_id_dict)\n",
        "  return ad_id_dict\n",
        "\n",
        "ad_related_twts = get_ad_related_twts(df)\n",
        "\n",
        "ad_id_dict = get_ad_id_dict(get_ad_related_twts(all_tweets))\n",
        "n_unique_ads = len(ad_id_dict)\n",
        "ad_related_twts['ad_manual_adjusted_id'] = ad_related_twts['ad_manual_adjusted'].apply(lambda x: ad_id_dict[x]) \n"
      ],
      "execution_count": null,
      "outputs": [
        {
          "output_type": "stream",
          "text": [
            "# ad related tweets: 3335\n",
            "# distinct ads:87\n",
            "unique ads:87\n",
            "{'pop-tarts  pop-tarts fixed the pretzel commercial', 'genesis  going away party', 'fox  halftime show  teaser_3', 'tide  finally later', 'tide  bud knight', 'pizzahut', 'pringles  the infinite dimensions of rick and morty', 'google assistant  loretta', 'mike bloomberg', 'no time to die  trailer', 'snickers  fix the world', 'procter & gamble  when we come together', 'fox  halftime show  teaser_1', 'microsoft surface  be the one', 'doritos the cool ranch', 'joe bieden', 'verizon  the amazing things 5g won t do', 'fox  super monday', 'amazon prime video  hunters', 'new york life  love takes action', 'tide', 'disney mulan', 'hulu  tom brady s big announcement', 'dashlane', 'joe biden', 'jeep  groundhog day [t1]', 'toyota  heroes', 'fox  great american race', 'bud light seltzer  posty store  inside post s brain', 'porsche  the heist', 'little caesars pizza  best thing since sliced bread', 'turbotax  turbotax  all people are tax people remix', 'planters  baby funeral', 'fox  toads  the masked singer', 'budweiser  typical american', 'michelob  6 for 6-pack', 'squarespace  winona in winona', 'facebook  ready to rock?', 'nfl100', 'fox  a run at history  daytona 500', 'papa johns', 'nfl  inspire change  anquan boldin', 'pepsi zero sugar  zero sugar. done right.', 'fox nation  breaking news', 't-mobile  mama tests 5g', 'ram trucks', 'sabra  how do you  mmus?', 'budweiser typical american', 'scientology', 'marvel  black widow trailer', 'olay  make space for women', 'fox  chosen  lego masters', 'discover card  yes we’re accepted', 'discover card  no we don‚äôt charge annual fees', 'secret', 'michelob  jimmy works it out', 'hard rock hotels & casinos  bling cup', 'ragged old flag', 'guitar hero', 'donald j. trump for president  criminal justice reform', 'michael bloomberg', 'avocados from mexico  the avocados from mexico shopping network', 'fast & furious 9  trailer', 'disney+  it s time', 'doritos  the cool ranch', \"bush's best\", 'amazon echo  before alexa', 'fox  halftime show  teaser_2', 'mountain dew', 'hummer  gmc  quiet revolution', 'commercials', 'kia  tough never quits', 'coca-cola energy  show up', 'bernie the peoples perfume', 'heinz ketchup  find the goodness  four at once', 'audi  let it go [t1]', 'quibi  bank heist', 'walmart  famous visitors', 'weathertech  lucky dog', 'patience', 'golden gronks', 'bakari', 'rocket mortgage  home', 'reese s  rock', 'hyundai  smaht pahk', \"discover card  yes we're accepted\", 'cheetos  can t touch this'}\n",
            "{'pop-tarts  pop-tarts fixed the pretzel commercial': 0, 'genesis  going away party': 1, 'fox  halftime show  teaser_3': 2, 'tide  finally later': 3, 'tide  bud knight': 4, 'pizzahut': 5, 'pringles  the infinite dimensions of rick and morty': 6, 'google assistant  loretta': 7, 'mike bloomberg': 8, 'no time to die  trailer': 9, 'snickers  fix the world': 10, 'procter & gamble  when we come together': 11, 'fox  halftime show  teaser_1': 12, 'microsoft surface  be the one': 13, 'doritos the cool ranch': 14, 'joe bieden': 15, 'verizon  the amazing things 5g won t do': 16, 'fox  super monday': 17, 'amazon prime video  hunters': 18, 'new york life  love takes action': 19, 'tide': 20, 'disney mulan': 21, 'hulu  tom brady s big announcement': 22, 'dashlane': 23, 'joe biden': 24, 'jeep  groundhog day [t1]': 25, 'toyota  heroes': 26, 'fox  great american race': 27, 'bud light seltzer  posty store  inside post s brain': 28, 'porsche  the heist': 29, 'little caesars pizza  best thing since sliced bread': 30, 'turbotax  turbotax  all people are tax people remix': 31, 'planters  baby funeral': 32, 'fox  toads  the masked singer': 33, 'budweiser  typical american': 34, 'michelob  6 for 6-pack': 35, 'squarespace  winona in winona': 36, 'facebook  ready to rock?': 37, 'nfl100': 38, 'fox  a run at history  daytona 500': 39, 'papa johns': 40, 'nfl  inspire change  anquan boldin': 41, 'pepsi zero sugar  zero sugar. done right.': 42, 'fox nation  breaking news': 43, 't-mobile  mama tests 5g': 44, 'ram trucks': 45, 'sabra  how do you  mmus?': 46, 'budweiser typical american': 47, 'scientology': 48, 'marvel  black widow trailer': 49, 'olay  make space for women': 50, 'fox  chosen  lego masters': 51, 'discover card  yes we’re accepted': 52, 'discover card  no we don‚äôt charge annual fees': 53, 'secret': 54, 'michelob  jimmy works it out': 55, 'hard rock hotels & casinos  bling cup': 56, 'ragged old flag': 57, 'guitar hero': 58, 'donald j. trump for president  criminal justice reform': 59, 'michael bloomberg': 60, 'avocados from mexico  the avocados from mexico shopping network': 61, 'fast & furious 9  trailer': 62, 'disney+  it s time': 63, 'doritos  the cool ranch': 64, \"bush's best\": 65, 'amazon echo  before alexa': 66, 'fox  halftime show  teaser_2': 67, 'mountain dew': 68, 'hummer  gmc  quiet revolution': 69, 'commercials': 70, 'kia  tough never quits': 71, 'coca-cola energy  show up': 72, 'bernie the peoples perfume': 73, 'heinz ketchup  find the goodness  four at once': 74, 'audi  let it go [t1]': 75, 'quibi  bank heist': 76, 'walmart  famous visitors': 77, 'weathertech  lucky dog': 78, 'patience': 79, 'golden gronks': 80, 'bakari': 81, 'rocket mortgage  home': 82, 'reese s  rock': 83, 'hyundai  smaht pahk': 84, \"discover card  yes we're accepted\": 85, 'cheetos  can t touch this': 86}\n"
          ],
          "name": "stdout"
        }
      ]
    },
    {
      "cell_type": "code",
      "metadata": {
        "id": "OMKdZdM69-H6",
        "colab_type": "code",
        "colab": {
          "base_uri": "https://localhost:8080/"
        },
        "outputId": "0d977c51-c628-4be8-8b64-0bda2933f7b3"
      },
      "source": [
        "# train test split\n",
        "n_ad_related = ad_related_twts.shape[0]\n",
        "train_size = int(0.8 * n_ad_related)\n",
        "test_size = n_ad_related - train_size\n",
        "                \n",
        "# Get the lists of sentences and their labels.\n",
        "sentences = ad_related_twts.iloc[0:train_size].text_clean.values\n",
        "labels = ad_related_twts.iloc[0:train_size].ad_manual_adjusted_id.values\n",
        "\n",
        "test_data = ad_related_twts.iloc[train_size:n_ad_related+1]\n",
        "test_data['ad_manual_adjusted_id'] = test_data['ad_manual_adjusted'].apply(lambda x: ad_id_dict[x])\n",
        "\n",
        "test_size = test_data.shape[0]\n",
        "print(\"train size: \"+ str(train_size)+\" test size: \"+str(test_size))\n",
        "                "
      ],
      "execution_count": null,
      "outputs": [
        {
          "output_type": "stream",
          "text": [
            "train size: 2668 test size: 667\n"
          ],
          "name": "stdout"
        },
        {
          "output_type": "stream",
          "text": [
            "/usr/local/lib/python3.6/dist-packages/ipykernel_launcher.py:11: SettingWithCopyWarning: \n",
            "A value is trying to be set on a copy of a slice from a DataFrame.\n",
            "Try using .loc[row_indexer,col_indexer] = value instead\n",
            "\n",
            "See the caveats in the documentation: https://pandas.pydata.org/pandas-docs/stable/user_guide/indexing.html#returning-a-view-versus-a-copy\n",
            "  # This is added back by InteractiveShellApp.init_path()\n"
          ],
          "name": "stderr"
        }
      ]
    },
    {
      "cell_type": "markdown",
      "metadata": {
        "id": "XYEXu9YH02QF",
        "colab_type": "text"
      },
      "source": [
        "Transform our dataset into the format that BERT can be trained on"
      ]
    },
    {
      "cell_type": "code",
      "metadata": {
        "id": "qHQ4bb-SiFyt",
        "colab_type": "code",
        "colab": {
          "base_uri": "https://localhost:8080/",
          "height": 100,
          "referenced_widgets": [
            "49dce0f94ef1408e8396163594479062",
            "6a463113645448b7982d5dbe68a85a47",
            "53012ed847424140969f9687fd814527",
            "f3f4ba57e57b4c20b2ef68056d68c2c1",
            "b7cf2438302f4acbb56624936f2afb07",
            "e272351da57849d0b42165eda0a8fcba",
            "632614be0a354f94a9b570f860af2ab4",
            "9cfb7322626145379e47ecfb513b8e30"
          ]
        },
        "outputId": "f002f0e3-8500-441b-f0e0-97e85b25af84"
      },
      "source": [
        "from transformers import BertTokenizer\n",
        "# Load the BERT tokenizer.\n",
        "tokenizer = BertTokenizer.from_pretrained('bert-base-uncased', do_lower_case=True)\n",
        "print('Loaded BERT tokenizer.')\n",
        "vocab_tokens = list(tokenizer.vocab.keys())\n",
        "print(\"Original Vocab size: \" + str(len(vocab_tokens)))\n"
      ],
      "execution_count": null,
      "outputs": [
        {
          "output_type": "display_data",
          "data": {
            "application/vnd.jupyter.widget-view+json": {
              "model_id": "49dce0f94ef1408e8396163594479062",
              "version_minor": 0,
              "version_major": 2
            },
            "text/plain": [
              "HBox(children=(FloatProgress(value=0.0, description='Downloading', max=231508.0, style=ProgressStyle(descripti…"
            ]
          },
          "metadata": {
            "tags": []
          }
        },
        {
          "output_type": "stream",
          "text": [
            "\n",
            "Loaded BERT tokenizer.\n",
            "Original Vocab size: 30522\n"
          ],
          "name": "stdout"
        }
      ]
    },
    {
      "cell_type": "code",
      "metadata": {
        "id": "zMp60zcF_fkm",
        "colab_type": "code",
        "colab": {
          "base_uri": "https://localhost:8080/",
          "height": 68
        },
        "outputId": "5bec53e0-ffab-49a0-fe91-1e1b60da8da8"
      },
      "source": [
        "import nltk\n",
        "nltk.download('wordnet') # for wordnet lemmatizer"
      ],
      "execution_count": null,
      "outputs": [
        {
          "output_type": "stream",
          "text": [
            "[nltk_data] Downloading package wordnet to /root/nltk_data...\n",
            "[nltk_data]   Unzipping corpora/wordnet.zip.\n"
          ],
          "name": "stdout"
        },
        {
          "output_type": "execute_result",
          "data": {
            "text/plain": [
              "True"
            ]
          },
          "metadata": {
            "tags": []
          },
          "execution_count": 12
        }
      ]
    },
    {
      "cell_type": "code",
      "metadata": {
        "id": "yTTLNCzx-_SZ",
        "colab_type": "code",
        "colab": {
          "base_uri": "https://localhost:8080/",
          "height": 34
        },
        "outputId": "ce8e0a39-ce38-4c4d-e031-f0e92d07eb72"
      },
      "source": [
        "from nltk.stem import WordNetLemmatizer\n",
        "wordnet_lemmatizer = WordNetLemmatizer()\n",
        "\n",
        "def get_lemmatize_words(plural_words):\n",
        "  sing_words = []\n",
        "  for word in plural_words:\n",
        "    sing_words.append(wordnet_lemmatizer.lemmatize(word))\n",
        "  return sing_words\n",
        "\n",
        "words = [\"apples\", \"sheep\", \"oranges\", \"cats\", \"people\", \"dice\", \"pence\", \"trump\"]\n",
        "lem_words = get_lemmatize_words(words)\n",
        "print(lem_words)"
      ],
      "execution_count": null,
      "outputs": [
        {
          "output_type": "stream",
          "text": [
            "['apple', 'sheep', 'orange', 'cat', 'people', 'dice', 'penny', 'trump']\n"
          ],
          "name": "stdout"
        }
      ]
    },
    {
      "cell_type": "code",
      "metadata": {
        "id": "m9jIosZIyN7a",
        "colab_type": "code",
        "colab": {
          "base_uri": "https://localhost:8080/",
          "height": 207
        },
        "outputId": "a3b1b96c-e360-40e6-b5a0-31ed104c015a"
      },
      "source": [
        "def get_ad_keys():\n",
        "  ad_keywords = pd.read_csv('./SB_ad_annotations.csv')\n",
        "  print(ad_keywords.columns)\n",
        "  ad_keywords['keywords_clean'] = ad_keywords['Key Terms  Round 1'].apply(lambda x: cleanTweet(x)).apply(lambda x: x.split())\n",
        "  ad_keys_clean = [word for tweet in ad_keywords['keywords_clean'] for word in tweet]\n",
        "  ad_brands = ad_keywords['Brand Name'].apply(lambda x: cleanTweet(x)).apply(lambda x: x.split())\n",
        "  ad_brands = [word for tweet in ad_brands for word in tweet]\n",
        "  print(\"ad brands\"+ str(ad_brands))\n",
        "  ad_names = ad_keywords['Ad Name'].apply(lambda x: cleanTweet(x)).apply(lambda x: x.split())\n",
        "  ad_names = [word for tweet in ad_names for word in tweet]\n",
        "  product_names = ad_keywords['Product'].apply(lambda x: cleanTweet(x)).apply(lambda x: x.split())\n",
        "  product_names = [word for tweet in product_names for word in tweet]\n",
        "  keys_to_add = []\n",
        "  keys_to_add.extend(ad_keys_clean)\n",
        "  keys_to_add.extend(ad_brands)\n",
        "  keys_to_add.extend(ad_names)\n",
        "  keys_to_add.extend(product_names)\n",
        "  print(len(keys_to_add))\n",
        "  keys_to_add = list(set(keys_to_add))\n",
        "  print(len(keys_to_add))\n",
        "  return keys_to_add\n",
        "\n",
        "ad_keys_raw = get_ad_keys()\n",
        "print(ad_keys_raw)\n",
        "ad_keys = get_lemmatize_words(ad_keys_raw) # to make plurals to singular words\n",
        "print(ad_keys)\n"
      ],
      "execution_count": null,
      "outputs": [
        {
          "output_type": "stream",
          "text": [
            "Index(['Ad Number', 'Brand Name', 'Ad Name', 'Product', 'Key Terms  Round 1',\n",
            "       'KeyTerms_Edited_1', 'KeyTerms_Edited', 'Excitatory Potential',\n",
            "       'Emotional vs. Rational', 'Semantic Affinity', 'Valence', 'Unnamed: 11',\n",
            "       'Unnamed: 12', 'Unnamed: 13'],\n",
            "      dtype='object')\n",
            "ad brands['trailer', 'quibi', 'tide', 'fox', 'presidential', 'campaign', 'walmart', 'marvel', 'rocket', 'porsche', 'snickers', 'hulu', 'fox', 'mountain', 'dew', 'squarespace', 'new', 'york', 'life', 'fox', 'hyundai', 'cheetos', 'olay', 'fox', 'michelob', 'avocados', 'mexico', 'hard', 'rock', 'pringles', 'turbotax', 'tide', 'genesis', 'coca', 'cola', 'planters', 'trailer', 'fox', 'google', 'sabra', 'weathertech', 'verizon', 'hummer', 'poptarts', 'trailer', 'fox', 'fox', 'event', 'trailer', 'fox', 'amazon', 'pepsi', 'heinz', 'event', 'bud', 'light', 'little', 'caesars', 'doritos', 'kia', 'turkish', 'airlines', 'reese', 'tide', 'amazon', 'michelob', 'nfl', 'toyota', 'discover', 'disney', 'discover', 'fox', 'tmobile', 'fox', 'fox', 'nfl', 'budweiser', 'proctor', 'gamble', 'fox', 'microsoft', 'fox', 'jeep', 'facebook', 'tide', 'audi']\n",
            "1285\n",
            "696\n",
            "['stranger', 'system', 'middle', 'airlines', 'stonehenge', 'lebronjames', 'president', 'building', 'googleassistant', 'daytona', 'eye', 'football', 'program', 'web', 'jlo', 'dancer', 'murray', 'austin', 'lucky', 'step', 'lo', 'carbs', 'ff', 'loans', 'female', 'smart', 'minions', 'missy', 'gym', 'americanspirit', 'right', 'charlieday', 'typical', 'champions', 'popcorn', 'sowers', 'low', 'shakira', 'mean', 'energy', 'first', 'organic', 'newyorklife', 'dotscococolacocacolaenergy', 'cowboy', 'tom', 'stronger', 'mama', 'app', 'daniel', 'stain', 'event', 'ten', 'sabra', 'soda', 'squarespace', 'planters', 'worth', 'move', 'parking', 'tests', 'turbo', 'avocarriermollyringwald', 'nazi', 'de', 'tornado', 'sofia', 'allfemale', 'insurance', 'toyota', 'good', 'heist', 'detergenttv', 'jennifer', 'monday', 'powersnoannualfeediscovercredit', 'johnlegendchrissyteigen', 'spice', 'stott', 'inbev', 'gamble', 'gladiator', 'play', 'running', 'arrival', 'assistant', 'femalecoach', 'american', 'together', 'stainlaundrydetergent', 'wilson', 'quits', 'motorshummer', 'five', 'dew', 'craig', 'jasonmomoa', 'world', 'bill', 'matt', 'fees', 'chrisevans', 'littlecaesars', 'pickup', 'fixtheworld', 'announcement', 'etron', 'nyl', 'snipesbabynut', 'scared', 'budweiser', 'ranch', 'r', 'reform', 'emission', 'mmus', 'agape', 'earth', 'back', 'medieval', 'bounty', 'hampshire', 'ray', 'heinz', 'dragqueenamanda', 'laundry', 'food', 'couric', 'jason', 'shopping', 'chase', 'rapper', 'remix', 'mtndew', 'michelob', 'hardrockstadium', 'electric', 'sliced', 'beer', 'accent', 'road', 'revolution', 'megan', 'credit', 'make', 'poptarts', 'ers', 'discover', 'competition', 'best', 'cleaners', 'teaser', 'shootings', 'echo', 'seltzer', 'bettahwaytopark', 'flight', 'tmobile', 'captain', 'sylvester', 'mc', 'loki', 'rickmorty', 'truck', 'trumpforpresident', 'tombrady', 'singer', 'candybarreeses', 'vin', 'things', 'accepted', 'tomorrow', 'volkswagen', 'pacino', 'smulders', 'takes', 'nutsmrpeanut', 'lovetakesaction', 'heroes', 'service', 'minutes', 'inside', 'friends', 'plus', 'krasinki', 'fast', 'cyrus', 'four', 'toby', 'post', 'aquaman', 'casinos', 'fury', 'young', 'cola', 'enjoy', 'degeneres', 'stunts', 'genesis', 'erscoach', 'barbecue', 'shownetwork', 'makespaceforwomen', 'trump', 'farmers', 'change', 'lopez', 'porta', 'michelle', 'tarts', 'stereotypical', 'proctor', 'boxing', 'love', 'tide', 'williams', 'hyundai', 'queer', 'gmc', 'surface', 'mortgagemomoabowl', 'america', 'history', 'miami', 'space', 'sportback', 'prime', 'lego', 'rodriguez', 'pizza', 'find', 'finally', 'ryder', 'highlander', 'another', 'emily', 'taxes', 'cracker', 'dimensions', 'bud', 'flash', 'doctor', 'nas', 'dull', 'anthony', 'scar', 'kathryn', 'beforealexa', 'microsoft', 'black', 'presidentrumpobama', 'f', 'diesel', 'kobe', 'pringles', 'donald', 'teigen', 'jeep', 'gymbody', 'hardrock', 'nicole', 'brooks', 'cocacola', 'sugar', 'letitgo', 'workingout', 'girls', 'park', 'delivery', 'amazon', 'anderson', 'man', 'swim', 'wilder', 'howimmus', 'chili', 'vision', 'services', 'store', 'everything', 'jonah', 'suv', 'bigelow', 'symptoms', 'bites', 'gv', 'procter', 'chrissy', 'rick', 'footmake', 'ww', 'baby', 'cobie', 'furious', 'phillips', 'town', 'groot', 'vergara', 'sexiest', 'pepsizero', 'doritos', 'momoa', 'cena', 'fun', 'makes', 'women', 'pop', 'nocoke', 'minnesota', 'rachel', 'homeland', 'action', 'detergentmovie', 'way', 'verizon', 'kerri', 'goodness', 'old', 'international', 'cheetos', 'fallon', 'give', 'falcon', 'better', 'coca', 'flying', 'zero', 'phone', 'febreze', 'kiaseltos', 'toads', 'done', 'quick', 'kia', 'impact', 'hunters', 'trailer', 'rocketmorgage', 'snickersfixtheworld', 'queereye', 'airline', 'ringwald', 'giudice', 'jonathan', 'dragon', 'infinite', 'joshjacobs', 'dratch', 'traffic', 'budlightbudweiser', 'big', 'boy', 'away', 'culture', 'voice', 'since', 'cranston', 'game', 'come', 'mike', 'xfl', 'adult', 'malone', 'busy', 'queensdragqueens', 'hard', 'schitt', 'katiesowers', 'noannualfeediscovercredit', 'cheetle', 'sugarbryan', 'showup', 'martin', 'iphone', 'mtn', 'weathertech', 'ready', 'josh', 'detergent', 'manzo', 'katie', 'reese', 'nation', 'star', 'york', 'bread', 'wild', 'typicalamerican', 'wives', 'mexico', 'party', 'shoulders', 'sox', 'syndrome', 'wanda', 'pepsi', 'arnett', 'donaldtrump', 'stereotypes', 'chris', 'home', 'die', 'sam', 'lilly', 'virtualassistant', 'jimmy', 'red', 'winona', 'robbery', 'x', 'usainbolt', 'breaking', 'music', 'spacewalk', 'groundhog', 'storm', 'go', 'one', 'avocados', 'snickers', 'charming', 'head', 'greek', 'alive', 'adultswim', 'teresa', 'justice', 'great', 'take', 'men', 'gordon', 'allpeoplearetaxpeople', 'anheuserbusch', 'loretta', 'posty', 'chi', 'bank', 'story', 'stallone', 'masters', 'billy', 'hill', 'basketball', 'golden', 'real', 'myers', 'popsoda', 'working', 'groups', 'stadium', 'ii', 'rossi', 'quickbites', 'aliens', 'jennings', 'cup', 'hummer', 'hardrockcasino', 'nodiscover', 'disney', 'sporting', 'car', 'mortgage', 'alpacinoprimevideo', 'nut', 'ages', 'chandler', 'dog', 'never', 'scarlett', 'pg', 'help', 'kim', 'safer', 'news', 'bryant', 'video', 'singh', 'fixed', 'al', 'smahtpark', 'anquan', 'brain', 'new', 'porsche', 'widow', 'cant', 'drink', 'rise', 'toy', 'rocket', 'taraji', 'political', 'maisiewilliamsgameofthrones', 'run', 'cerny', 'pod', 'caroline', 'gru', 'marvin', 'elliott', 'paint', 'knight', 'molly', 'theshining', 'light', 'quicken', 'nfl', 'ted', 'visitors', 'bond', 'henson', 'bling', 'rainn', 'lebron', 'thrones', 'rocketchrisrock', 'martian', 'work', 'avonetwork', 'google', 'coke', 'john', 'luxury', 'show', 'james', 'gold', 'people', 'card', 'ketchup', 'website', 'wrestling', 'summer', 'spirit', 'jack', 'van', 'tpain', 'virtual', 'martians', 'yes', 'hulu', 'social', 'famous', 'pretzel', 'platform', 'pickle', 'inspire', 'streaming', 'walts', 'boston', 'fox', 'chosen', 'trumpsupporters', 'morty', 'fastfurious', 'yestodiscover', 'olay', 'amazing', 'tough', 'unemployment', 'hammer', 'g', 'lil', 'postmalone', 'tv', 'race', 'wesley', 'mountain', 'turbotax', 'touch', 'west', 'gop', 'charlie', 'woman', 'sixforsixpack', 'charitable', 'vs', 'alcohol', 'facebook', 'masked', 'babypeanut', 'j', 'stallion', 'taycanturbo', 'smaht', 'scorsese', 'fix', 'let', 'david', 'buzz', 'astronauts', 'time', 'chancetherappermeganstallion', 'spaceship', 'canttouchthismchammer', 'mobile', 'walmart', 'wars', 'maid', 'snickershole', 'boldin', 'johansson', 'findthegoodness', 'jersey', 'marvel', 'later', 'hummus', 'taycan', 'ortiz', 'seltosraiders', 'words', 'products', 'charliey', 'brady', 'hotel', 'pack', 'jacobs', 'annual', 'maisie', 'saga', 'criminal', 'square', 'fee', 'works', 'usain', 'withdrawal', 'audi', 'mix', 'prosperous', 'going', 'housewives', 'day', 'michelobgold', 'thing', 'rock', 'barbeque', 'stories', 'wonder', 'shining', 'retriever', 'hunterstv', 'chance', 'general', 'koepka', 'bettahdriveus', 'campaign', 'bolt', 'movie', 'feature', 'flavor', 'ellen', 'hotels', 'quiet', 'pets', 'thee', 'turkish', 'jimmyfallon', 'police', 'evans', 'babyfuneral', 'little', 'alexa', 'halftime', 'glass', 'drag', 'ness', 'humus', 'caesars', 'network', 'strangerthings', 'pahk', 'flenderson', 'quibi', 'cool', 'legend', 'science', 'lone', 'kindness', 'premier', 'inspirechange', 'tax', 'funeral', 'condimentfood', 'frozenaudi', 'less', 'life', 'coach', 'presidential', 'microsoftsurface', 'charge', 'lightyear', 'ev', 'toyotahighlandercobiesmulders', 'walsh', 'office', 'ultrabeer']\n",
            "['stranger', 'system', 'middle', 'airline', 'stonehenge', 'lebronjames', 'president', 'building', 'googleassistant', 'daytona', 'eye', 'football', 'program', 'web', 'jlo', 'dancer', 'murray', 'austin', 'lucky', 'step', 'lo', 'carbs', 'ff', 'loan', 'female', 'smart', 'minion', 'missy', 'gym', 'americanspirit', 'right', 'charlieday', 'typical', 'champion', 'popcorn', 'sower', 'low', 'shakira', 'mean', 'energy', 'first', 'organic', 'newyorklife', 'dotscococolacocacolaenergy', 'cowboy', 'tom', 'stronger', 'mama', 'app', 'daniel', 'stain', 'event', 'ten', 'sabra', 'soda', 'squarespace', 'planter', 'worth', 'move', 'parking', 'test', 'turbo', 'avocarriermollyringwald', 'nazi', 'de', 'tornado', 'sofia', 'allfemale', 'insurance', 'toyota', 'good', 'heist', 'detergenttv', 'jennifer', 'monday', 'powersnoannualfeediscovercredit', 'johnlegendchrissyteigen', 'spice', 'stott', 'inbev', 'gamble', 'gladiator', 'play', 'running', 'arrival', 'assistant', 'femalecoach', 'american', 'together', 'stainlaundrydetergent', 'wilson', 'quits', 'motorshummer', 'five', 'dew', 'craig', 'jasonmomoa', 'world', 'bill', 'matt', 'fee', 'chrisevans', 'littlecaesars', 'pickup', 'fixtheworld', 'announcement', 'etron', 'nyl', 'snipesbabynut', 'scared', 'budweiser', 'ranch', 'r', 'reform', 'emission', 'mmus', 'agape', 'earth', 'back', 'medieval', 'bounty', 'hampshire', 'ray', 'heinz', 'dragqueenamanda', 'laundry', 'food', 'couric', 'jason', 'shopping', 'chase', 'rapper', 'remix', 'mtndew', 'michelob', 'hardrockstadium', 'electric', 'sliced', 'beer', 'accent', 'road', 'revolution', 'megan', 'credit', 'make', 'poptarts', 'er', 'discover', 'competition', 'best', 'cleaner', 'teaser', 'shooting', 'echo', 'seltzer', 'bettahwaytopark', 'flight', 'tmobile', 'captain', 'sylvester', 'mc', 'loki', 'rickmorty', 'truck', 'trumpforpresident', 'tombrady', 'singer', 'candybarreeses', 'vin', 'thing', 'accepted', 'tomorrow', 'volkswagen', 'pacino', 'smulders', 'take', 'nutsmrpeanut', 'lovetakesaction', 'hero', 'service', 'minute', 'inside', 'friend', 'plus', 'krasinki', 'fast', 'cyrus', 'four', 'toby', 'post', 'aquaman', 'casino', 'fury', 'young', 'cola', 'enjoy', 'degeneres', 'stunt', 'genesis', 'erscoach', 'barbecue', 'shownetwork', 'makespaceforwomen', 'trump', 'farmer', 'change', 'lopez', 'porta', 'michelle', 'tart', 'stereotypical', 'proctor', 'boxing', 'love', 'tide', 'williams', 'hyundai', 'queer', 'gmc', 'surface', 'mortgagemomoabowl', 'america', 'history', 'miami', 'space', 'sportback', 'prime', 'lego', 'rodriguez', 'pizza', 'find', 'finally', 'ryder', 'highlander', 'another', 'emily', 'tax', 'cracker', 'dimension', 'bud', 'flash', 'doctor', 'na', 'dull', 'anthony', 'scar', 'kathryn', 'beforealexa', 'microsoft', 'black', 'presidentrumpobama', 'f', 'diesel', 'kobe', 'pringles', 'donald', 'teigen', 'jeep', 'gymbody', 'hardrock', 'nicole', 'brook', 'cocacola', 'sugar', 'letitgo', 'workingout', 'girl', 'park', 'delivery', 'amazon', 'anderson', 'man', 'swim', 'wilder', 'howimmus', 'chili', 'vision', 'service', 'store', 'everything', 'jonah', 'suv', 'bigelow', 'symptom', 'bite', 'gv', 'procter', 'chrissy', 'rick', 'footmake', 'ww', 'baby', 'cobie', 'furious', 'phillips', 'town', 'groot', 'vergara', 'sexiest', 'pepsizero', 'doritos', 'momoa', 'cena', 'fun', 'make', 'woman', 'pop', 'nocoke', 'minnesota', 'rachel', 'homeland', 'action', 'detergentmovie', 'way', 'verizon', 'kerri', 'goodness', 'old', 'international', 'cheetos', 'fallon', 'give', 'falcon', 'better', 'coca', 'flying', 'zero', 'phone', 'febreze', 'kiaseltos', 'toad', 'done', 'quick', 'kia', 'impact', 'hunter', 'trailer', 'rocketmorgage', 'snickersfixtheworld', 'queereye', 'airline', 'ringwald', 'giudice', 'jonathan', 'dragon', 'infinite', 'joshjacobs', 'dratch', 'traffic', 'budlightbudweiser', 'big', 'boy', 'away', 'culture', 'voice', 'since', 'cranston', 'game', 'come', 'mike', 'xfl', 'adult', 'malone', 'busy', 'queensdragqueens', 'hard', 'schitt', 'katiesowers', 'noannualfeediscovercredit', 'cheetle', 'sugarbryan', 'showup', 'martin', 'iphone', 'mtn', 'weathertech', 'ready', 'josh', 'detergent', 'manzo', 'katie', 'reese', 'nation', 'star', 'york', 'bread', 'wild', 'typicalamerican', 'wife', 'mexico', 'party', 'shoulder', 'sox', 'syndrome', 'wanda', 'pepsi', 'arnett', 'donaldtrump', 'stereotype', 'chris', 'home', 'die', 'sam', 'lilly', 'virtualassistant', 'jimmy', 'red', 'winona', 'robbery', 'x', 'usainbolt', 'breaking', 'music', 'spacewalk', 'groundhog', 'storm', 'go', 'one', 'avocado', 'snicker', 'charming', 'head', 'greek', 'alive', 'adultswim', 'teresa', 'justice', 'great', 'take', 'men', 'gordon', 'allpeoplearetaxpeople', 'anheuserbusch', 'loretta', 'posty', 'chi', 'bank', 'story', 'stallone', 'master', 'billy', 'hill', 'basketball', 'golden', 'real', 'myers', 'popsoda', 'working', 'group', 'stadium', 'ii', 'rossi', 'quickbites', 'alien', 'jennings', 'cup', 'hummer', 'hardrockcasino', 'nodiscover', 'disney', 'sporting', 'car', 'mortgage', 'alpacinoprimevideo', 'nut', 'age', 'chandler', 'dog', 'never', 'scarlett', 'pg', 'help', 'kim', 'safer', 'news', 'bryant', 'video', 'singh', 'fixed', 'al', 'smahtpark', 'anquan', 'brain', 'new', 'porsche', 'widow', 'cant', 'drink', 'rise', 'toy', 'rocket', 'taraji', 'political', 'maisiewilliamsgameofthrones', 'run', 'cerny', 'pod', 'caroline', 'gru', 'marvin', 'elliott', 'paint', 'knight', 'molly', 'theshining', 'light', 'quicken', 'nfl', 'ted', 'visitor', 'bond', 'henson', 'bling', 'rainn', 'lebron', 'throne', 'rocketchrisrock', 'martian', 'work', 'avonetwork', 'google', 'coke', 'john', 'luxury', 'show', 'james', 'gold', 'people', 'card', 'ketchup', 'website', 'wrestling', 'summer', 'spirit', 'jack', 'van', 'tpain', 'virtual', 'martian', 'yes', 'hulu', 'social', 'famous', 'pretzel', 'platform', 'pickle', 'inspire', 'streaming', 'walts', 'boston', 'fox', 'chosen', 'trumpsupporters', 'morty', 'fastfurious', 'yestodiscover', 'olay', 'amazing', 'tough', 'unemployment', 'hammer', 'g', 'lil', 'postmalone', 'tv', 'race', 'wesley', 'mountain', 'turbotax', 'touch', 'west', 'gop', 'charlie', 'woman', 'sixforsixpack', 'charitable', 'v', 'alcohol', 'facebook', 'masked', 'babypeanut', 'j', 'stallion', 'taycanturbo', 'smaht', 'scorsese', 'fix', 'let', 'david', 'buzz', 'astronaut', 'time', 'chancetherappermeganstallion', 'spaceship', 'canttouchthismchammer', 'mobile', 'walmart', 'war', 'maid', 'snickershole', 'boldin', 'johansson', 'findthegoodness', 'jersey', 'marvel', 'later', 'hummus', 'taycan', 'ortiz', 'seltosraiders', 'word', 'product', 'charliey', 'brady', 'hotel', 'pack', 'jacob', 'annual', 'maisie', 'saga', 'criminal', 'square', 'fee', 'work', 'usain', 'withdrawal', 'audi', 'mix', 'prosperous', 'going', 'housewife', 'day', 'michelobgold', 'thing', 'rock', 'barbeque', 'story', 'wonder', 'shining', 'retriever', 'hunterstv', 'chance', 'general', 'koepka', 'bettahdriveus', 'campaign', 'bolt', 'movie', 'feature', 'flavor', 'ellen', 'hotel', 'quiet', 'pet', 'thee', 'turkish', 'jimmyfallon', 'police', 'evans', 'babyfuneral', 'little', 'alexa', 'halftime', 'glass', 'drag', 'ness', 'humus', 'caesar', 'network', 'strangerthings', 'pahk', 'flenderson', 'quibi', 'cool', 'legend', 'science', 'lone', 'kindness', 'premier', 'inspirechange', 'tax', 'funeral', 'condimentfood', 'frozenaudi', 'le', 'life', 'coach', 'presidential', 'microsoftsurface', 'charge', 'lightyear', 'ev', 'toyotahighlandercobiesmulders', 'walsh', 'office', 'ultrabeer']\n"
          ],
          "name": "stdout"
        }
      ]
    },
    {
      "cell_type": "code",
      "metadata": {
        "id": "FPfE2myLCz_I",
        "colab_type": "code",
        "colab": {
          "base_uri": "https://localhost:8080/",
          "height": 88
        },
        "outputId": "27c84723-d200-45b7-8031-4b9a789ef476"
      },
      "source": [
        "# Challenge: There are some words that are not separated although can be two legit words if separted\n",
        "# lightyear, jasonmamoa, trumpsupporters, condimentfood, fixtheworld, budlightbudweiser, microsoftsurface, femalecoach, typicalamerican\n",
        "# poptarts, quickbites, googleassistant, smahtpark, spacewalk, letitgo, bettahwaytopark, trumpforpresident, hardrockstadium,\n",
        "# alpacinoprimevideo, femalecoach, inspirechange, motorshummer, newyorklife, stainlaundrydetergent\n",
        "\n",
        "def get_missing_words_vocab(tokenizer, words):\n",
        "  missing_words = []\n",
        "  vocab = tokenizer.get_vocab()\n",
        "  print(\"Actual word list of ad tokens:\"+ str(len(words)))\n",
        "  for word in words:\n",
        "    if word not in vocab:\n",
        "      missing_words.append(word)\n",
        "  print(str(len(missing_words))+\" missing_words\")\n",
        "  return missing_words\n",
        "\n",
        "missing_words = get_missing_words_vocab(tokenizer, ad_keys)\n",
        "print(missing_words)"
      ],
      "execution_count": null,
      "outputs": [
        {
          "output_type": "stream",
          "text": [
            "Actual word list of ad tokens:696\n",
            "210 missing_words\n",
            "['stonehenge', 'lebronjames', 'googleassistant', 'jlo', 'carbs', 'minion', 'americanspirit', 'charlieday', 'sower', 'shakira', 'newyorklife', 'dotscococolacocacolaenergy', 'sabra', 'squarespace', 'planter', 'avocarriermollyringwald', 'allfemale', 'heist', 'detergenttv', 'powersnoannualfeediscovercredit', 'johnlegendchrissyteigen', 'stott', 'inbev', 'gladiator', 'femalecoach', 'stainlaundrydetergent', 'quits', 'motorshummer', 'jasonmomoa', 'chrisevans', 'littlecaesars', 'fixtheworld', 'etron', 'nyl', 'snipesbabynut', 'budweiser', 'mmus', 'agape', 'dragqueenamanda', 'couric', 'mtndew', 'michelob', 'hardrockstadium', 'poptarts', 'seltzer', 'bettahwaytopark', 'tmobile', 'rickmorty', 'trumpforpresident', 'tombrady', 'candybarreeses', 'pacino', 'smulders', 'nutsmrpeanut', 'lovetakesaction', 'krasinki', 'aquaman', 'degeneres', 'erscoach', 'shownetwork', 'makespaceforwomen', 'porta', 'tart', 'stereotypical', 'gmc', 'mortgagemomoabowl', 'sportback', 'highlander', 'cracker', 'beforealexa', 'presidentrumpobama', 'pringles', 'teigen', 'gymbody', 'hardrock', 'cocacola', 'letitgo', 'workingout', 'howimmus', 'bigelow', 'symptom', 'gv', 'procter', 'chrissy', 'footmake', 'ww', 'cobie', 'groot', 'vergara', 'sexiest', 'pepsizero', 'doritos', 'momoa', 'cena', 'nocoke', 'detergentmovie', 'verizon', 'kerri', 'cheetos', 'febreze', 'kiaseltos', 'rocketmorgage', 'snickersfixtheworld', 'queereye', 'ringwald', 'giudice', 'joshjacobs', 'dratch', 'budlightbudweiser', 'cranston', 'xfl', 'queensdragqueens', 'schitt', 'katiesowers', 'noannualfeediscovercredit', 'cheetle', 'sugarbryan', 'showup', 'mtn', 'weathertech', 'detergent', 'manzo', 'typicalamerican', 'arnett', 'donaldtrump', 'stereotype', 'virtualassistant', 'winona', 'usainbolt', 'spacewalk', 'groundhog', 'avocado', 'snicker', 'adultswim', 'allpeoplearetaxpeople', 'anheuserbusch', 'posty', 'stallone', 'popsoda', 'quickbites', 'hummer', 'hardrockcasino', 'nodiscover', 'alpacinoprimevideo', 'smahtpark', 'anquan', 'cant', 'taraji', 'maisiewilliamsgameofthrones', 'cerny', 'gru', 'theshining', 'quicken', 'bling', 'rainn', 'lebron', 'rocketchrisrock', 'avonetwork', 'ketchup', 'tpain', 'hulu', 'pretzel', 'pickle', 'walts', 'trumpsupporters', 'morty', 'fastfurious', 'yestodiscover', 'olay', 'postmalone', 'turbotax', 'gop', 'sixforsixpack', 'babypeanut', 'taycanturbo', 'smaht', 'scorsese', 'chancetherappermeganstallion', 'canttouchthismchammer', 'walmart', 'snickershole', 'boldin', 'findthegoodness', 'hummus', 'taycan', 'seltosraiders', 'charliey', 'maisie', 'usain', 'housewife', 'michelobgold', 'barbeque', 'retriever', 'hunterstv', 'koepka', 'bettahdriveus', 'jimmyfallon', 'babyfuneral', 'humus', 'strangerthings', 'pahk', 'flenderson', 'quibi', 'inspirechange', 'condimentfood', 'frozenaudi', 'microsoftsurface', 'lightyear', 'toyotahighlandercobiesmulders', 'ultrabeer']\n"
          ],
          "name": "stdout"
        }
      ]
    },
    {
      "cell_type": "code",
      "metadata": {
        "id": "6HhDRcbMoGB4",
        "colab_type": "code",
        "colab": {
          "base_uri": "https://localhost:8080/",
          "height": 34
        },
        "outputId": "61955c63-7e89-4542-f97a-4292b5e25d9a"
      },
      "source": [
        "def add_missing_tokens(tokenizer, missing_words):\n",
        "  n_added = tokenizer.add_tokens(missing_words)\n",
        "  print(str(n_added)+\" tokens added to the vocab\")\n",
        "  return\n",
        "add_missing_tokens(tokenizer, missing_words)"
      ],
      "execution_count": null,
      "outputs": [
        {
          "output_type": "stream",
          "text": [
            "210 tokens added to the vocab\n"
          ],
          "name": "stdout"
        }
      ]
    },
    {
      "cell_type": "code",
      "metadata": {
        "id": "Bss0IhfHk2aD",
        "colab_type": "code",
        "colab": {
          "base_uri": "https://localhost:8080/",
          "referenced_widgets": [
            "d06db92afdac4916acf7141757f8a5ce",
            "56576b556419456cb4dbbc0819407031"
          ]
        },
        "outputId": "a877bba6-1f83-4d00-9105-e00a020d01bf"
      },
      "source": [
        "from transformers import BertForSequenceClassification, AdamW, BertConfig, BertModel\n",
        "# Load BertForSequenceClassification, the pretrained BERT model with a single \n",
        "# linear classification layer on top. \n",
        "model = BertForSequenceClassification.from_pretrained(\n",
        "    \"bert-base-uncased\", # Use the 12-layer BERT model, with an uncased vocab.\n",
        "    num_labels = n_unique_ads, # The number of output labels=2 for binary classification.\n",
        "                    # You can increase this for multi-class tasks.   \n",
        "    output_attentions = False, # Whether the model returns attentions weights.\n",
        "    output_hidden_states = False, # Whether the model returns all hidden-states.\n",
        ")\n",
        "# model.resize_token_embeddings(len(tokenizer)) # since new tokens are added\n",
        "# Tell pytorch to run this model on the GPU.\n",
        "model.cuda()\n"
      ],
      "execution_count": null,
      "outputs": [
        {
          "output_type": "display_data",
          "data": {
            "application/vnd.jupyter.widget-view+json": {
              "model_id": "d06db92afdac4916acf7141757f8a5ce",
              "version_minor": 0,
              "version_major": 2
            },
            "text/plain": [
              "HBox(children=(FloatProgress(value=0.0, description='Downloading', max=433.0, style=ProgressStyle(description_…"
            ]
          },
          "metadata": {
            "tags": []
          }
        },
        {
          "output_type": "stream",
          "text": [
            "\n"
          ],
          "name": "stdout"
        },
        {
          "output_type": "display_data",
          "data": {
            "application/vnd.jupyter.widget-view+json": {
              "model_id": "56576b556419456cb4dbbc0819407031",
              "version_minor": 0,
              "version_major": 2
            },
            "text/plain": [
              "HBox(children=(FloatProgress(value=0.0, description='Downloading', max=440473133.0, style=ProgressStyle(descri…"
            ]
          },
          "metadata": {
            "tags": []
          }
        },
        {
          "output_type": "stream",
          "text": [
            "\n"
          ],
          "name": "stdout"
        },
        {
          "output_type": "stream",
          "text": [
            "Some weights of the model checkpoint at bert-base-uncased were not used when initializing BertForSequenceClassification: ['cls.predictions.bias', 'cls.predictions.transform.dense.weight', 'cls.predictions.transform.dense.bias', 'cls.predictions.decoder.weight', 'cls.seq_relationship.weight', 'cls.seq_relationship.bias', 'cls.predictions.transform.LayerNorm.weight', 'cls.predictions.transform.LayerNorm.bias']\n",
            "- This IS expected if you are initializing BertForSequenceClassification from the checkpoint of a model trained on another task or with another architecture (e.g. initializing a BertForSequenceClassification model from a BertForPretraining model).\n",
            "- This IS NOT expected if you are initializing BertForSequenceClassification from the checkpoint of a model that you expect to be exactly identical (initializing a BertForSequenceClassification model from a BertForSequenceClassification model).\n",
            "Some weights of BertForSequenceClassification were not initialized from the model checkpoint at bert-base-uncased and are newly initialized: ['classifier.weight', 'classifier.bias']\n",
            "You should probably TRAIN this model on a down-stream task to be able to use it for predictions and inference.\n"
          ],
          "name": "stderr"
        },
        {
          "output_type": "execute_result",
          "data": {
            "text/plain": [
              "BertForSequenceClassification(\n",
              "  (bert): BertModel(\n",
              "    (embeddings): BertEmbeddings(\n",
              "      (word_embeddings): Embedding(30522, 768, padding_idx=0)\n",
              "      (position_embeddings): Embedding(512, 768)\n",
              "      (token_type_embeddings): Embedding(2, 768)\n",
              "      (LayerNorm): LayerNorm((768,), eps=1e-12, elementwise_affine=True)\n",
              "      (dropout): Dropout(p=0.1, inplace=False)\n",
              "    )\n",
              "    (encoder): BertEncoder(\n",
              "      (layer): ModuleList(\n",
              "        (0): BertLayer(\n",
              "          (attention): BertAttention(\n",
              "            (self): BertSelfAttention(\n",
              "              (query): Linear(in_features=768, out_features=768, bias=True)\n",
              "              (key): Linear(in_features=768, out_features=768, bias=True)\n",
              "              (value): Linear(in_features=768, out_features=768, bias=True)\n",
              "              (dropout): Dropout(p=0.1, inplace=False)\n",
              "            )\n",
              "            (output): BertSelfOutput(\n",
              "              (dense): Linear(in_features=768, out_features=768, bias=True)\n",
              "              (LayerNorm): LayerNorm((768,), eps=1e-12, elementwise_affine=True)\n",
              "              (dropout): Dropout(p=0.1, inplace=False)\n",
              "            )\n",
              "          )\n",
              "          (intermediate): BertIntermediate(\n",
              "            (dense): Linear(in_features=768, out_features=3072, bias=True)\n",
              "          )\n",
              "          (output): BertOutput(\n",
              "            (dense): Linear(in_features=3072, out_features=768, bias=True)\n",
              "            (LayerNorm): LayerNorm((768,), eps=1e-12, elementwise_affine=True)\n",
              "            (dropout): Dropout(p=0.1, inplace=False)\n",
              "          )\n",
              "        )\n",
              "        (1): BertLayer(\n",
              "          (attention): BertAttention(\n",
              "            (self): BertSelfAttention(\n",
              "              (query): Linear(in_features=768, out_features=768, bias=True)\n",
              "              (key): Linear(in_features=768, out_features=768, bias=True)\n",
              "              (value): Linear(in_features=768, out_features=768, bias=True)\n",
              "              (dropout): Dropout(p=0.1, inplace=False)\n",
              "            )\n",
              "            (output): BertSelfOutput(\n",
              "              (dense): Linear(in_features=768, out_features=768, bias=True)\n",
              "              (LayerNorm): LayerNorm((768,), eps=1e-12, elementwise_affine=True)\n",
              "              (dropout): Dropout(p=0.1, inplace=False)\n",
              "            )\n",
              "          )\n",
              "          (intermediate): BertIntermediate(\n",
              "            (dense): Linear(in_features=768, out_features=3072, bias=True)\n",
              "          )\n",
              "          (output): BertOutput(\n",
              "            (dense): Linear(in_features=3072, out_features=768, bias=True)\n",
              "            (LayerNorm): LayerNorm((768,), eps=1e-12, elementwise_affine=True)\n",
              "            (dropout): Dropout(p=0.1, inplace=False)\n",
              "          )\n",
              "        )\n",
              "        (2): BertLayer(\n",
              "          (attention): BertAttention(\n",
              "            (self): BertSelfAttention(\n",
              "              (query): Linear(in_features=768, out_features=768, bias=True)\n",
              "              (key): Linear(in_features=768, out_features=768, bias=True)\n",
              "              (value): Linear(in_features=768, out_features=768, bias=True)\n",
              "              (dropout): Dropout(p=0.1, inplace=False)\n",
              "            )\n",
              "            (output): BertSelfOutput(\n",
              "              (dense): Linear(in_features=768, out_features=768, bias=True)\n",
              "              (LayerNorm): LayerNorm((768,), eps=1e-12, elementwise_affine=True)\n",
              "              (dropout): Dropout(p=0.1, inplace=False)\n",
              "            )\n",
              "          )\n",
              "          (intermediate): BertIntermediate(\n",
              "            (dense): Linear(in_features=768, out_features=3072, bias=True)\n",
              "          )\n",
              "          (output): BertOutput(\n",
              "            (dense): Linear(in_features=3072, out_features=768, bias=True)\n",
              "            (LayerNorm): LayerNorm((768,), eps=1e-12, elementwise_affine=True)\n",
              "            (dropout): Dropout(p=0.1, inplace=False)\n",
              "          )\n",
              "        )\n",
              "        (3): BertLayer(\n",
              "          (attention): BertAttention(\n",
              "            (self): BertSelfAttention(\n",
              "              (query): Linear(in_features=768, out_features=768, bias=True)\n",
              "              (key): Linear(in_features=768, out_features=768, bias=True)\n",
              "              (value): Linear(in_features=768, out_features=768, bias=True)\n",
              "              (dropout): Dropout(p=0.1, inplace=False)\n",
              "            )\n",
              "            (output): BertSelfOutput(\n",
              "              (dense): Linear(in_features=768, out_features=768, bias=True)\n",
              "              (LayerNorm): LayerNorm((768,), eps=1e-12, elementwise_affine=True)\n",
              "              (dropout): Dropout(p=0.1, inplace=False)\n",
              "            )\n",
              "          )\n",
              "          (intermediate): BertIntermediate(\n",
              "            (dense): Linear(in_features=768, out_features=3072, bias=True)\n",
              "          )\n",
              "          (output): BertOutput(\n",
              "            (dense): Linear(in_features=3072, out_features=768, bias=True)\n",
              "            (LayerNorm): LayerNorm((768,), eps=1e-12, elementwise_affine=True)\n",
              "            (dropout): Dropout(p=0.1, inplace=False)\n",
              "          )\n",
              "        )\n",
              "        (4): BertLayer(\n",
              "          (attention): BertAttention(\n",
              "            (self): BertSelfAttention(\n",
              "              (query): Linear(in_features=768, out_features=768, bias=True)\n",
              "              (key): Linear(in_features=768, out_features=768, bias=True)\n",
              "              (value): Linear(in_features=768, out_features=768, bias=True)\n",
              "              (dropout): Dropout(p=0.1, inplace=False)\n",
              "            )\n",
              "            (output): BertSelfOutput(\n",
              "              (dense): Linear(in_features=768, out_features=768, bias=True)\n",
              "              (LayerNorm): LayerNorm((768,), eps=1e-12, elementwise_affine=True)\n",
              "              (dropout): Dropout(p=0.1, inplace=False)\n",
              "            )\n",
              "          )\n",
              "          (intermediate): BertIntermediate(\n",
              "            (dense): Linear(in_features=768, out_features=3072, bias=True)\n",
              "          )\n",
              "          (output): BertOutput(\n",
              "            (dense): Linear(in_features=3072, out_features=768, bias=True)\n",
              "            (LayerNorm): LayerNorm((768,), eps=1e-12, elementwise_affine=True)\n",
              "            (dropout): Dropout(p=0.1, inplace=False)\n",
              "          )\n",
              "        )\n",
              "        (5): BertLayer(\n",
              "          (attention): BertAttention(\n",
              "            (self): BertSelfAttention(\n",
              "              (query): Linear(in_features=768, out_features=768, bias=True)\n",
              "              (key): Linear(in_features=768, out_features=768, bias=True)\n",
              "              (value): Linear(in_features=768, out_features=768, bias=True)\n",
              "              (dropout): Dropout(p=0.1, inplace=False)\n",
              "            )\n",
              "            (output): BertSelfOutput(\n",
              "              (dense): Linear(in_features=768, out_features=768, bias=True)\n",
              "              (LayerNorm): LayerNorm((768,), eps=1e-12, elementwise_affine=True)\n",
              "              (dropout): Dropout(p=0.1, inplace=False)\n",
              "            )\n",
              "          )\n",
              "          (intermediate): BertIntermediate(\n",
              "            (dense): Linear(in_features=768, out_features=3072, bias=True)\n",
              "          )\n",
              "          (output): BertOutput(\n",
              "            (dense): Linear(in_features=3072, out_features=768, bias=True)\n",
              "            (LayerNorm): LayerNorm((768,), eps=1e-12, elementwise_affine=True)\n",
              "            (dropout): Dropout(p=0.1, inplace=False)\n",
              "          )\n",
              "        )\n",
              "        (6): BertLayer(\n",
              "          (attention): BertAttention(\n",
              "            (self): BertSelfAttention(\n",
              "              (query): Linear(in_features=768, out_features=768, bias=True)\n",
              "              (key): Linear(in_features=768, out_features=768, bias=True)\n",
              "              (value): Linear(in_features=768, out_features=768, bias=True)\n",
              "              (dropout): Dropout(p=0.1, inplace=False)\n",
              "            )\n",
              "            (output): BertSelfOutput(\n",
              "              (dense): Linear(in_features=768, out_features=768, bias=True)\n",
              "              (LayerNorm): LayerNorm((768,), eps=1e-12, elementwise_affine=True)\n",
              "              (dropout): Dropout(p=0.1, inplace=False)\n",
              "            )\n",
              "          )\n",
              "          (intermediate): BertIntermediate(\n",
              "            (dense): Linear(in_features=768, out_features=3072, bias=True)\n",
              "          )\n",
              "          (output): BertOutput(\n",
              "            (dense): Linear(in_features=3072, out_features=768, bias=True)\n",
              "            (LayerNorm): LayerNorm((768,), eps=1e-12, elementwise_affine=True)\n",
              "            (dropout): Dropout(p=0.1, inplace=False)\n",
              "          )\n",
              "        )\n",
              "        (7): BertLayer(\n",
              "          (attention): BertAttention(\n",
              "            (self): BertSelfAttention(\n",
              "              (query): Linear(in_features=768, out_features=768, bias=True)\n",
              "              (key): Linear(in_features=768, out_features=768, bias=True)\n",
              "              (value): Linear(in_features=768, out_features=768, bias=True)\n",
              "              (dropout): Dropout(p=0.1, inplace=False)\n",
              "            )\n",
              "            (output): BertSelfOutput(\n",
              "              (dense): Linear(in_features=768, out_features=768, bias=True)\n",
              "              (LayerNorm): LayerNorm((768,), eps=1e-12, elementwise_affine=True)\n",
              "              (dropout): Dropout(p=0.1, inplace=False)\n",
              "            )\n",
              "          )\n",
              "          (intermediate): BertIntermediate(\n",
              "            (dense): Linear(in_features=768, out_features=3072, bias=True)\n",
              "          )\n",
              "          (output): BertOutput(\n",
              "            (dense): Linear(in_features=3072, out_features=768, bias=True)\n",
              "            (LayerNorm): LayerNorm((768,), eps=1e-12, elementwise_affine=True)\n",
              "            (dropout): Dropout(p=0.1, inplace=False)\n",
              "          )\n",
              "        )\n",
              "        (8): BertLayer(\n",
              "          (attention): BertAttention(\n",
              "            (self): BertSelfAttention(\n",
              "              (query): Linear(in_features=768, out_features=768, bias=True)\n",
              "              (key): Linear(in_features=768, out_features=768, bias=True)\n",
              "              (value): Linear(in_features=768, out_features=768, bias=True)\n",
              "              (dropout): Dropout(p=0.1, inplace=False)\n",
              "            )\n",
              "            (output): BertSelfOutput(\n",
              "              (dense): Linear(in_features=768, out_features=768, bias=True)\n",
              "              (LayerNorm): LayerNorm((768,), eps=1e-12, elementwise_affine=True)\n",
              "              (dropout): Dropout(p=0.1, inplace=False)\n",
              "            )\n",
              "          )\n",
              "          (intermediate): BertIntermediate(\n",
              "            (dense): Linear(in_features=768, out_features=3072, bias=True)\n",
              "          )\n",
              "          (output): BertOutput(\n",
              "            (dense): Linear(in_features=3072, out_features=768, bias=True)\n",
              "            (LayerNorm): LayerNorm((768,), eps=1e-12, elementwise_affine=True)\n",
              "            (dropout): Dropout(p=0.1, inplace=False)\n",
              "          )\n",
              "        )\n",
              "        (9): BertLayer(\n",
              "          (attention): BertAttention(\n",
              "            (self): BertSelfAttention(\n",
              "              (query): Linear(in_features=768, out_features=768, bias=True)\n",
              "              (key): Linear(in_features=768, out_features=768, bias=True)\n",
              "              (value): Linear(in_features=768, out_features=768, bias=True)\n",
              "              (dropout): Dropout(p=0.1, inplace=False)\n",
              "            )\n",
              "            (output): BertSelfOutput(\n",
              "              (dense): Linear(in_features=768, out_features=768, bias=True)\n",
              "              (LayerNorm): LayerNorm((768,), eps=1e-12, elementwise_affine=True)\n",
              "              (dropout): Dropout(p=0.1, inplace=False)\n",
              "            )\n",
              "          )\n",
              "          (intermediate): BertIntermediate(\n",
              "            (dense): Linear(in_features=768, out_features=3072, bias=True)\n",
              "          )\n",
              "          (output): BertOutput(\n",
              "            (dense): Linear(in_features=3072, out_features=768, bias=True)\n",
              "            (LayerNorm): LayerNorm((768,), eps=1e-12, elementwise_affine=True)\n",
              "            (dropout): Dropout(p=0.1, inplace=False)\n",
              "          )\n",
              "        )\n",
              "        (10): BertLayer(\n",
              "          (attention): BertAttention(\n",
              "            (self): BertSelfAttention(\n",
              "              (query): Linear(in_features=768, out_features=768, bias=True)\n",
              "              (key): Linear(in_features=768, out_features=768, bias=True)\n",
              "              (value): Linear(in_features=768, out_features=768, bias=True)\n",
              "              (dropout): Dropout(p=0.1, inplace=False)\n",
              "            )\n",
              "            (output): BertSelfOutput(\n",
              "              (dense): Linear(in_features=768, out_features=768, bias=True)\n",
              "              (LayerNorm): LayerNorm((768,), eps=1e-12, elementwise_affine=True)\n",
              "              (dropout): Dropout(p=0.1, inplace=False)\n",
              "            )\n",
              "          )\n",
              "          (intermediate): BertIntermediate(\n",
              "            (dense): Linear(in_features=768, out_features=3072, bias=True)\n",
              "          )\n",
              "          (output): BertOutput(\n",
              "            (dense): Linear(in_features=3072, out_features=768, bias=True)\n",
              "            (LayerNorm): LayerNorm((768,), eps=1e-12, elementwise_affine=True)\n",
              "            (dropout): Dropout(p=0.1, inplace=False)\n",
              "          )\n",
              "        )\n",
              "        (11): BertLayer(\n",
              "          (attention): BertAttention(\n",
              "            (self): BertSelfAttention(\n",
              "              (query): Linear(in_features=768, out_features=768, bias=True)\n",
              "              (key): Linear(in_features=768, out_features=768, bias=True)\n",
              "              (value): Linear(in_features=768, out_features=768, bias=True)\n",
              "              (dropout): Dropout(p=0.1, inplace=False)\n",
              "            )\n",
              "            (output): BertSelfOutput(\n",
              "              (dense): Linear(in_features=768, out_features=768, bias=True)\n",
              "              (LayerNorm): LayerNorm((768,), eps=1e-12, elementwise_affine=True)\n",
              "              (dropout): Dropout(p=0.1, inplace=False)\n",
              "            )\n",
              "          )\n",
              "          (intermediate): BertIntermediate(\n",
              "            (dense): Linear(in_features=768, out_features=3072, bias=True)\n",
              "          )\n",
              "          (output): BertOutput(\n",
              "            (dense): Linear(in_features=3072, out_features=768, bias=True)\n",
              "            (LayerNorm): LayerNorm((768,), eps=1e-12, elementwise_affine=True)\n",
              "            (dropout): Dropout(p=0.1, inplace=False)\n",
              "          )\n",
              "        )\n",
              "      )\n",
              "    )\n",
              "    (pooler): BertPooler(\n",
              "      (dense): Linear(in_features=768, out_features=768, bias=True)\n",
              "      (activation): Tanh()\n",
              "    )\n",
              "  )\n",
              "  (dropout): Dropout(p=0.1, inplace=False)\n",
              "  (classifier): Linear(in_features=768, out_features=87, bias=True)\n",
              ")"
            ]
          },
          "metadata": {
            "tags": []
          },
          "execution_count": 17
        }
      ]
    },
    {
      "cell_type": "code",
      "metadata": {
        "id": "FcbmFpvDtU9y",
        "colab_type": "code",
        "colab": {
          "base_uri": "https://localhost:8080/"
        },
        "outputId": "58e49af6-0176-4635-d82d-45acaf80f0f8"
      },
      "source": [
        "# documentation of get_input_embeddings: https://huggingface.co/transformers/model_doc/bert.html\n",
        "embedding_layer = model.get_input_embeddings()\n",
        "print(embedding_layer)\n",
        "pretrain_embeddings = embedding_layer.weight.cpu().detach().numpy()\n",
        "print(pretrain_embeddings.shape)\n"
      ],
      "execution_count": null,
      "outputs": [
        {
          "output_type": "stream",
          "text": [
            "Embedding(30522, 768, padding_idx=0)\n",
            "(30522, 768)\n"
          ],
          "name": "stdout"
        }
      ]
    },
    {
      "cell_type": "code",
      "metadata": {
        "id": "By0KZQilyprW",
        "colab_type": "code",
        "colab": {
          "base_uri": "https://localhost:8080/",
          "height": 51
        },
        "outputId": "3aaa9bf8-c3e7-4614-9f2b-d4e38acb513f"
      },
      "source": [
        "# get random feature vector assuming normal distribution of values for each feature\n",
        "def get_rand_feature_vector(mean, stand):\n",
        "  feature_vector = np.zeros(len(mean))\n",
        "  for i in range(0, len(mean)):\n",
        "    mu = mean[i]\n",
        "    sigma = stand[i]\n",
        "    rand = np.random.normal(mu, sigma, 1)\n",
        "    feature_vector[i] = rand\n",
        "  return feature_vector\n",
        "\n",
        "std = pretrain_embeddings.std(axis= 0) # to calculate variance for each column i.e each feature\n",
        "mean = pretrain_embeddings.mean(axis =0) # to calculate mean for each column i.e each feature\n",
        "print(std.shape)\n",
        "print(mean.shape)\n"
      ],
      "execution_count": null,
      "outputs": [
        {
          "output_type": "stream",
          "text": [
            "(768,)\n",
            "(768,)\n"
          ],
          "name": "stdout"
        }
      ]
    },
    {
      "cell_type": "code",
      "metadata": {
        "id": "LHxvtao1ytiX",
        "colab_type": "code",
        "colab": {
          "base_uri": "https://localhost:8080/"
        },
        "outputId": "f991fcda-ab0d-4d9c-fd23-23f7e979f8d8"
      },
      "source": [
        "import numpy as np\n",
        "\n",
        "missing_word_embeddings = np.zeros(shape = (len(missing_words), 768))\n",
        "i=0\n",
        "for word in missing_words:\n",
        "  missing_word_embeddings[i] = get_rand_feature_vector(mean, std)\n",
        "  i = i+1\n",
        "\n",
        "print(missing_word_embeddings.shape)\n",
        "\n",
        "updated_embeddings = np.concatenate((pretrain_embeddings, missing_word_embeddings), axis=0)\n",
        "print(\"shape of updated embeddings:\"+ str(updated_embeddings.shape))"
      ],
      "execution_count": null,
      "outputs": [
        {
          "output_type": "stream",
          "text": [
            "(210, 768)\n",
            "shape of updated embeddings:(30732, 768)\n"
          ],
          "name": "stdout"
        }
      ]
    },
    {
      "cell_type": "code",
      "metadata": {
        "id": "cI0lAAGBF3-X",
        "colab_type": "code",
        "colab": {
          "base_uri": "https://localhost:8080/"
        },
        "outputId": "47943761-e735-4fef-fedf-f0d5fa6514bc"
      },
      "source": [
        "import torch\n",
        "from torch import nn\n",
        "\n",
        "input_embeddings = nn.Embedding(updated_embeddings.shape[0], updated_embeddings.shape[1], \n",
        "                             padding_idx= embedding_layer.padding_idx)\n",
        "model.set_input_embeddings(input_embeddings)\n",
        "model.get_input_embeddings()\n",
        "model.cuda()"
      ],
      "execution_count": null,
      "outputs": [
        {
          "output_type": "execute_result",
          "data": {
            "text/plain": [
              "BertForSequenceClassification(\n",
              "  (bert): BertModel(\n",
              "    (embeddings): BertEmbeddings(\n",
              "      (word_embeddings): Embedding(30732, 768, padding_idx=0)\n",
              "      (position_embeddings): Embedding(512, 768)\n",
              "      (token_type_embeddings): Embedding(2, 768)\n",
              "      (LayerNorm): LayerNorm((768,), eps=1e-12, elementwise_affine=True)\n",
              "      (dropout): Dropout(p=0.1, inplace=False)\n",
              "    )\n",
              "    (encoder): BertEncoder(\n",
              "      (layer): ModuleList(\n",
              "        (0): BertLayer(\n",
              "          (attention): BertAttention(\n",
              "            (self): BertSelfAttention(\n",
              "              (query): Linear(in_features=768, out_features=768, bias=True)\n",
              "              (key): Linear(in_features=768, out_features=768, bias=True)\n",
              "              (value): Linear(in_features=768, out_features=768, bias=True)\n",
              "              (dropout): Dropout(p=0.1, inplace=False)\n",
              "            )\n",
              "            (output): BertSelfOutput(\n",
              "              (dense): Linear(in_features=768, out_features=768, bias=True)\n",
              "              (LayerNorm): LayerNorm((768,), eps=1e-12, elementwise_affine=True)\n",
              "              (dropout): Dropout(p=0.1, inplace=False)\n",
              "            )\n",
              "          )\n",
              "          (intermediate): BertIntermediate(\n",
              "            (dense): Linear(in_features=768, out_features=3072, bias=True)\n",
              "          )\n",
              "          (output): BertOutput(\n",
              "            (dense): Linear(in_features=3072, out_features=768, bias=True)\n",
              "            (LayerNorm): LayerNorm((768,), eps=1e-12, elementwise_affine=True)\n",
              "            (dropout): Dropout(p=0.1, inplace=False)\n",
              "          )\n",
              "        )\n",
              "        (1): BertLayer(\n",
              "          (attention): BertAttention(\n",
              "            (self): BertSelfAttention(\n",
              "              (query): Linear(in_features=768, out_features=768, bias=True)\n",
              "              (key): Linear(in_features=768, out_features=768, bias=True)\n",
              "              (value): Linear(in_features=768, out_features=768, bias=True)\n",
              "              (dropout): Dropout(p=0.1, inplace=False)\n",
              "            )\n",
              "            (output): BertSelfOutput(\n",
              "              (dense): Linear(in_features=768, out_features=768, bias=True)\n",
              "              (LayerNorm): LayerNorm((768,), eps=1e-12, elementwise_affine=True)\n",
              "              (dropout): Dropout(p=0.1, inplace=False)\n",
              "            )\n",
              "          )\n",
              "          (intermediate): BertIntermediate(\n",
              "            (dense): Linear(in_features=768, out_features=3072, bias=True)\n",
              "          )\n",
              "          (output): BertOutput(\n",
              "            (dense): Linear(in_features=3072, out_features=768, bias=True)\n",
              "            (LayerNorm): LayerNorm((768,), eps=1e-12, elementwise_affine=True)\n",
              "            (dropout): Dropout(p=0.1, inplace=False)\n",
              "          )\n",
              "        )\n",
              "        (2): BertLayer(\n",
              "          (attention): BertAttention(\n",
              "            (self): BertSelfAttention(\n",
              "              (query): Linear(in_features=768, out_features=768, bias=True)\n",
              "              (key): Linear(in_features=768, out_features=768, bias=True)\n",
              "              (value): Linear(in_features=768, out_features=768, bias=True)\n",
              "              (dropout): Dropout(p=0.1, inplace=False)\n",
              "            )\n",
              "            (output): BertSelfOutput(\n",
              "              (dense): Linear(in_features=768, out_features=768, bias=True)\n",
              "              (LayerNorm): LayerNorm((768,), eps=1e-12, elementwise_affine=True)\n",
              "              (dropout): Dropout(p=0.1, inplace=False)\n",
              "            )\n",
              "          )\n",
              "          (intermediate): BertIntermediate(\n",
              "            (dense): Linear(in_features=768, out_features=3072, bias=True)\n",
              "          )\n",
              "          (output): BertOutput(\n",
              "            (dense): Linear(in_features=3072, out_features=768, bias=True)\n",
              "            (LayerNorm): LayerNorm((768,), eps=1e-12, elementwise_affine=True)\n",
              "            (dropout): Dropout(p=0.1, inplace=False)\n",
              "          )\n",
              "        )\n",
              "        (3): BertLayer(\n",
              "          (attention): BertAttention(\n",
              "            (self): BertSelfAttention(\n",
              "              (query): Linear(in_features=768, out_features=768, bias=True)\n",
              "              (key): Linear(in_features=768, out_features=768, bias=True)\n",
              "              (value): Linear(in_features=768, out_features=768, bias=True)\n",
              "              (dropout): Dropout(p=0.1, inplace=False)\n",
              "            )\n",
              "            (output): BertSelfOutput(\n",
              "              (dense): Linear(in_features=768, out_features=768, bias=True)\n",
              "              (LayerNorm): LayerNorm((768,), eps=1e-12, elementwise_affine=True)\n",
              "              (dropout): Dropout(p=0.1, inplace=False)\n",
              "            )\n",
              "          )\n",
              "          (intermediate): BertIntermediate(\n",
              "            (dense): Linear(in_features=768, out_features=3072, bias=True)\n",
              "          )\n",
              "          (output): BertOutput(\n",
              "            (dense): Linear(in_features=3072, out_features=768, bias=True)\n",
              "            (LayerNorm): LayerNorm((768,), eps=1e-12, elementwise_affine=True)\n",
              "            (dropout): Dropout(p=0.1, inplace=False)\n",
              "          )\n",
              "        )\n",
              "        (4): BertLayer(\n",
              "          (attention): BertAttention(\n",
              "            (self): BertSelfAttention(\n",
              "              (query): Linear(in_features=768, out_features=768, bias=True)\n",
              "              (key): Linear(in_features=768, out_features=768, bias=True)\n",
              "              (value): Linear(in_features=768, out_features=768, bias=True)\n",
              "              (dropout): Dropout(p=0.1, inplace=False)\n",
              "            )\n",
              "            (output): BertSelfOutput(\n",
              "              (dense): Linear(in_features=768, out_features=768, bias=True)\n",
              "              (LayerNorm): LayerNorm((768,), eps=1e-12, elementwise_affine=True)\n",
              "              (dropout): Dropout(p=0.1, inplace=False)\n",
              "            )\n",
              "          )\n",
              "          (intermediate): BertIntermediate(\n",
              "            (dense): Linear(in_features=768, out_features=3072, bias=True)\n",
              "          )\n",
              "          (output): BertOutput(\n",
              "            (dense): Linear(in_features=3072, out_features=768, bias=True)\n",
              "            (LayerNorm): LayerNorm((768,), eps=1e-12, elementwise_affine=True)\n",
              "            (dropout): Dropout(p=0.1, inplace=False)\n",
              "          )\n",
              "        )\n",
              "        (5): BertLayer(\n",
              "          (attention): BertAttention(\n",
              "            (self): BertSelfAttention(\n",
              "              (query): Linear(in_features=768, out_features=768, bias=True)\n",
              "              (key): Linear(in_features=768, out_features=768, bias=True)\n",
              "              (value): Linear(in_features=768, out_features=768, bias=True)\n",
              "              (dropout): Dropout(p=0.1, inplace=False)\n",
              "            )\n",
              "            (output): BertSelfOutput(\n",
              "              (dense): Linear(in_features=768, out_features=768, bias=True)\n",
              "              (LayerNorm): LayerNorm((768,), eps=1e-12, elementwise_affine=True)\n",
              "              (dropout): Dropout(p=0.1, inplace=False)\n",
              "            )\n",
              "          )\n",
              "          (intermediate): BertIntermediate(\n",
              "            (dense): Linear(in_features=768, out_features=3072, bias=True)\n",
              "          )\n",
              "          (output): BertOutput(\n",
              "            (dense): Linear(in_features=3072, out_features=768, bias=True)\n",
              "            (LayerNorm): LayerNorm((768,), eps=1e-12, elementwise_affine=True)\n",
              "            (dropout): Dropout(p=0.1, inplace=False)\n",
              "          )\n",
              "        )\n",
              "        (6): BertLayer(\n",
              "          (attention): BertAttention(\n",
              "            (self): BertSelfAttention(\n",
              "              (query): Linear(in_features=768, out_features=768, bias=True)\n",
              "              (key): Linear(in_features=768, out_features=768, bias=True)\n",
              "              (value): Linear(in_features=768, out_features=768, bias=True)\n",
              "              (dropout): Dropout(p=0.1, inplace=False)\n",
              "            )\n",
              "            (output): BertSelfOutput(\n",
              "              (dense): Linear(in_features=768, out_features=768, bias=True)\n",
              "              (LayerNorm): LayerNorm((768,), eps=1e-12, elementwise_affine=True)\n",
              "              (dropout): Dropout(p=0.1, inplace=False)\n",
              "            )\n",
              "          )\n",
              "          (intermediate): BertIntermediate(\n",
              "            (dense): Linear(in_features=768, out_features=3072, bias=True)\n",
              "          )\n",
              "          (output): BertOutput(\n",
              "            (dense): Linear(in_features=3072, out_features=768, bias=True)\n",
              "            (LayerNorm): LayerNorm((768,), eps=1e-12, elementwise_affine=True)\n",
              "            (dropout): Dropout(p=0.1, inplace=False)\n",
              "          )\n",
              "        )\n",
              "        (7): BertLayer(\n",
              "          (attention): BertAttention(\n",
              "            (self): BertSelfAttention(\n",
              "              (query): Linear(in_features=768, out_features=768, bias=True)\n",
              "              (key): Linear(in_features=768, out_features=768, bias=True)\n",
              "              (value): Linear(in_features=768, out_features=768, bias=True)\n",
              "              (dropout): Dropout(p=0.1, inplace=False)\n",
              "            )\n",
              "            (output): BertSelfOutput(\n",
              "              (dense): Linear(in_features=768, out_features=768, bias=True)\n",
              "              (LayerNorm): LayerNorm((768,), eps=1e-12, elementwise_affine=True)\n",
              "              (dropout): Dropout(p=0.1, inplace=False)\n",
              "            )\n",
              "          )\n",
              "          (intermediate): BertIntermediate(\n",
              "            (dense): Linear(in_features=768, out_features=3072, bias=True)\n",
              "          )\n",
              "          (output): BertOutput(\n",
              "            (dense): Linear(in_features=3072, out_features=768, bias=True)\n",
              "            (LayerNorm): LayerNorm((768,), eps=1e-12, elementwise_affine=True)\n",
              "            (dropout): Dropout(p=0.1, inplace=False)\n",
              "          )\n",
              "        )\n",
              "        (8): BertLayer(\n",
              "          (attention): BertAttention(\n",
              "            (self): BertSelfAttention(\n",
              "              (query): Linear(in_features=768, out_features=768, bias=True)\n",
              "              (key): Linear(in_features=768, out_features=768, bias=True)\n",
              "              (value): Linear(in_features=768, out_features=768, bias=True)\n",
              "              (dropout): Dropout(p=0.1, inplace=False)\n",
              "            )\n",
              "            (output): BertSelfOutput(\n",
              "              (dense): Linear(in_features=768, out_features=768, bias=True)\n",
              "              (LayerNorm): LayerNorm((768,), eps=1e-12, elementwise_affine=True)\n",
              "              (dropout): Dropout(p=0.1, inplace=False)\n",
              "            )\n",
              "          )\n",
              "          (intermediate): BertIntermediate(\n",
              "            (dense): Linear(in_features=768, out_features=3072, bias=True)\n",
              "          )\n",
              "          (output): BertOutput(\n",
              "            (dense): Linear(in_features=3072, out_features=768, bias=True)\n",
              "            (LayerNorm): LayerNorm((768,), eps=1e-12, elementwise_affine=True)\n",
              "            (dropout): Dropout(p=0.1, inplace=False)\n",
              "          )\n",
              "        )\n",
              "        (9): BertLayer(\n",
              "          (attention): BertAttention(\n",
              "            (self): BertSelfAttention(\n",
              "              (query): Linear(in_features=768, out_features=768, bias=True)\n",
              "              (key): Linear(in_features=768, out_features=768, bias=True)\n",
              "              (value): Linear(in_features=768, out_features=768, bias=True)\n",
              "              (dropout): Dropout(p=0.1, inplace=False)\n",
              "            )\n",
              "            (output): BertSelfOutput(\n",
              "              (dense): Linear(in_features=768, out_features=768, bias=True)\n",
              "              (LayerNorm): LayerNorm((768,), eps=1e-12, elementwise_affine=True)\n",
              "              (dropout): Dropout(p=0.1, inplace=False)\n",
              "            )\n",
              "          )\n",
              "          (intermediate): BertIntermediate(\n",
              "            (dense): Linear(in_features=768, out_features=3072, bias=True)\n",
              "          )\n",
              "          (output): BertOutput(\n",
              "            (dense): Linear(in_features=3072, out_features=768, bias=True)\n",
              "            (LayerNorm): LayerNorm((768,), eps=1e-12, elementwise_affine=True)\n",
              "            (dropout): Dropout(p=0.1, inplace=False)\n",
              "          )\n",
              "        )\n",
              "        (10): BertLayer(\n",
              "          (attention): BertAttention(\n",
              "            (self): BertSelfAttention(\n",
              "              (query): Linear(in_features=768, out_features=768, bias=True)\n",
              "              (key): Linear(in_features=768, out_features=768, bias=True)\n",
              "              (value): Linear(in_features=768, out_features=768, bias=True)\n",
              "              (dropout): Dropout(p=0.1, inplace=False)\n",
              "            )\n",
              "            (output): BertSelfOutput(\n",
              "              (dense): Linear(in_features=768, out_features=768, bias=True)\n",
              "              (LayerNorm): LayerNorm((768,), eps=1e-12, elementwise_affine=True)\n",
              "              (dropout): Dropout(p=0.1, inplace=False)\n",
              "            )\n",
              "          )\n",
              "          (intermediate): BertIntermediate(\n",
              "            (dense): Linear(in_features=768, out_features=3072, bias=True)\n",
              "          )\n",
              "          (output): BertOutput(\n",
              "            (dense): Linear(in_features=3072, out_features=768, bias=True)\n",
              "            (LayerNorm): LayerNorm((768,), eps=1e-12, elementwise_affine=True)\n",
              "            (dropout): Dropout(p=0.1, inplace=False)\n",
              "          )\n",
              "        )\n",
              "        (11): BertLayer(\n",
              "          (attention): BertAttention(\n",
              "            (self): BertSelfAttention(\n",
              "              (query): Linear(in_features=768, out_features=768, bias=True)\n",
              "              (key): Linear(in_features=768, out_features=768, bias=True)\n",
              "              (value): Linear(in_features=768, out_features=768, bias=True)\n",
              "              (dropout): Dropout(p=0.1, inplace=False)\n",
              "            )\n",
              "            (output): BertSelfOutput(\n",
              "              (dense): Linear(in_features=768, out_features=768, bias=True)\n",
              "              (LayerNorm): LayerNorm((768,), eps=1e-12, elementwise_affine=True)\n",
              "              (dropout): Dropout(p=0.1, inplace=False)\n",
              "            )\n",
              "          )\n",
              "          (intermediate): BertIntermediate(\n",
              "            (dense): Linear(in_features=768, out_features=3072, bias=True)\n",
              "          )\n",
              "          (output): BertOutput(\n",
              "            (dense): Linear(in_features=3072, out_features=768, bias=True)\n",
              "            (LayerNorm): LayerNorm((768,), eps=1e-12, elementwise_affine=True)\n",
              "            (dropout): Dropout(p=0.1, inplace=False)\n",
              "          )\n",
              "        )\n",
              "      )\n",
              "    )\n",
              "    (pooler): BertPooler(\n",
              "      (dense): Linear(in_features=768, out_features=768, bias=True)\n",
              "      (activation): Tanh()\n",
              "    )\n",
              "  )\n",
              "  (dropout): Dropout(p=0.1, inplace=False)\n",
              "  (classifier): Linear(in_features=768, out_features=87, bias=True)\n",
              ")"
            ]
          },
          "metadata": {
            "tags": []
          },
          "execution_count": 21
        }
      ]
    },
    {
      "cell_type": "markdown",
      "metadata": {
        "id": "Vq139luKPX4C",
        "colab_type": "text"
      },
      "source": [
        "Extracting Embeddings from Pretrained BERT, appending random embeddings for missing words in Vocab and using them as a layer in Keras whose input is then used to classify if a tweet is ad related or not\n",
        "\n",
        "Ref1: https://stackabuse.com/python-for-nlp-word-embeddings-for-deep-learning-in-keras/\n",
        "\n",
        "Ref2: https://machinelearningmastery.com/\n",
        "use-word-embedding-layers-deep-learning-keras/\n",
        "\n"
      ]
    },
    {
      "cell_type": "code",
      "metadata": {
        "id": "4cKlyWLkF-9O",
        "colab_type": "code",
        "colab": {
          "base_uri": "https://localhost:8080/"
        },
        "outputId": "f1ac3761-9500-4fd1-9fc7-7b12ab216f34"
      },
      "source": [
        "from keras.models import Sequential\n",
        "from keras.layers import Dense\n",
        "from keras.layers import Flatten, Dropout\n",
        "from keras.layers.embeddings import Embedding\n",
        "\n",
        "custom_model = Sequential()\n",
        "# embedding_layer = Embedding(vocab_length, 100, weights=[embedding_matrix], input_length=length_long_sentence, trainable=False)\n",
        "length_long_sentence = 45\n",
        "input_embedding_layer = Embedding(updated_embeddings.shape[0], updated_embeddings.shape[1], \n",
        "                                  weights=[updated_embeddings], \n",
        "                                  input_length=length_long_sentence, trainable = True)\n",
        "\n",
        "custom_model.add(input_embedding_layer) # add the Embedding layer as the first layer to the model\n",
        "# custom_model.add(Dropout(0.2)) # drop out layer to avoid over fitting\n",
        "custom_model.add(Flatten()) # Embedding layer is flattened so that it can be directly used with the densely connected layer.\n",
        "custom_model.add(Dense(1, activation='sigmoid')) # binary classification problem, we use the sigmoid function as the loss function at the dense layer\n",
        "custom_model.compile(optimizer='adam', loss='binary_crossentropy', metrics=['acc'])\n",
        "print(custom_model.summary())"
      ],
      "execution_count": null,
      "outputs": [
        {
          "output_type": "stream",
          "text": [
            "Using TensorFlow backend.\n"
          ],
          "name": "stderr"
        },
        {
          "output_type": "stream",
          "text": [
            "Model: \"sequential_1\"\n",
            "_________________________________________________________________\n",
            "Layer (type)                 Output Shape              Param #   \n",
            "=================================================================\n",
            "embedding_1 (Embedding)      (None, 45, 768)           23602176  \n",
            "_________________________________________________________________\n",
            "flatten_1 (Flatten)          (None, 34560)             0         \n",
            "_________________________________________________________________\n",
            "dense_1 (Dense)              (None, 1)                 34561     \n",
            "=================================================================\n",
            "Total params: 23,636,737\n",
            "Trainable params: 23,636,737\n",
            "Non-trainable params: 0\n",
            "_________________________________________________________________\n",
            "None\n"
          ],
          "name": "stdout"
        }
      ]
    },
    {
      "cell_type": "code",
      "metadata": {
        "id": "yrZBOc4oCTyr",
        "colab_type": "code",
        "colab": {}
      },
      "source": [
        "def get_input_ids(sentences):\n",
        "  input_ids = []\n",
        "  for sent in sentences:\n",
        "      encoded_sent = tokenizer.encode(\n",
        "                          sent,                      # Sentence to encode.\n",
        "                          add_special_tokens = True, # Add '[CLS]' and '[SEP]'\n",
        "                    )\n",
        "      input_ids.append(encoded_sent)\n",
        "\n",
        "  return input_ids"
      ],
      "execution_count": null,
      "outputs": []
    },
    {
      "cell_type": "code",
      "metadata": {
        "id": "DfJqOsmsHyR8",
        "colab_type": "code",
        "colab": {}
      },
      "source": [
        "from keras.preprocessing.sequence import pad_sequences\n",
        "\n",
        "def get_padded_Sentences(sentences): # to have all sentences of same length\n",
        "  binary_sentences = sentences\n",
        "  print(\"len of bin_sentences:\"+ str(len(binary_sentences)))\n",
        "  binary_input_ids = []\n",
        "  binary_input_ids = get_input_ids(binary_sentences) \n",
        "  print(len(binary_input_ids))\n",
        "  length_long_sentence = 45 # same as the max length used while initialising the model\n",
        "  print('Max sentence length: ', max([len(sen) for sen in binary_input_ids]))\n",
        "  padded_sentences = pad_sequences(binary_input_ids, length_long_sentence, padding='post')\n",
        "  print(padded_sentences)\n",
        "  return padded_sentences"
      ],
      "execution_count": null,
      "outputs": []
    },
    {
      "cell_type": "code",
      "metadata": {
        "id": "zyK0yHI0KZUZ",
        "colab_type": "code",
        "colab": {
          "base_uri": "https://localhost:8080/",
          "height": 187
        },
        "outputId": "8fb90635-34a3-4d50-b1a9-330561127e53"
      },
      "source": [
        "train_binary_sentences = get_padded_Sentences(binary_sentences)"
      ],
      "execution_count": null,
      "outputs": [
        {
          "output_type": "stream",
          "text": [
            "len of bin_sentences:6000\n",
            "6000\n",
            "Max sentence length:  32\n",
            "[[  101  2158 10587 ...     0     0     0]\n",
            " [  101 14601  3511 ...     0     0     0]\n",
            " [  101  2374  5051 ...     0     0     0]\n",
            " ...\n",
            " [  101 12436  2497 ...     0     0     0]\n",
            " [  101 22294  2368 ...     0     0     0]\n",
            " [  101 30677 29536 ...     0     0     0]]\n"
          ],
          "name": "stdout"
        }
      ]
    },
    {
      "cell_type": "code",
      "metadata": {
        "id": "iOMB89YkOp_Y",
        "colab_type": "code",
        "colab": {
          "base_uri": "https://localhost:8080/",
          "height": 258
        },
        "outputId": "0a5cae2e-0e62-4f03-ad6c-14e9a65741ed"
      },
      "source": [
        "custom_model.fit(train_binary_sentences, binary_labels, epochs=5, verbose=1)\n"
      ],
      "execution_count": null,
      "outputs": [
        {
          "output_type": "stream",
          "text": [
            "/usr/local/lib/python3.6/dist-packages/tensorflow/python/framework/indexed_slices.py:434: UserWarning: Converting sparse IndexedSlices to a dense Tensor of unknown shape. This may consume a large amount of memory.\n",
            "  \"Converting sparse IndexedSlices to a dense Tensor of unknown shape. \"\n"
          ],
          "name": "stderr"
        },
        {
          "output_type": "stream",
          "text": [
            "Epoch 1/5\n",
            "6000/6000 [==============================] - 7s 1ms/step - loss: 0.4788 - acc: 0.7598\n",
            "Epoch 2/5\n",
            "6000/6000 [==============================] - 5s 902us/step - loss: 0.1837 - acc: 0.9388\n",
            "Epoch 3/5\n",
            "6000/6000 [==============================] - 5s 910us/step - loss: 0.1065 - acc: 0.9682\n",
            "Epoch 4/5\n",
            "6000/6000 [==============================] - 5s 902us/step - loss: 0.0822 - acc: 0.9730\n",
            "Epoch 5/5\n",
            "6000/6000 [==============================] - 5s 897us/step - loss: 0.0727 - acc: 0.9748\n"
          ],
          "name": "stdout"
        },
        {
          "output_type": "execute_result",
          "data": {
            "text/plain": [
              "<keras.callbacks.callbacks.History at 0x7fca51e95eb8>"
            ]
          },
          "metadata": {
            "tags": []
          },
          "execution_count": 26
        }
      ]
    },
    {
      "cell_type": "code",
      "metadata": {
        "id": "POwEGT7INGRH",
        "colab_type": "code",
        "colab": {
          "base_uri": "https://localhost:8080/",
          "height": 34
        },
        "outputId": "02208f12-f1aa-4be5-88f5-0be8c6dcb4e0"
      },
      "source": [
        "loss, accuracy = custom_model.evaluate(train_binary_sentences, binary_labels, verbose=0)\n",
        "print('Training Accuracy: %f' % (accuracy*100))"
      ],
      "execution_count": null,
      "outputs": [
        {
          "output_type": "stream",
          "text": [
            "Training Accuracy: 98.150003\n"
          ],
          "name": "stdout"
        }
      ]
    },
    {
      "cell_type": "code",
      "metadata": {
        "id": "_nstCXqvRPJm",
        "colab_type": "code",
        "colab": {
          "base_uri": "https://localhost:8080/",
          "height": 187
        },
        "outputId": "6879b55f-72ed-402a-bd53-38a0e1d061df"
      },
      "source": [
        "test_binary_sentences = get_padded_Sentences(binary_test_data.text_clean)\n",
        "test_binary_labels = binary_test_data.ad_related.values"
      ],
      "execution_count": null,
      "outputs": [
        {
          "output_type": "stream",
          "text": [
            "len of bin_sentences:1500\n",
            "1500\n",
            "Max sentence length:  40\n",
            "[[  101 10002  9148 ...     0     0     0]\n",
            " [  101  9409  2050 ...     0     0     0]\n",
            " [  101 18506  3022 ...     0     0     0]\n",
            " ...\n",
            " [  101 20948 10513 ...     0     0     0]\n",
            " [  101  1046 28370 ...     0     0     0]\n",
            " [  101  2613 30646 ...     0     0     0]]\n"
          ],
          "name": "stdout"
        }
      ]
    },
    {
      "cell_type": "code",
      "metadata": {
        "id": "2I6KSf3jRaVZ",
        "colab_type": "code",
        "colab": {
          "base_uri": "https://localhost:8080/",
          "height": 34
        },
        "outputId": "fd89fe1c-78ac-4289-ffdb-f9469676f15c"
      },
      "source": [
        "predictions = custom_model.predict(test_binary_sentences)\n",
        "print(predictions.shape)"
      ],
      "execution_count": null,
      "outputs": [
        {
          "output_type": "stream",
          "text": [
            "(1500, 1)\n"
          ],
          "name": "stdout"
        }
      ]
    },
    {
      "cell_type": "code",
      "metadata": {
        "id": "7bHpGKXTTuLe",
        "colab_type": "code",
        "colab": {
          "base_uri": "https://localhost:8080/",
          "height": 102
        },
        "outputId": "e8f4d231-68b2-41d7-fa0a-1e48e69443e4"
      },
      "source": [
        "from sklearn.metrics import f1_score, precision_score, recall_score, accuracy_score, classification_report, confusion_matrix\n",
        "\n",
        "def get_binary_pred_labels(predictions):\n",
        "  pred_labels = []\n",
        "  for pred in predictions:\n",
        "    if pred[0]>=0.5 :\n",
        "      pred_labels.append(1)\n",
        "    else:\n",
        "      pred_labels.append(0)\n",
        "  return pred_labels\n",
        "\n",
        "def get_binary_metrics(test_binary_labels, pred_labels):\n",
        "  f1score = f1_score(test_binary_labels, pred_labels, average='binary') # micro: Calculate metrics globally by counting the total true positives, false negatives and false positives.\n",
        "  print('f1_score:'+ str(f1score))\n",
        "\n",
        "  prec = precision_score(test_binary_labels, pred_labels, average='binary')\n",
        "  print('Precision:'+ str(prec))\n",
        "\n",
        "  acc = accuracy_score(test_binary_labels, pred_labels)\n",
        "  print(\"Accuracy: \"+ str(acc))\n",
        "\n",
        "  recall = recall_score(test_binary_labels, pred_labels, average='binary')\n",
        "  print(\"recall: \"+ str(recall))\n",
        "\n",
        "  confusionmatrix = confusion_matrix(test_binary_labels, pred_labels)\n",
        "  tn, fp, fn, tp = confusionmatrix.ravel()\n",
        "  print(\"tp: \"+ str(tp)+\" tn: \"+ str(tn)+\" fp: \"+ str(fp)+\" fn: \"+ str(fn))\n",
        "\n",
        "  return f1score, prec, acc, recall, confusionmatrix\n",
        "# classification_report(true_labels_flat, pred_labels)\n",
        "\n",
        "pred_labels = get_binary_pred_labels(predictions)\n",
        "f1score, prec, acc, recall, _ = get_binary_metrics(test_binary_labels, pred_labels)"
      ],
      "execution_count": null,
      "outputs": [
        {
          "output_type": "stream",
          "text": [
            "f1_score:0.6673095467695275\n",
            "Precision:0.5448818897637795\n",
            "Accuracy: 0.77\n",
            "recall: 0.8606965174129353\n",
            "tp: 346 tn: 809 fp: 289 fn: 56\n"
          ],
          "name": "stdout"
        }
      ]
    },
    {
      "cell_type": "code",
      "metadata": {
        "id": "pGmSJwr-e_If",
        "colab_type": "code",
        "colab": {}
      },
      "source": [
        ""
      ],
      "execution_count": null,
      "outputs": []
    },
    {
      "cell_type": "code",
      "metadata": {
        "id": "eBy6ak5MN9xf",
        "colab_type": "code",
        "colab": {}
      },
      "source": [
        "# # test if token ids of added words are actually after 30521\n",
        "# # pass they are getting appended starting  30522\n",
        "# test = []\n",
        "# for word in missing_words:\n",
        "#     # `encode` will:\n",
        "#     #   (1) Tokenize the sentence.\n",
        "#     #   (2) Prepend the `[CLS]` token to the start.\n",
        "#     #   (3) Append the `[SEP]` token to the end.\n",
        "#     #   (4) Map tokens to their IDs.\n",
        "#     encoded_sent = tokenizer.encode(\n",
        "#                         word,                      # Sentence to encode.\n",
        "#                         add_special_tokens = True, # Add '[CLS]' and '[SEP]'\n",
        "#                         # This function also supports truncation and conversion\n",
        "#                         # to pytorch tensors, but we need to do padding, so we\n",
        "#                         # can't use these features :( .\n",
        "#                         # max_length = 128,          # Truncate all sentences.\n",
        "#                         # return_tensors = 'pt',     # Return pytorch tensors.\n",
        "#                    )\n",
        "#     print(\"actual word :\"+ word)\n",
        "#     print(tokenizer.tokenize(word))\n",
        "#     print('encoded_sent:'+ str(encoded_sent))\n",
        "#     # Add the encoded sentence to the list.\n",
        "#     test.append(encoded_sent)"
      ],
      "execution_count": null,
      "outputs": []
    },
    {
      "cell_type": "code",
      "metadata": {
        "id": "2i96r7MQ57TI",
        "colab_type": "code",
        "colab": {}
      },
      "source": [
        "# import numpy as np\n",
        "\n",
        "# def get_word_indeces(tokenizer, text, word):\n",
        "#     '''\n",
        "#     Determines the index or indeces of the tokens corresponding to `word`\n",
        "#     within `text`. `word` can consist of multiple words, e.g., \"cell biology\".\n",
        "    \n",
        "#     Determining the indeces is tricky because words can be broken into multiple\n",
        "#     tokens. I've solved this with a rather roundabout approach--I replace `word`\n",
        "#     with the correct number of `[MASK]` tokens, and then find these in the \n",
        "#     tokenized result. \n",
        "#     '''\n",
        "#     # Tokenize the 'word'--it may be broken into multiple tokens or subwords.\n",
        "#     word_tokens = tokenizer.tokenize(word)\n",
        "\n",
        "#     # Create a sequence of `[MASK]` tokens to put in place of `word`.\n",
        "#     masks_str = ' '.join(['[MASK]']*len(word_tokens))\n",
        "\n",
        "#     # Replace the word with mask tokens.\n",
        "#     text_masked = text.replace(word, masks_str)\n",
        "\n",
        "#     # `encode` performs multiple functions:\n",
        "#     #   1. Tokenizes the text\n",
        "#     #   2. Maps the tokens to their IDs\n",
        "#     #   3. Adds the special [CLS] and [SEP] tokens.\n",
        "#     input_ids = tokenizer.encode(text_masked)\n",
        "\n",
        "#     # Use numpy's `where` function to find all indeces of the [MASK] token.\n",
        "#     mask_token_indeces = np.where(np.array(input_ids) == tokenizer.mask_token_id)[0]\n",
        "\n",
        "#     return mask_token_indeces"
      ],
      "execution_count": null,
      "outputs": []
    },
    {
      "cell_type": "code",
      "metadata": {
        "id": "mqBB0D0c5JJ4",
        "colab_type": "code",
        "colab": {}
      },
      "source": [
        "# Check Sentence embeddings\n",
        "\n",
        "# def get_embedding(b_model, b_tokenizer, text, word=''):\n",
        "#     '''\n",
        "#     Uses the provided model and tokenizer to produce an embedding for the\n",
        "#     provided `text`, and a \"contextualized\" embedding for `word`, if provided.\n",
        "#     '''\n",
        "#     # If a word is provided, figure out which tokens correspond to it.\n",
        "#     if not word == '':\n",
        "#         word_indeces = get_word_indeces(b_tokenizer, text, word)\n",
        "\n",
        "#     # Encode the text, adding the (required!) special tokens, and converting toPyTorch tensors.\n",
        "#     encoded_dict = b_tokenizer.encode_plus(\n",
        "#                         text,                      # Sentence to encode.\n",
        "#                         add_special_tokens = True, # Add '[CLS]' and '[SEP]'\n",
        "#                         return_tensors = 'pt',     # Return pytorch tensors.\n",
        "#                 )\n",
        "\n",
        "#     input_ids = encoded_dict['input_ids']\n",
        "#     b_model.eval()\n",
        "#     bert_outputs = b_model(input_ids)     # Run the text through the model and get the hidden states.\n",
        "    \n",
        "#     with torch.no_grad():     # Run the text through BERT, and collect all of the hidden states produced from all 12 layers. \n",
        "\n",
        "#         outputs = b_model(input_ids)\n",
        "\n",
        "#         # Evaluating the model will return a different number of objects based on how it's  configured in the `from_pretrained` call earlier. In this case, becase we set `output_hidden_states = True`, the third item will be the hidden states from all layers. See the documentation for more details:https://huggingface.co/transformers/model_doc/bert.html#bertmodel\n",
        "#         hidden_states = outputs[2]     # `hidden_states` has shape [13 x 1 x <sentence length> x 768]\n",
        "#     # Select the embeddings from the second to last layer.\n",
        "#     # `token_vecs` is a tensor with shape [<sent length> x 768]\n",
        "#     token_vecs = hidden_states[-2][0]\n",
        "#     sentence_embedding = torch.mean(token_vecs, dim=0)    # Calculate the average of all token vectors.\n",
        "#     sentence_embedding = sentence_embedding.detach().numpy()     # Convert to numpy array.\n",
        "\n",
        "#     if not word == '':     # If `word` was provided, compute an embedding for those tokens.\n",
        "#         word_embedding = torch.mean(token_vecs[word_indeces], dim=0)         # Take the average of the embeddings for the tokens in `word`\n",
        "#         word_embedding = word_embedding.detach().numpy()         # Convert to numpy array.\n",
        "    \n",
        "#         return (sentence_embedding, word_embedding)\n",
        "#     else:\n",
        "#         return sentence_embedding"
      ],
      "execution_count": null,
      "outputs": []
    },
    {
      "cell_type": "code",
      "metadata": {
        "id": "DmSv5fhrA-IS",
        "colab_type": "code",
        "colab": {}
      },
      "source": [
        "# bert_model = BertModel.from_pretrained('bert-base-uncased',\n",
        "#                                   output_hidden_states = True) \n",
        "# bert_tokenizer = BertTokenizer.from_pretrained('bert-base-uncased')\n",
        "# ad_keywords['ad_embeddings'] = ad_keywords['keywords_clean'].apply(lambda ad: get_embedding(bert_model, bert_tokenizer, ad))\n"
      ],
      "execution_count": null,
      "outputs": []
    },
    {
      "cell_type": "code",
      "metadata": {
        "id": "gOC_gJrKElqp",
        "colab_type": "code",
        "colab": {}
      },
      "source": [
        "# ad_related_twts['tweet_embeddings'] = ad_related_twts['text_clean'].apply(lambda x: get_embedding(bert_model, bert_tokenizer, x))\n"
      ],
      "execution_count": null,
      "outputs": []
    },
    {
      "cell_type": "code",
      "metadata": {
        "id": "KzNwBF-a7Jf-",
        "colab_type": "code",
        "colab": {}
      },
      "source": [
        "# from scipy.spatial.distance import cosine\n",
        "# sent_sims =[]\n",
        "# max_sim_ad =[]\n",
        "# i =1\n",
        "# for sent_embedding in ad_related_twts['tweet_embeddings']:\n",
        "#   ad_sims = []\n",
        "#   for ad_embedding in ad_keywords['ad_embeddings']:\n",
        "#     sim = 1- cosine(sent_embedding, ad_embedding)\n",
        "#     ad_sims.append(sim)\n",
        "#   sent_sims.append(ad_sims)\n",
        "#   max_sim_ad.append(np.argmax(ad_sims))\n",
        "#   i= i+1\n",
        "# ad_related_twts['max_sim_ad'] = max_sim_ad\n",
        "# ad_related_twts['max_sim_ad_name'] = ad_related_twts['max_sim_ad'].apply(lambda x: list(ad_id_dict.keys())[x])"
      ],
      "execution_count": null,
      "outputs": []
    },
    {
      "cell_type": "code",
      "metadata": {
        "id": "gMRS5nKwJHVw",
        "colab_type": "code",
        "colab": {}
      },
      "source": [
        "# get max similar ad based on embeddings from model\n",
        "\n",
        "# count =0\n",
        "\n",
        "# for i, ad in ad_related_twts.iterrows():\n",
        "#   # print(ad['max_sim_ad'])\n",
        "#   # print(ad['ad_manual_adjusted_id'])\n",
        "#   if ad['max_sim_ad'] == ad['ad_manual_adjusted_id']:\n",
        "#     count = count+1\n",
        "# precision = count/ad_related_twts.shape[0]\n",
        "# print(count)\n",
        "# print(ad_related_twts.shape)\n",
        "# print(precision)"
      ],
      "execution_count": null,
      "outputs": []
    },
    {
      "cell_type": "code",
      "metadata": {
        "id": "5jxskjmNjv1x",
        "colab_type": "code",
        "colab": {
          "base_uri": "https://localhost:8080/"
        },
        "outputId": "12f6f209-fc54-4a5d-bead-2515362910e4"
      },
      "source": [
        "# input_ids = get_input_ids(sentences)\n",
        "input_ids = get_input_ids(binary_sentences)\n",
        "print('Max sentence length: ', max([len(sen) for sen in input_ids]))"
      ],
      "execution_count": null,
      "outputs": [
        {
          "output_type": "stream",
          "text": [
            "Max sentence length:  32\n"
          ],
          "name": "stdout"
        }
      ]
    },
    {
      "cell_type": "code",
      "metadata": {
        "id": "vOjgb_tSj8Bs",
        "colab_type": "code",
        "colab": {
          "base_uri": "https://localhost:8080/"
        },
        "outputId": "3ff5732b-d06e-479f-cc77-c70da0b4e16a"
      },
      "source": [
        "#let’s choose MAX_LEN = 64 and apply the padding\n",
        "# We'll borrow the `pad_sequences` utility function to do this.\n",
        "from keras.preprocessing.sequence import pad_sequences\n",
        "# Set the maximum sequence length.\n",
        "# I've chosen 64 somewhat arbitrarily. It's slightly larger than the\n",
        "# maximum training sentence length of 34...\n",
        "MAX_LEN = 64\n",
        "print('\\nPadding/truncating all sentences to %d values...' % MAX_LEN)\n",
        "print('\\nPadding token: \"{:}\", ID: {:}'.format(tokenizer.pad_token, tokenizer.pad_token_id))\n",
        "# Pad our input tokens with value 0.\n",
        "# \"post\" indicates that we want to pad and truncate at the end of the sequence,\n",
        "# as opposed to the beginning.\n",
        "input_ids = pad_sequences(input_ids, maxlen=MAX_LEN, dtype=\"long\", \n",
        "                          value=0, truncating=\"post\", padding=\"post\")\n",
        "print('\\nDone.')"
      ],
      "execution_count": null,
      "outputs": [
        {
          "output_type": "stream",
          "text": [
            "\n",
            "Padding/truncating all sentences to 64 values...\n",
            "\n",
            "Padding token: \"[PAD]\", ID: 0\n",
            "\n",
            "Done.\n"
          ],
          "name": "stdout"
        }
      ]
    },
    {
      "cell_type": "markdown",
      "metadata": {
        "id": "YSCcU3htTL-T",
        "colab_type": "text"
      },
      "source": [
        "The attention mask simply makes it explicit which tokens are actual words versus which are padding.\n",
        "The BERT vocabulary does not use the ID 0, so if a token ID is 0, then it’s padding, and otherwise it’s a real token."
      ]
    },
    {
      "cell_type": "code",
      "metadata": {
        "id": "QikSI06kkIm2",
        "colab_type": "code",
        "colab": {}
      },
      "source": [
        "# Create attention masks\n",
        "attention_masks = []\n",
        "# For each sentence...\n",
        "for sent in input_ids:\n",
        "    \n",
        "    # Create the attention mask.\n",
        "    #   - If a token ID is 0, then it's padding, set the mask to 0.\n",
        "    #   - If a token ID is > 0, then it's a real token, set the mask to 1.\n",
        "    att_mask = [int(token_id > 0) for token_id in sent]\n",
        "    \n",
        "    # Store the attention mask for this sentence.\n",
        "    attention_masks.append(att_mask)"
      ],
      "execution_count": null,
      "outputs": []
    },
    {
      "cell_type": "code",
      "metadata": {
        "id": "Piy1b52SkUsa",
        "colab_type": "code",
        "colab": {}
      },
      "source": [
        "#training and validation split\n",
        "\n",
        "from sklearn.model_selection import train_test_split\n",
        "# Use 90% for training and 10% for validation.\n",
        "train_inputs, validation_inputs, train_labels, validation_labels = train_test_split(input_ids, binary_labels, \n",
        "                                                            random_state=2018, test_size=0.2)\n",
        "# Do the same for the masks.\n",
        "train_masks, validation_masks, _, _ = train_test_split(attention_masks, binary_labels,\n",
        "                                             random_state=2018, test_size=0.2)"
      ],
      "execution_count": null,
      "outputs": []
    },
    {
      "cell_type": "code",
      "metadata": {
        "id": "TWtZ_hlmkcpJ",
        "colab_type": "code",
        "colab": {}
      },
      "source": [
        "#Converting to PyTorch Data Types\n",
        "# Convert all inputs and labels into torch tensors, the required datatype for our model.\n",
        "train_inputs = torch.tensor(train_inputs)\n",
        "validation_inputs = torch.tensor(validation_inputs)\n",
        "train_labels = torch.tensor(train_labels)\n",
        "validation_labels = torch.tensor(validation_labels)\n",
        "train_masks = torch.tensor(train_masks)\n",
        "validation_masks = torch.tensor(validation_masks)"
      ],
      "execution_count": null,
      "outputs": []
    },
    {
      "cell_type": "code",
      "metadata": {
        "id": "lRztCvATkrUJ",
        "colab_type": "code",
        "colab": {}
      },
      "source": [
        "from torch.utils.data import TensorDataset, DataLoader, RandomSampler, SequentialSampler\n",
        "# The DataLoader needs to know our batch size for training, so we specify it here.\n",
        "# For fine-tuning BERT on a specific task, the authors recommend a batch size of 16 or 32.\n",
        "batch_size = 32\n",
        "# Create the DataLoader for our training set.\n",
        "train_data = TensorDataset(train_inputs, train_masks, train_labels)\n",
        "train_sampler = RandomSampler(train_data)\n",
        "train_dataloader = DataLoader(train_data, sampler=train_sampler, batch_size=batch_size)\n",
        "# Create the DataLoader for our validation set.\n",
        "validation_data = TensorDataset(validation_inputs, validation_masks, validation_labels)\n",
        "validation_sampler = SequentialSampler(validation_data)\n",
        "validation_dataloader = DataLoader(validation_data, sampler=validation_sampler, batch_size=batch_size)"
      ],
      "execution_count": null,
      "outputs": []
    },
    {
      "cell_type": "markdown",
      "metadata": {
        "id": "qD8UOxdDlXtm",
        "colab_type": "text"
      },
      "source": [
        "let’s load BERT! There are a few different pre-trained BERT models available. “bert-base-uncased” means the version that has only lowercase letters (“uncased”) and is the smaller version of the two (“base” vs “large”)\n",
        "\n"
      ]
    },
    {
      "cell_type": "code",
      "metadata": {
        "id": "5zGV1y8LlE_d",
        "colab_type": "code",
        "colab": {}
      },
      "source": [
        "# Get all of the model's parameters as a list of tuples.\n",
        "params = list(model.named_parameters())\n",
        "print('The BERT model has {:} different named parameters.\\n'.format(len(params)))\n",
        "print('==== Embedding Layer ====\\n')\n",
        "for p in params[0:5]:\n",
        "    print(\"{:<55} {:>12}\".format(p[0], str(tuple(p[1].size()))))\n",
        "print('\\n==== First Transformer ====\\n')\n",
        "for p in params[5:21]:\n",
        "    print(\"{:<55} {:>12}\".format(p[0], str(tuple(p[1].size()))))\n",
        "print('\\n==== Output Layer ====\\n')\n",
        "for p in params[-4:]:\n",
        "    print(\"{:<55} {:>12}\".format(p[0], str(tuple(p[1].size()))))\n"
      ],
      "execution_count": null,
      "outputs": []
    },
    {
      "cell_type": "markdown",
      "metadata": {
        "id": "tlzNhXail07W",
        "colab_type": "text"
      },
      "source": [
        "Optimizer & Learning Rate Scheduler:\n",
        "Now that we have our model loaded we need to grab the training hyperparameters from within the stored model.\n",
        "For the purposes of fine-tuning, the authors recommend choosing from the following values:\n",
        "Batch size: 16, 32 (We chose 32 when creating our DataLoaders).\n",
        "Learning rate (Adam): 5e-5, 3e-5, 2e-5 (We’ll use 2e-5).\n",
        "Number of epochs: 2, 3, 4 (We’ll use 4).\n",
        "The epsilon parameter eps = 1e-8 is “a very small number to prevent any division by zero in the implementation”\n",
        "\n",
        "\n"
      ]
    },
    {
      "cell_type": "code",
      "metadata": {
        "id": "PXOyFLmCliw7",
        "colab_type": "code",
        "colab": {}
      },
      "source": [
        "# Note: AdamW is a class from the huggingface library (as opposed to pytorch) \n",
        "# I believe the 'W' stands for 'Weight Decay fix\"\n",
        "optimizer = AdamW(model.parameters(),\n",
        "                  lr = 2e-5, # args.learning_rate - default is 5e-5, our notebook had 2e-5\n",
        "                  eps = 1e-8 # args.adam_epsilon  - default is 1e-8.\n",
        "                )\n",
        "from transformers import get_linear_schedule_with_warmup\n",
        "# Number of training epochs (authors recommend between 2 and 4)\n",
        "epochs = 4\n",
        "# Total number of training steps is number of batches * number of epochs.\n",
        "total_steps = len(train_dataloader) * epochs\n",
        "# Create the learning rate scheduler.\n",
        "scheduler = get_linear_schedule_with_warmup(optimizer, \n",
        "                                            num_warmup_steps = 0, # Default value in run_glue.py\n",
        "                                            num_training_steps = total_steps)"
      ],
      "execution_count": null,
      "outputs": []
    },
    {
      "cell_type": "markdown",
      "metadata": {
        "id": "Xe1VgG4Tq85o",
        "colab_type": "text"
      },
      "source": [
        "Define a helper function to find accuracy"
      ]
    },
    {
      "cell_type": "code",
      "metadata": {
        "id": "i0RZmdmxluIa",
        "colab_type": "code",
        "colab": {}
      },
      "source": [
        "import numpy as np\n",
        "# Function to calculate the accuracy of our predictions vs labels\n",
        "def flat_accuracy(preds, labels):\n",
        "    pred_flat = np.argmax(preds, axis=1).flatten()\n",
        "    labels_flat = labels.flatten()\n",
        "    return np.sum(pred_flat == labels_flat) / len(labels_flat)"
      ],
      "execution_count": null,
      "outputs": []
    },
    {
      "cell_type": "markdown",
      "metadata": {
        "id": "OETTpqlhrCr7",
        "colab_type": "text"
      },
      "source": [
        "Helper function for formatting elapsed times.\n"
      ]
    },
    {
      "cell_type": "code",
      "metadata": {
        "id": "hOLafL31rGJV",
        "colab_type": "code",
        "colab": {}
      },
      "source": [
        "import time\n",
        "import datetime\n",
        "def format_time(elapsed):\n",
        "    '''\n",
        "    Takes a time in seconds and returns a string hh:mm:ss\n",
        "    '''\n",
        "    # Round to the nearest second.\n",
        "    elapsed_rounded = int(round((elapsed)))\n",
        "    # Format as hh:mm:ss\n",
        "    return str(datetime.timedelta(seconds=elapsed_rounded))"
      ],
      "execution_count": null,
      "outputs": []
    },
    {
      "cell_type": "markdown",
      "metadata": {
        "id": "bGMkZxZVrdOt",
        "colab_type": "text"
      },
      "source": [
        "Kick off training"
      ]
    },
    {
      "cell_type": "code",
      "metadata": {
        "id": "LrMEahWGrJxW",
        "colab_type": "code",
        "colab": {}
      },
      "source": [
        "import random\n",
        "import numpy as np\n",
        "import tensorflow as tf\n",
        "# This training code is based on the `run_glue.py` script here:\n",
        "# https://github.com/huggingface/transformers/blob/5bfcd0485ece086ebcbed2d008813037968a9e58/examples/run_glue.py#L128\n",
        "# Set the seed value all over the place to make this reproducible.\n",
        "seed_val = 42\n",
        "random.seed(seed_val)\n",
        "np.random.seed(seed_val)\n",
        "torch.manual_seed(seed_val)\n",
        "torch.cuda.manual_seed_all(seed_val)\n",
        "# Store the average loss after each epoch so we can plot them.\n",
        "loss_values = []\n",
        "# For each epoch...\n",
        "for epoch_i in range(0, epochs):\n",
        "    \n",
        "    # ========================================\n",
        "    #               Training\n",
        "    # ========================================\n",
        "    \n",
        "    # Perform one full pass over the training set.\n",
        "    print(\"\")\n",
        "    print('======== Epoch {:} / {:} ========'.format(epoch_i + 1, epochs))\n",
        "    print('Training...')\n",
        "    # Measure how long the training epoch takes.\n",
        "    t0 = time.time()\n",
        "    # Reset the total loss for this epoch.\n",
        "    total_loss = 0\n",
        "    # Put the model into training mode. Don't be mislead--the call to \n",
        "    # `train` just changes the *mode*, it doesn't *perform* the training.\n",
        "    # `dropout` and `batchnorm` layers behave differently during training\n",
        "    # vs. test (source: https://stackoverflow.com/questions/51433378/what-does-model-train-do-in-pytorch)\n",
        "    model.train()\n",
        "    # For each batch of training data...\n",
        "    for step, batch in enumerate(train_dataloader):\n",
        "        # Progress update every 40 batches.\n",
        "        if step % 40 == 0 and not step == 0:\n",
        "            # Calculate elapsed time in minutes.\n",
        "            elapsed = format_time(time.time() - t0)\n",
        "            \n",
        "            # Report progress.\n",
        "            print('  Batch {:>5,}  of  {:>5,}.    Elapsed: {:}.'.format(step, len(train_dataloader), elapsed))\n",
        "        # Unpack this training batch from our dataloader. \n",
        "        #\n",
        "        # As we unpack the batch, we'll also copy each tensor to the GPU using the \n",
        "        # `to` method.\n",
        "        #\n",
        "        # `batch` contains three pytorch tensors:\n",
        "        #   [0]: input ids \n",
        "        #   [1]: attention masks\n",
        "        #   [2]: labels \n",
        "        b_input_ids = batch[0].to(device)\n",
        "        b_input_mask = batch[1].to(device)\n",
        "        b_labels = batch[2].to(device)\n",
        "\n",
        "        # Always clear any previously calculated gradients before performing a\n",
        "        # backward pass. PyTorch doesn't do this automatically because \n",
        "        # accumulating the gradients is \"convenient while training RNNs\". \n",
        "        # (source: https://stackoverflow.com/questions/48001598/why-do-we-need-to-call-zero-grad-in-pytorch)\n",
        "        model.zero_grad()        \n",
        "        # Perform a forward pass (evaluate the model on this training batch).\n",
        "        # This will return the loss (rather than the model output) because we\n",
        "        # have provided the `labels`.\n",
        "        # The documentation for this `model` function is here: \n",
        "        # https://huggingface.co/transformers/v2.2.0/model_doc/bert.html#transformers.BertForSequenceClassification\n",
        "        outputs = model(b_input_ids, \n",
        "                    token_type_ids=None, \n",
        "                    attention_mask=b_input_mask\n",
        "                     ,labels=b_labels)\n",
        "                  # )        \n",
        "        # The call to `model` always returns a tuple, so we need to pull the loss value out of the tuple.\n",
        "        loss = outputs[0]\n",
        "\n",
        "        # Accumulate the training loss over all of the batches so that we can\n",
        "        # calculate the average loss at the end. `loss` is a Tensor containing a\n",
        "        # single value; the `.item()` function just returns the Python value \n",
        "        # from the tensor.\n",
        "        total_loss += loss.item()\n",
        "        # Perform a backward pass to calculate the gradients.\n",
        "        loss.backward()\n",
        "        # Clip the norm of the gradients to 1.0. This is to help prevent the \"exploding gradients\" problem.\n",
        "        torch.nn.utils.clip_grad_norm_(model.parameters(), 1.0)\n",
        "        # Update parameters and take a step using the computed gradient.\n",
        "        # The optimizer dictates the \"update rule\"--how the parameters are\n",
        "        # modified based on their gradients, the learning rate, etc.\n",
        "        optimizer.step()\n",
        "        # Update the learning rate.\n",
        "        scheduler.step()\n",
        "    # Calculate the average loss over the training data.\n",
        "    avg_train_loss = total_loss / len(train_dataloader)            \n",
        "    \n",
        "    # Store the loss value for plotting the learning curve.\n",
        "    loss_values.append(avg_train_loss)\n",
        "    print(\"\")\n",
        "    print(\"  Average training loss: {0:.2f}\".format(avg_train_loss))\n",
        "    print(\"  Training epoch took: {:}\".format(format_time(time.time() - t0)))\n",
        "        \n",
        "    # ========================================\n",
        "    #               Validation\n",
        "    # ========================================\n",
        "    # After the completion of each training epoch, measure our performance on\n",
        "    # our validation set.\n",
        "    print(\"\")\n",
        "    print(\"Running Validation...\")\n",
        "    t0 = time.time()\n",
        "    # Put the model in evaluation mode--the dropout layers behave differently\n",
        "    # during evaluation.\n",
        "    model.eval()\n",
        "    # Tracking variables \n",
        "    eval_loss, eval_accuracy = 0, 0\n",
        "    nb_eval_steps, nb_eval_examples = 0, 0\n",
        "    # Evaluate data for one epoch\n",
        "    for batch in validation_dataloader:\n",
        "        \n",
        "        # Add batch to GPU\n",
        "        batch = tuple(t.to(device) for t in batch)\n",
        "        \n",
        "        # Unpack the inputs from our dataloader\n",
        "        b_input_ids, b_input_mask, b_labels = batch\n",
        "        \n",
        "        # Telling the model not to compute or store gradients, saving memory and\n",
        "        # speeding up validation\n",
        "        with torch.no_grad():        \n",
        "            # Forward pass, calculate logit predictions.\n",
        "            # This will return the logits rather than the loss because we have\n",
        "            # not provided labels.\n",
        "            # token_type_ids is the same as the \"segment ids\", which \n",
        "            # differentiates sentence 1 and 2 in 2-sentence tasks.\n",
        "            # The documentation for this `model` function is here: \n",
        "            # https://huggingface.co/transformers/v2.2.0/model_doc/bert.html#transformers.BertForSequenceClassification\n",
        "            outputs = model(b_input_ids, \n",
        "                            token_type_ids=None, \n",
        "                            attention_mask=b_input_mask)\n",
        "        \n",
        "        # Get the \"logits\" output by the model. The \"logits\" are the output\n",
        "        # values prior to applying an activation function like the softmax.\n",
        "        logits = outputs[0]\n",
        "        # Move logits and labels to CPU\n",
        "        logits = logits.detach().cpu().numpy()\n",
        "        label_ids = b_labels.to('cpu').numpy()\n",
        "       \n",
        "        # Calculate the accuracy for this batch of test sentences.\n",
        "        tmp_eval_accuracy = flat_accuracy(logits, label_ids)\n",
        "        \n",
        "        # Accumulate the total accuracy.\n",
        "        eval_accuracy += tmp_eval_accuracy\n",
        "        # Track the number of batches\n",
        "        nb_eval_steps += 1\n",
        "    # Report the final accuracy for this validation run.\n",
        "    print(\"  Accuracy: {0:.2f}\".format(eval_accuracy/nb_eval_steps))\n",
        "    print(\"  Validation took: {:}\".format(format_time(time.time() - t0)))\n",
        "print(\"\")\n",
        "print(\"Training complete!\")"
      ],
      "execution_count": null,
      "outputs": []
    },
    {
      "cell_type": "code",
      "metadata": {
        "id": "9ICZ9fVFrUw7",
        "colab_type": "code",
        "colab": {}
      },
      "source": [
        "# import plotly.express as px\n",
        "# f = pd.DataFrame(loss_values)\n",
        "# f.columns=['Loss']\n",
        "# fig = px.line(f, x=f.index, y=f.Loss)\n",
        "# fig.update_layout(title='Training loss of the Model',\n",
        "#                    xaxis_title='Epoch',\n",
        "#                    yaxis_title='Loss')\n",
        "# fig.show()"
      ],
      "execution_count": null,
      "outputs": []
    },
    {
      "cell_type": "code",
      "metadata": {
        "id": "UhBwyp9su8oE",
        "colab_type": "code",
        "colab": {}
      },
      "source": [
        "import pandas as pd\n",
        "\n",
        "# Get the lists of sentences and their labels.\n",
        "# binart test data\n",
        "sentences = binary_test_data.text_clean.values\n",
        "labels = binary_test_data.ad_related.values\n",
        "\n",
        "#  multi label data \n",
        "# sentences = test_data.text_clean.values\n",
        "# labels = test_data.ad_manual_adjusted_id.values\n",
        "\n",
        "# sentences = ad_related_twts.iloc[train_size:].text_clean.values\n",
        "# labels = ad_related_twts.iloc[train_size:].ad_manual_adjusted_id.values\n",
        "\n",
        "# Tokenize all of the sentences and map the tokens to thier word IDs.\n",
        "input_ids = []\n",
        "# For every sentence...\n",
        "for sent in sentences:\n",
        "    # `encode` will:\n",
        "    #   (1) Tokenize the sentence.\n",
        "    #   (2) Prepend the `[CLS]` token to the start.\n",
        "    #   (3) Append the `[SEP]` token to the end.\n",
        "    #   (4) Map tokens to their IDs.\n",
        "    encoded_sent = tokenizer.encode(\n",
        "                        sent,                      # Sentence to encode.\n",
        "                        add_special_tokens = True, # Add '[CLS]' and '[SEP]'\n",
        "                   )\n",
        "    \n",
        "    input_ids.append(encoded_sent)\n",
        "# Pad our input tokens\n",
        "input_ids = pad_sequences(input_ids, maxlen=MAX_LEN, \n",
        "                          dtype=\"long\", truncating=\"post\", padding=\"post\")\n",
        "# Create attention masks\n",
        "attention_masks = []\n",
        "# Create a mask of 1s for each token followed by 0s for padding\n",
        "for seq in input_ids:\n",
        "  seq_mask = [float(i>0) for i in seq]\n",
        "  attention_masks.append(seq_mask) \n",
        "# Convert to tensors.\n",
        "prediction_inputs = torch.tensor(input_ids)\n",
        "prediction_masks = torch.tensor(attention_masks)\n",
        "prediction_labels = torch.tensor(labels)\n",
        "# Set the batch size.  \n",
        "batch_size = 32  \n",
        "# Create the DataLoader.\n",
        "prediction_data = TensorDataset(prediction_inputs, prediction_masks, prediction_labels)\n",
        "prediction_sampler = SequentialSampler(prediction_data)\n",
        "prediction_dataloader = DataLoader(prediction_data, sampler=prediction_sampler, batch_size=batch_size)"
      ],
      "execution_count": null,
      "outputs": []
    },
    {
      "cell_type": "code",
      "metadata": {
        "id": "rEFkmEIkvOBg",
        "colab_type": "code",
        "colab": {
          "base_uri": "https://localhost:8080/"
        },
        "outputId": "18cd4210-7bf5-4df0-bdc5-6e33542420b4"
      },
      "source": [
        "# Prediction on test set\n",
        "print('Predicting labels for {:,} test sentences.'.format(len(prediction_inputs)))\n",
        "# Put model in evaluation mode\n",
        "model.eval()\n",
        "# Tracking variables \n",
        "predictions , true_labels = [], []\n",
        "# Predict \n",
        "for batch in prediction_dataloader:\n",
        "  # Add batch to GPU\n",
        "  batch = tuple(t.to(device) for t in batch)\n",
        "  \n",
        "  # Unpack the inputs from our dataloader\n",
        "  b_input_ids, b_input_mask, b_labels = batch\n",
        "  \n",
        "  # Telling the model not to compute or store gradients, saving memory and \n",
        "  # speeding up prediction\n",
        "  with torch.no_grad():\n",
        "      # Forward pass, calculate logit predictions\n",
        "      outputs = model(b_input_ids, token_type_ids=None, \n",
        "                      attention_mask=b_input_mask)\n",
        "  logits = outputs[0]\n",
        "  # Move logits and labels to CPU\n",
        "  logits = logits.detach().cpu().numpy()\n",
        "  label_ids = b_labels.to('cpu').numpy()\n",
        "  # Store predictions and true labels\n",
        "  predictions.append(logits)\n",
        "  # print(predictions)\n",
        "  true_labels.append(label_ids)\n",
        "print('DONE.')"
      ],
      "execution_count": null,
      "outputs": [
        {
          "output_type": "stream",
          "text": [
            "Predicting labels for 1,500 test sentences.\n",
            "DONE.\n"
          ],
          "name": "stdout"
        }
      ]
    },
    {
      "cell_type": "code",
      "metadata": {
        "id": "60BKaYQBva09",
        "colab_type": "code",
        "colab": {
          "base_uri": "https://localhost:8080/",
          "height": 68
        },
        "outputId": "0028d0c6-ffa6-4188-bf5e-10bb2e738b07"
      },
      "source": [
        "\n",
        "tptn_count =0\n",
        "\n",
        "# For each input batch...\n",
        "for i in range(len(true_labels)):\n",
        "  \n",
        "  # The predictions for this batch are a 2-column ndarray (one column for \"0\" \n",
        "  # and one column for \"1\"). Pick the label with the highest value and turn this\n",
        "  # in to a list of 0s and 1s.\n",
        "  pred_labels_i = np.argmax(predictions[i], axis=1).flatten()\n",
        "  tptn_count = tptn_count+ np.sum(true_labels[i] == pred_labels_i )\n",
        "\n",
        "print(\"Tp+Tn count: \"+ str(tptn_count))\n",
        "print(\"Test data size:\"+ str(len(labels)))\n",
        "accuracy = tptn_count/len(labels)\n",
        "print(\"Accuracy of predictions: \"+str(accuracy))"
      ],
      "execution_count": null,
      "outputs": [
        {
          "output_type": "stream",
          "text": [
            "Tp+Tn count: 1117\n",
            "Test data size:1500\n",
            "Accuracy of predictions: 0.7446666666666667\n"
          ],
          "name": "stdout"
        }
      ]
    },
    {
      "cell_type": "code",
      "metadata": {
        "id": "ENj36nDIjmHx",
        "colab_type": "code",
        "colab": {}
      },
      "source": [
        ""
      ],
      "execution_count": null,
      "outputs": []
    },
    {
      "cell_type": "code",
      "metadata": {
        "id": "68UvOrlLMY84",
        "colab_type": "code",
        "colab": {
          "base_uri": "https://localhost:8080/",
          "height": 85
        },
        "outputId": "c8ad4e80-5c57-4e6f-f0a7-8c952a432ea6"
      },
      "source": [
        "# save the model\n",
        "import os\n",
        "# Saving best-practices: if you use defaults names for the model, you can reload it using from_pretrained()\n",
        "output_dir = './model_save/'\n",
        "\n",
        "# Create output directory if needed\n",
        "if not os.path.exists(output_dir):\n",
        "    os.makedirs(output_dir)\n",
        "\n",
        "print(\"Saving model to %s\" % output_dir)\n",
        "\n",
        "# Save a trained model, configuration and tokenizer using `save_pretrained()`.\n",
        "# They can then be reloaded using `from_pretrained()`\n",
        "model_to_save = model.module if hasattr(model, 'module') else model  # Take care of distributed/parallel training\n",
        "model_to_save.save_pretrained(output_dir)\n",
        "tokenizer.save_pretrained(output_dir)\n"
      ],
      "execution_count": null,
      "outputs": [
        {
          "output_type": "stream",
          "text": [
            "Saving model to ./model_save/\n"
          ],
          "name": "stdout"
        },
        {
          "output_type": "execute_result",
          "data": {
            "text/plain": [
              "('./model_save/vocab.txt',\n",
              " './model_save/special_tokens_map.json',\n",
              " './model_save/added_tokens.json')"
            ]
          },
          "metadata": {
            "tags": []
          },
          "execution_count": 53
        }
      ]
    },
    {
      "cell_type": "code",
      "metadata": {
        "id": "nzH17UaMvhya",
        "colab_type": "code",
        "colab": {}
      },
      "source": [
        "# BERT_MODEL_PATH = \"./model_save\"\n",
        "\n",
        "# fine_tuned_tokenizer = BertTokenizer.from_pretrained(BERT_MODEL_PATH)\n",
        "# fine_tuned_model = BertForSequenceClassification.from_pretrained(BERT_MODEL_PATH)\n"
      ],
      "execution_count": null,
      "outputs": []
    },
    {
      "cell_type": "code",
      "metadata": {
        "id": "oEWLVK1lvl7d",
        "colab_type": "code",
        "colab": {}
      },
      "source": [
        ""
      ],
      "execution_count": null,
      "outputs": []
    },
    {
      "cell_type": "code",
      "metadata": {
        "id": "kUQBIli6vqPH",
        "colab_type": "code",
        "colab": {}
      },
      "source": [
        ""
      ],
      "execution_count": null,
      "outputs": []
    },
    {
      "cell_type": "code",
      "metadata": {
        "id": "IGrGVr0YRIs_",
        "colab_type": "code",
        "colab": {}
      },
      "source": [
        ""
      ],
      "execution_count": null,
      "outputs": []
    },
    {
      "cell_type": "code",
      "metadata": {
        "id": "1aIjrYuvRCVe",
        "colab_type": "code",
        "colab": {}
      },
      "source": [
        "# import inflect\n",
        "# p = inflect.engine()\n",
        "\n",
        "# def get_singular_words(plural_words):\n",
        "#   sing_words = []\n",
        "#   for word in plural_words:\n",
        "#     sing_words.append(p.singular_noun(word))\n",
        "#   return sing_words\n",
        "\n",
        "# words = [\"apples\", \"sheep\", \"oranges\", \"cats\", \"people\", \"dice\", \"pence\", \"trump\"]\n",
        "# sing_words = get_singular_words(words)\n",
        "# print(sing_words)"
      ],
      "execution_count": null,
      "outputs": []
    },
    {
      "cell_type": "code",
      "metadata": {
        "id": "q3TriuRe2bTl",
        "colab_type": "code",
        "colab": {}
      },
      "source": [
        "# from nltk.stem import PorterStemmer\n",
        "\n",
        "# porter=PorterStemmer()\n",
        "# def get_stem_words(plural_words):\n",
        "#   sing_words = []\n",
        "#   for word in plural_words:\n",
        "#     sing_words.append(porter.stem(word))\n",
        "#   return sing_words\n",
        "\n",
        "# words = [\"apples\", \"sheep\", \"oranges\", \"cats\", \"people\", \"dice\", \"pence\", \"trump\"]\n",
        "# stem_words = get_stem_words(words)\n",
        "# print(stem_words)"
      ],
      "execution_count": null,
      "outputs": []
    },
    {
      "cell_type": "code",
      "metadata": {
        "id": "KN162G1rQcVm",
        "colab_type": "code",
        "colab": {}
      },
      "source": [
        "# https://huggingface.co/transformers/main_classes/tokenizer.html\n",
        "# add words that are not in pre trained vocab as tokens\n",
        "\n",
        "# added_tokens = []\n",
        "# for key in ad_keys_clean:\n",
        "#   if key not in vocab_tokens:\n",
        "#     n = tokenizer.add_tokens(key)\n",
        "#     if n==1:\n",
        "#       added_tokens.append(key)\n",
        "# print('added '+ str(len(added_tokens)) +' to the vocab')\n",
        "# print(\"added words:\"+ str(added_tokens))"
      ],
      "execution_count": null,
      "outputs": []
    },
    {
      "cell_type": "code",
      "metadata": {
        "id": "D2se9bNGQqpg",
        "colab_type": "code",
        "colab": {}
      },
      "source": [
        "# #  check if all words in data corpus are present in the vocab\n",
        "# import pandas as pd\n",
        "# def add_tokens(add_tokens, df):\n",
        "#   tokens_df = pd.DataFrame() \n",
        "#   tokens_df['text_clean'] = df['text_clean']\n",
        "#   tokens = []\n",
        "\n",
        "#   vocab_tokens = list(tokenizer.vocab.keys()) # tokens present in the vocab\n",
        "#   print(\"Vocab size: \" + str(len(vocab_tokens)))\n",
        "\n",
        "#   # add_tokens = ['donald', 'trump', 'bryant', 'shakira', 'avosForMexico', 'jlo', 'j lo', 'pringles', 'budweiserusa', 'budweiser']\n",
        "#   n_tokens_added = tokenizer.add_tokens(add_tokens) # adds only if tokens are not already present\n",
        "#   print(str(n_tokens_added)+\" tokens added\")\n",
        "\n",
        "#   indexed_tokens = tokenizer.convert_tokens_to_ids(add_tokens)\n",
        "#   print(indexed_tokens)\n",
        "\n",
        "#   for add_token in add_tokens:\n",
        "#     if add_token in vocab_tokens:\n",
        "#       print(add_token + ' present in tokens')\n",
        "\n",
        "#   # model.resize_token_embeddings(len(tokenizer))  # Notice: resize_token_embeddings expect to receive the \n",
        "#   #  full size of the new vocabulary, i.e. the length of the tokenizer.\n",
        "#   for twt in tokens_df['text_clean']:\n",
        "#     # print(twt)\n",
        "#     if twt is not None :\n",
        "#       tokens.append(tokenizer.tokenize(str(twt)))\n",
        "#     else:\n",
        "#       tokens.append([])\n",
        "#   tokens_df['tokens'] = tokens\n",
        "#   print(tokens_df.head(100))\n",
        "# # tokens_df['tokens'] = tokens_df['text_clean'].apply(lambda x: loc_tokenizer.tokenize(x))\n"
      ],
      "execution_count": null,
      "outputs": []
    },
    {
      "cell_type": "code",
      "metadata": {
        "id": "lJh15OylCgoJ",
        "colab_type": "code",
        "colab": {}
      },
      "source": [
        "# # add embeddings\n",
        "# from transformers import BertModel\n",
        "\n",
        "# bert_model = BertModel.from_pretrained('bert-base-uncased',\n",
        "#                                   output_hidden_states = True) \n",
        "# bert_tokenizer = BertTokenizer.from_pretrained('bert-base-uncased')\n",
        "# input_ids = []\n",
        "# for sent in sentences:\n",
        "#   encoded_dict = bert_tokenizer.encode_plus(\n",
        "#                   sent,                      # Sentence to encode.\n",
        "#                   add_special_tokens = True, # Add '[CLS]' and '[SEP]'\n",
        "#                   return_tensors = 'pt',     # Return pytorch tensors.\n",
        "#                 )\n",
        "#   print(encoded_dict)\n",
        "#   print(sent+\":\")\n",
        "#   print(tokenizer.tokenize(sent))\n",
        "#   print('encoded_sent:'+ str(encoded_sent))"
      ],
      "execution_count": null,
      "outputs": []
    },
    {
      "cell_type": "code",
      "metadata": {
        "id": "sBerB_Ln4WUV",
        "colab_type": "code",
        "colab": {}
      },
      "source": [
        "# from transformers import DistilBertForTokenClassification\n",
        "# model = DistilBertForTokenClassification.from_pretrained(\n",
        "#     \"distilbert-base-uncased\", # Use the 12-layer BERT model, with an uncased vocab.\n",
        "#     num_labels = 128, # The number of output labels--2 for binary classification.\n",
        "#                     # You can increase this for multi-class tasks.   \n",
        "#     output_attentions = False, # Whether the model returns attentions weights.\n",
        "#     output_hidden_states = False, # Whether the model returns all hidden-states.\n",
        "# )\n",
        "# # Tell pytorch to run this model on the GPU.\n",
        "# model.cuda()"
      ],
      "execution_count": null,
      "outputs": []
    }
  ]
}